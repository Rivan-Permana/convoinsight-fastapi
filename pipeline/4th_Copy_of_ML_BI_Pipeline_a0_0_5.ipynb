{
  "cells": [
    {
      "cell_type": "markdown",
      "metadata": {
        "id": "Hf2IobHWECSp"
      },
      "source": [
        "# Install and import dependencies."
      ]
    },
    {
      "cell_type": "markdown",
      "metadata": {
        "id": "8q4B6qYiq083"
      },
      "source": [
        "Make sure the python version is higher than 3.8 and lower than 3.12."
      ]
    },
    {
      "cell_type": "code",
      "execution_count": null,
      "metadata": {
        "colab": {
          "base_uri": "https://localhost:8080/"
        },
        "id": "Kb82pgv4ND-X",
        "outputId": "e50ee90d-0bf9-466d-f6df-b92f081c54e0"
      },
      "outputs": [
        {
          "output_type": "stream",
          "name": "stdout",
          "text": [
            "Python 3.11.13\n"
          ]
        }
      ],
      "source": [
        "!python3 --version"
      ]
    },
    {
      "cell_type": "markdown",
      "metadata": {
        "id": "vTe-_x-Eq_cj"
      },
      "source": [
        "Install pandasai 3.0.0b2 or newer."
      ]
    },
    {
      "cell_type": "code",
      "execution_count": null,
      "metadata": {
        "colab": {
          "base_uri": "https://localhost:8080/"
        },
        "id": "bkBvRX9CHx4t",
        "outputId": "272a00bc-ed34-498d-98b0-28367471937b"
      },
      "outputs": [
        {
          "output_type": "stream",
          "name": "stdout",
          "text": [
            "Requirement already satisfied: pandasai>=3.0.0b2 in /usr/local/lib/python3.11/dist-packages (3.0.0b19)\n",
            "Requirement already satisfied: astor<0.9.0,>=0.8.1 in /usr/local/lib/python3.11/dist-packages (from pandasai>=3.0.0b2) (0.8.1)\n",
            "Requirement already satisfied: duckdb<2.0.0,>=1.0.0 in /usr/local/lib/python3.11/dist-packages (from pandasai>=3.0.0b2) (1.2.2)\n",
            "Requirement already satisfied: jinja2<4.0.0,>=3.1.3 in /usr/local/lib/python3.11/dist-packages (from pandasai>=3.0.0b2) (3.1.6)\n",
            "Requirement already satisfied: matplotlib<3.8,>=3.7.1 in /usr/local/lib/python3.11/dist-packages (from pandasai>=3.0.0b2) (3.7.5)\n",
            "Requirement already satisfied: numpy<2.0,>=1.17 in /usr/local/lib/python3.11/dist-packages (from pandasai>=3.0.0b2) (1.26.4)\n",
            "Requirement already satisfied: openpyxl<4.0.0,>=3.1.5 in /usr/local/lib/python3.11/dist-packages (from pandasai>=3.0.0b2) (3.1.5)\n",
            "Requirement already satisfied: pandas<3.0.0,>=2.0.3 in /usr/local/lib/python3.11/dist-packages (from pandasai>=3.0.0b2) (2.2.2)\n",
            "Requirement already satisfied: pillow<11.0.0,>=10.1.0 in /usr/local/lib/python3.11/dist-packages (from pandasai>=3.0.0b2) (10.4.0)\n",
            "Requirement already satisfied: pyarrow<15.0.0,>=14.0.1 in /usr/local/lib/python3.11/dist-packages (from pandasai>=3.0.0b2) (14.0.2)\n",
            "Requirement already satisfied: pydantic<3.0.0,>=2.6.4 in /usr/local/lib/python3.11/dist-packages (from pandasai>=3.0.0b2) (2.11.7)\n",
            "Requirement already satisfied: python-dotenv<2.0.0,>=1.0.0 in /usr/local/lib/python3.11/dist-packages (from pandasai>=3.0.0b2) (1.1.1)\n",
            "Requirement already satisfied: pyyaml<7.0.0,>=6.0.2 in /usr/local/lib/python3.11/dist-packages (from pandasai>=3.0.0b2) (6.0.2)\n",
            "Requirement already satisfied: requests<3.0.0,>=2.31.0 in /usr/local/lib/python3.11/dist-packages (from pandasai>=3.0.0b2) (2.32.3)\n",
            "Requirement already satisfied: scipy==1.10.1 in /usr/local/lib/python3.11/dist-packages (from pandasai>=3.0.0b2) (1.10.1)\n",
            "Requirement already satisfied: seaborn<0.13.0,>=0.12.2 in /usr/local/lib/python3.11/dist-packages (from pandasai>=3.0.0b2) (0.12.2)\n",
            "Requirement already satisfied: sqlglot<26.0.0,>=25.0.3 in /usr/local/lib/python3.11/dist-packages (from pandasai>=3.0.0b2) (25.20.2)\n",
            "Requirement already satisfied: MarkupSafe>=2.0 in /usr/local/lib/python3.11/dist-packages (from jinja2<4.0.0,>=3.1.3->pandasai>=3.0.0b2) (3.0.2)\n",
            "Requirement already satisfied: contourpy>=1.0.1 in /usr/local/lib/python3.11/dist-packages (from matplotlib<3.8,>=3.7.1->pandasai>=3.0.0b2) (1.3.2)\n",
            "Requirement already satisfied: cycler>=0.10 in /usr/local/lib/python3.11/dist-packages (from matplotlib<3.8,>=3.7.1->pandasai>=3.0.0b2) (0.12.1)\n",
            "Requirement already satisfied: fonttools>=4.22.0 in /usr/local/lib/python3.11/dist-packages (from matplotlib<3.8,>=3.7.1->pandasai>=3.0.0b2) (4.58.5)\n",
            "Requirement already satisfied: kiwisolver>=1.0.1 in /usr/local/lib/python3.11/dist-packages (from matplotlib<3.8,>=3.7.1->pandasai>=3.0.0b2) (1.4.8)\n",
            "Requirement already satisfied: packaging>=20.0 in /usr/local/lib/python3.11/dist-packages (from matplotlib<3.8,>=3.7.1->pandasai>=3.0.0b2) (24.2)\n",
            "Requirement already satisfied: pyparsing>=2.3.1 in /usr/local/lib/python3.11/dist-packages (from matplotlib<3.8,>=3.7.1->pandasai>=3.0.0b2) (3.2.3)\n",
            "Requirement already satisfied: python-dateutil>=2.7 in /usr/local/lib/python3.11/dist-packages (from matplotlib<3.8,>=3.7.1->pandasai>=3.0.0b2) (2.9.0.post0)\n",
            "Requirement already satisfied: et-xmlfile in /usr/local/lib/python3.11/dist-packages (from openpyxl<4.0.0,>=3.1.5->pandasai>=3.0.0b2) (2.0.0)\n",
            "Requirement already satisfied: pytz>=2020.1 in /usr/local/lib/python3.11/dist-packages (from pandas<3.0.0,>=2.0.3->pandasai>=3.0.0b2) (2025.2)\n",
            "Requirement already satisfied: tzdata>=2022.7 in /usr/local/lib/python3.11/dist-packages (from pandas<3.0.0,>=2.0.3->pandasai>=3.0.0b2) (2025.2)\n",
            "Requirement already satisfied: annotated-types>=0.6.0 in /usr/local/lib/python3.11/dist-packages (from pydantic<3.0.0,>=2.6.4->pandasai>=3.0.0b2) (0.7.0)\n",
            "Requirement already satisfied: pydantic-core==2.33.2 in /usr/local/lib/python3.11/dist-packages (from pydantic<3.0.0,>=2.6.4->pandasai>=3.0.0b2) (2.33.2)\n",
            "Requirement already satisfied: typing-extensions>=4.12.2 in /usr/local/lib/python3.11/dist-packages (from pydantic<3.0.0,>=2.6.4->pandasai>=3.0.0b2) (4.14.1)\n",
            "Requirement already satisfied: typing-inspection>=0.4.0 in /usr/local/lib/python3.11/dist-packages (from pydantic<3.0.0,>=2.6.4->pandasai>=3.0.0b2) (0.4.1)\n",
            "Requirement already satisfied: charset-normalizer<4,>=2 in /usr/local/lib/python3.11/dist-packages (from requests<3.0.0,>=2.31.0->pandasai>=3.0.0b2) (3.4.2)\n",
            "Requirement already satisfied: idna<4,>=2.5 in /usr/local/lib/python3.11/dist-packages (from requests<3.0.0,>=2.31.0->pandasai>=3.0.0b2) (3.10)\n",
            "Requirement already satisfied: urllib3<3,>=1.21.1 in /usr/local/lib/python3.11/dist-packages (from requests<3.0.0,>=2.31.0->pandasai>=3.0.0b2) (2.4.0)\n",
            "Requirement already satisfied: certifi>=2017.4.17 in /usr/local/lib/python3.11/dist-packages (from requests<3.0.0,>=2.31.0->pandasai>=3.0.0b2) (2025.7.14)\n",
            "Requirement already satisfied: six>=1.5 in /usr/local/lib/python3.11/dist-packages (from python-dateutil>=2.7->matplotlib<3.8,>=3.7.1->pandasai>=3.0.0b2) (1.17.0)\n"
          ]
        }
      ],
      "source": [
        "!pip install \"pandasai>=3.0.0b2\""
      ]
    },
    {
      "cell_type": "markdown",
      "metadata": {
        "id": "kTCflbCbrF_j"
      },
      "source": [
        "Intall pandasai liteLLM."
      ]
    },
    {
      "cell_type": "code",
      "execution_count": null,
      "metadata": {
        "colab": {
          "base_uri": "https://localhost:8080/"
        },
        "id": "3mpqZs7Pp1Bb",
        "outputId": "82729695-ccdd-44dd-9c62-1e073ee58c8c"
      },
      "outputs": [
        {
          "output_type": "stream",
          "name": "stdout",
          "text": [
            "Requirement already satisfied: pandasai-litellm in /usr/local/lib/python3.11/dist-packages (0.0.1)\n",
            "Requirement already satisfied: litellm<2.0.0,>=1.61.20 in /usr/local/lib/python3.11/dist-packages (from pandasai-litellm) (1.77.1)\n",
            "Requirement already satisfied: pandasai>=3.0.0b4 in /usr/local/lib/python3.11/dist-packages (from pandasai-litellm) (3.0.0b19)\n",
            "Requirement already satisfied: aiohttp>=3.10 in /usr/local/lib/python3.11/dist-packages (from litellm<2.0.0,>=1.61.20->pandasai-litellm) (3.11.15)\n",
            "Requirement already satisfied: click in /usr/local/lib/python3.11/dist-packages (from litellm<2.0.0,>=1.61.20->pandasai-litellm) (8.2.1)\n",
            "Requirement already satisfied: fastuuid>=0.12.0 in /usr/local/lib/python3.11/dist-packages (from litellm<2.0.0,>=1.61.20->pandasai-litellm) (0.12.0)\n",
            "Requirement already satisfied: httpx>=0.23.0 in /usr/local/lib/python3.11/dist-packages (from litellm<2.0.0,>=1.61.20->pandasai-litellm) (0.28.1)\n",
            "Requirement already satisfied: importlib-metadata>=6.8.0 in /usr/local/lib/python3.11/dist-packages (from litellm<2.0.0,>=1.61.20->pandasai-litellm) (8.7.0)\n",
            "Requirement already satisfied: jinja2<4.0.0,>=3.1.2 in /usr/local/lib/python3.11/dist-packages (from litellm<2.0.0,>=1.61.20->pandasai-litellm) (3.1.6)\n",
            "Requirement already satisfied: jsonschema<5.0.0,>=4.22.0 in /usr/local/lib/python3.11/dist-packages (from litellm<2.0.0,>=1.61.20->pandasai-litellm) (4.24.0)\n",
            "Requirement already satisfied: openai>=1.99.5 in /usr/local/lib/python3.11/dist-packages (from litellm<2.0.0,>=1.61.20->pandasai-litellm) (1.107.3)\n",
            "Requirement already satisfied: pydantic<3.0.0,>=2.5.0 in /usr/local/lib/python3.11/dist-packages (from litellm<2.0.0,>=1.61.20->pandasai-litellm) (2.11.7)\n",
            "Requirement already satisfied: python-dotenv>=0.2.0 in /usr/local/lib/python3.11/dist-packages (from litellm<2.0.0,>=1.61.20->pandasai-litellm) (1.1.1)\n",
            "Requirement already satisfied: tiktoken>=0.7.0 in /usr/local/lib/python3.11/dist-packages (from litellm<2.0.0,>=1.61.20->pandasai-litellm) (0.9.0)\n",
            "Requirement already satisfied: tokenizers in /usr/local/lib/python3.11/dist-packages (from litellm<2.0.0,>=1.61.20->pandasai-litellm) (0.21.2)\n",
            "Requirement already satisfied: astor<0.9.0,>=0.8.1 in /usr/local/lib/python3.11/dist-packages (from pandasai>=3.0.0b4->pandasai-litellm) (0.8.1)\n",
            "Requirement already satisfied: duckdb<2.0.0,>=1.0.0 in /usr/local/lib/python3.11/dist-packages (from pandasai>=3.0.0b4->pandasai-litellm) (1.2.2)\n",
            "Requirement already satisfied: matplotlib<3.8,>=3.7.1 in /usr/local/lib/python3.11/dist-packages (from pandasai>=3.0.0b4->pandasai-litellm) (3.7.5)\n",
            "Requirement already satisfied: numpy<2.0,>=1.17 in /usr/local/lib/python3.11/dist-packages (from pandasai>=3.0.0b4->pandasai-litellm) (1.26.4)\n",
            "Requirement already satisfied: openpyxl<4.0.0,>=3.1.5 in /usr/local/lib/python3.11/dist-packages (from pandasai>=3.0.0b4->pandasai-litellm) (3.1.5)\n",
            "Requirement already satisfied: pandas<3.0.0,>=2.0.3 in /usr/local/lib/python3.11/dist-packages (from pandasai>=3.0.0b4->pandasai-litellm) (2.2.2)\n",
            "Requirement already satisfied: pillow<11.0.0,>=10.1.0 in /usr/local/lib/python3.11/dist-packages (from pandasai>=3.0.0b4->pandasai-litellm) (10.4.0)\n",
            "Requirement already satisfied: pyarrow<15.0.0,>=14.0.1 in /usr/local/lib/python3.11/dist-packages (from pandasai>=3.0.0b4->pandasai-litellm) (14.0.2)\n",
            "Requirement already satisfied: pyyaml<7.0.0,>=6.0.2 in /usr/local/lib/python3.11/dist-packages (from pandasai>=3.0.0b4->pandasai-litellm) (6.0.2)\n",
            "Requirement already satisfied: requests<3.0.0,>=2.31.0 in /usr/local/lib/python3.11/dist-packages (from pandasai>=3.0.0b4->pandasai-litellm) (2.32.3)\n",
            "Requirement already satisfied: scipy==1.10.1 in /usr/local/lib/python3.11/dist-packages (from pandasai>=3.0.0b4->pandasai-litellm) (1.10.1)\n",
            "Requirement already satisfied: seaborn<0.13.0,>=0.12.2 in /usr/local/lib/python3.11/dist-packages (from pandasai>=3.0.0b4->pandasai-litellm) (0.12.2)\n",
            "Requirement already satisfied: sqlglot<26.0.0,>=25.0.3 in /usr/local/lib/python3.11/dist-packages (from pandasai>=3.0.0b4->pandasai-litellm) (25.20.2)\n",
            "Requirement already satisfied: aiohappyeyeballs>=2.3.0 in /usr/local/lib/python3.11/dist-packages (from aiohttp>=3.10->litellm<2.0.0,>=1.61.20->pandasai-litellm) (2.6.1)\n",
            "Requirement already satisfied: aiosignal>=1.1.2 in /usr/local/lib/python3.11/dist-packages (from aiohttp>=3.10->litellm<2.0.0,>=1.61.20->pandasai-litellm) (1.4.0)\n",
            "Requirement already satisfied: attrs>=17.3.0 in /usr/local/lib/python3.11/dist-packages (from aiohttp>=3.10->litellm<2.0.0,>=1.61.20->pandasai-litellm) (25.3.0)\n",
            "Requirement already satisfied: frozenlist>=1.1.1 in /usr/local/lib/python3.11/dist-packages (from aiohttp>=3.10->litellm<2.0.0,>=1.61.20->pandasai-litellm) (1.7.0)\n",
            "Requirement already satisfied: multidict<7.0,>=4.5 in /usr/local/lib/python3.11/dist-packages (from aiohttp>=3.10->litellm<2.0.0,>=1.61.20->pandasai-litellm) (6.6.3)\n",
            "Requirement already satisfied: propcache>=0.2.0 in /usr/local/lib/python3.11/dist-packages (from aiohttp>=3.10->litellm<2.0.0,>=1.61.20->pandasai-litellm) (0.3.2)\n",
            "Requirement already satisfied: yarl<2.0,>=1.17.0 in /usr/local/lib/python3.11/dist-packages (from aiohttp>=3.10->litellm<2.0.0,>=1.61.20->pandasai-litellm) (1.20.1)\n",
            "Requirement already satisfied: anyio in /usr/local/lib/python3.11/dist-packages (from httpx>=0.23.0->litellm<2.0.0,>=1.61.20->pandasai-litellm) (4.9.0)\n",
            "Requirement already satisfied: certifi in /usr/local/lib/python3.11/dist-packages (from httpx>=0.23.0->litellm<2.0.0,>=1.61.20->pandasai-litellm) (2025.7.14)\n",
            "Requirement already satisfied: httpcore==1.* in /usr/local/lib/python3.11/dist-packages (from httpx>=0.23.0->litellm<2.0.0,>=1.61.20->pandasai-litellm) (1.0.9)\n",
            "Requirement already satisfied: idna in /usr/local/lib/python3.11/dist-packages (from httpx>=0.23.0->litellm<2.0.0,>=1.61.20->pandasai-litellm) (3.10)\n",
            "Requirement already satisfied: h11>=0.16 in /usr/local/lib/python3.11/dist-packages (from httpcore==1.*->httpx>=0.23.0->litellm<2.0.0,>=1.61.20->pandasai-litellm) (0.16.0)\n",
            "Requirement already satisfied: zipp>=3.20 in /usr/local/lib/python3.11/dist-packages (from importlib-metadata>=6.8.0->litellm<2.0.0,>=1.61.20->pandasai-litellm) (3.23.0)\n",
            "Requirement already satisfied: MarkupSafe>=2.0 in /usr/local/lib/python3.11/dist-packages (from jinja2<4.0.0,>=3.1.2->litellm<2.0.0,>=1.61.20->pandasai-litellm) (3.0.2)\n",
            "Requirement already satisfied: jsonschema-specifications>=2023.03.6 in /usr/local/lib/python3.11/dist-packages (from jsonschema<5.0.0,>=4.22.0->litellm<2.0.0,>=1.61.20->pandasai-litellm) (2025.4.1)\n",
            "Requirement already satisfied: referencing>=0.28.4 in /usr/local/lib/python3.11/dist-packages (from jsonschema<5.0.0,>=4.22.0->litellm<2.0.0,>=1.61.20->pandasai-litellm) (0.36.2)\n",
            "Requirement already satisfied: rpds-py>=0.7.1 in /usr/local/lib/python3.11/dist-packages (from jsonschema<5.0.0,>=4.22.0->litellm<2.0.0,>=1.61.20->pandasai-litellm) (0.26.0)\n",
            "Requirement already satisfied: contourpy>=1.0.1 in /usr/local/lib/python3.11/dist-packages (from matplotlib<3.8,>=3.7.1->pandasai>=3.0.0b4->pandasai-litellm) (1.3.2)\n",
            "Requirement already satisfied: cycler>=0.10 in /usr/local/lib/python3.11/dist-packages (from matplotlib<3.8,>=3.7.1->pandasai>=3.0.0b4->pandasai-litellm) (0.12.1)\n",
            "Requirement already satisfied: fonttools>=4.22.0 in /usr/local/lib/python3.11/dist-packages (from matplotlib<3.8,>=3.7.1->pandasai>=3.0.0b4->pandasai-litellm) (4.58.5)\n",
            "Requirement already satisfied: kiwisolver>=1.0.1 in /usr/local/lib/python3.11/dist-packages (from matplotlib<3.8,>=3.7.1->pandasai>=3.0.0b4->pandasai-litellm) (1.4.8)\n",
            "Requirement already satisfied: packaging>=20.0 in /usr/local/lib/python3.11/dist-packages (from matplotlib<3.8,>=3.7.1->pandasai>=3.0.0b4->pandasai-litellm) (24.2)\n",
            "Requirement already satisfied: pyparsing>=2.3.1 in /usr/local/lib/python3.11/dist-packages (from matplotlib<3.8,>=3.7.1->pandasai>=3.0.0b4->pandasai-litellm) (3.2.3)\n",
            "Requirement already satisfied: python-dateutil>=2.7 in /usr/local/lib/python3.11/dist-packages (from matplotlib<3.8,>=3.7.1->pandasai>=3.0.0b4->pandasai-litellm) (2.9.0.post0)\n",
            "Requirement already satisfied: distro<2,>=1.7.0 in /usr/local/lib/python3.11/dist-packages (from openai>=1.99.5->litellm<2.0.0,>=1.61.20->pandasai-litellm) (1.9.0)\n",
            "Requirement already satisfied: jiter<1,>=0.4.0 in /usr/local/lib/python3.11/dist-packages (from openai>=1.99.5->litellm<2.0.0,>=1.61.20->pandasai-litellm) (0.10.0)\n",
            "Requirement already satisfied: sniffio in /usr/local/lib/python3.11/dist-packages (from openai>=1.99.5->litellm<2.0.0,>=1.61.20->pandasai-litellm) (1.3.1)\n",
            "Requirement already satisfied: tqdm>4 in /usr/local/lib/python3.11/dist-packages (from openai>=1.99.5->litellm<2.0.0,>=1.61.20->pandasai-litellm) (4.67.1)\n",
            "Requirement already satisfied: typing-extensions<5,>=4.11 in /usr/local/lib/python3.11/dist-packages (from openai>=1.99.5->litellm<2.0.0,>=1.61.20->pandasai-litellm) (4.14.1)\n",
            "Requirement already satisfied: et-xmlfile in /usr/local/lib/python3.11/dist-packages (from openpyxl<4.0.0,>=3.1.5->pandasai>=3.0.0b4->pandasai-litellm) (2.0.0)\n",
            "Requirement already satisfied: pytz>=2020.1 in /usr/local/lib/python3.11/dist-packages (from pandas<3.0.0,>=2.0.3->pandasai>=3.0.0b4->pandasai-litellm) (2025.2)\n",
            "Requirement already satisfied: tzdata>=2022.7 in /usr/local/lib/python3.11/dist-packages (from pandas<3.0.0,>=2.0.3->pandasai>=3.0.0b4->pandasai-litellm) (2025.2)\n",
            "Requirement already satisfied: annotated-types>=0.6.0 in /usr/local/lib/python3.11/dist-packages (from pydantic<3.0.0,>=2.5.0->litellm<2.0.0,>=1.61.20->pandasai-litellm) (0.7.0)\n",
            "Requirement already satisfied: pydantic-core==2.33.2 in /usr/local/lib/python3.11/dist-packages (from pydantic<3.0.0,>=2.5.0->litellm<2.0.0,>=1.61.20->pandasai-litellm) (2.33.2)\n",
            "Requirement already satisfied: typing-inspection>=0.4.0 in /usr/local/lib/python3.11/dist-packages (from pydantic<3.0.0,>=2.5.0->litellm<2.0.0,>=1.61.20->pandasai-litellm) (0.4.1)\n",
            "Requirement already satisfied: charset-normalizer<4,>=2 in /usr/local/lib/python3.11/dist-packages (from requests<3.0.0,>=2.31.0->pandasai>=3.0.0b4->pandasai-litellm) (3.4.2)\n",
            "Requirement already satisfied: urllib3<3,>=1.21.1 in /usr/local/lib/python3.11/dist-packages (from requests<3.0.0,>=2.31.0->pandasai>=3.0.0b4->pandasai-litellm) (2.4.0)\n",
            "Requirement already satisfied: regex>=2022.1.18 in /usr/local/lib/python3.11/dist-packages (from tiktoken>=0.7.0->litellm<2.0.0,>=1.61.20->pandasai-litellm) (2024.11.6)\n",
            "Requirement already satisfied: huggingface-hub<1.0,>=0.16.4 in /usr/local/lib/python3.11/dist-packages (from tokenizers->litellm<2.0.0,>=1.61.20->pandasai-litellm) (0.33.4)\n",
            "Requirement already satisfied: filelock in /usr/local/lib/python3.11/dist-packages (from huggingface-hub<1.0,>=0.16.4->tokenizers->litellm<2.0.0,>=1.61.20->pandasai-litellm) (3.18.0)\n",
            "Requirement already satisfied: fsspec>=2023.5.0 in /usr/local/lib/python3.11/dist-packages (from huggingface-hub<1.0,>=0.16.4->tokenizers->litellm<2.0.0,>=1.61.20->pandasai-litellm) (2025.3.2)\n",
            "Requirement already satisfied: hf-xet<2.0.0,>=1.1.2 in /usr/local/lib/python3.11/dist-packages (from huggingface-hub<1.0,>=0.16.4->tokenizers->litellm<2.0.0,>=1.61.20->pandasai-litellm) (1.1.5)\n",
            "Requirement already satisfied: six>=1.5 in /usr/local/lib/python3.11/dist-packages (from python-dateutil>=2.7->matplotlib<3.8,>=3.7.1->pandasai>=3.0.0b4->pandasai-litellm) (1.17.0)\n"
          ]
        }
      ],
      "source": [
        "!pip install pandasai-litellm"
      ]
    },
    {
      "cell_type": "markdown",
      "metadata": {
        "id": "hlaQMoEvqPSE"
      },
      "source": [
        "Import dependencies."
      ]
    },
    {
      "cell_type": "code",
      "execution_count": null,
      "metadata": {
        "id": "BE56sfhANBfI"
      },
      "outputs": [],
      "source": [
        "import os\n",
        "import io\n",
        "import re\n",
        "import time\n",
        "import json\n",
        "import random\n",
        "import pandas as pd\n",
        "import pandasai as pai\n",
        "from getpass import getpass\n",
        "from litellm import completion\n",
        "from google.colab import files\n",
        "from pandasai import SmartDataframe, SmartDatalake\n",
        "from pandasai_litellm.litellm import LiteLLM\n",
        "from pandasai.core.response.dataframe import DataFrameResponse"
      ]
    },
    {
      "cell_type": "markdown",
      "metadata": {
        "id": "dOjGOVl5I2sN"
      },
      "source": [
        "# Create new domain."
      ]
    },
    {
      "cell_type": "markdown",
      "metadata": {
        "id": "P7TDyG01qhFU"
      },
      "source": [
        "Input domain name."
      ]
    },
    {
      "cell_type": "code",
      "execution_count": null,
      "metadata": {
        "colab": {
          "base_uri": "https://localhost:8080/"
        },
        "id": "JGJadUKEpE0S",
        "outputId": "054bbc47-b984-4570-80e1-82046ed6ff4c"
      },
      "outputs": [
        {
          "name": "stdout",
          "output_type": "stream",
          "text": [
            "Enter new domain name: Campaign\n"
          ]
        }
      ],
      "source": [
        "domain = input(\"Enter new domain name: \")"
      ]
    },
    {
      "cell_type": "markdown",
      "metadata": {
        "id": "aV0Cy9ueqi_T"
      },
      "source": [
        "Upload files."
      ]
    },
    {
      "cell_type": "code",
      "execution_count": null,
      "metadata": {
        "colab": {
          "base_uri": "https://localhost:8080/",
          "height": 37
        },
        "id": "-nW-W_O_oV8O",
        "outputId": "50af4261-85c7-4283-d293-555222029a62"
      },
      "outputs": [
        {
          "output_type": "display_data",
          "data": {
            "text/plain": [
              "<IPython.core.display.HTML object>"
            ],
            "text/html": [
              "\n",
              "     <input type=\"file\" id=\"files-ad53d3ce-0ff5-4668-b0ea-a751691baa1c\" name=\"files[]\" multiple disabled\n",
              "        style=\"border:none\" />\n",
              "     <output id=\"result-ad53d3ce-0ff5-4668-b0ea-a751691baa1c\">\n",
              "      Upload widget is only available when the cell has been executed in the\n",
              "      current browser session. Please rerun this cell to enable.\n",
              "      </output>\n",
              "      <script>// Copyright 2017 Google LLC\n",
              "//\n",
              "// Licensed under the Apache License, Version 2.0 (the \"License\");\n",
              "// you may not use this file except in compliance with the License.\n",
              "// You may obtain a copy of the License at\n",
              "//\n",
              "//      http://www.apache.org/licenses/LICENSE-2.0\n",
              "//\n",
              "// Unless required by applicable law or agreed to in writing, software\n",
              "// distributed under the License is distributed on an \"AS IS\" BASIS,\n",
              "// WITHOUT WARRANTIES OR CONDITIONS OF ANY KIND, either express or implied.\n",
              "// See the License for the specific language governing permissions and\n",
              "// limitations under the License.\n",
              "\n",
              "/**\n",
              " * @fileoverview Helpers for google.colab Python module.\n",
              " */\n",
              "(function(scope) {\n",
              "function span(text, styleAttributes = {}) {\n",
              "  const element = document.createElement('span');\n",
              "  element.textContent = text;\n",
              "  for (const key of Object.keys(styleAttributes)) {\n",
              "    element.style[key] = styleAttributes[key];\n",
              "  }\n",
              "  return element;\n",
              "}\n",
              "\n",
              "// Max number of bytes which will be uploaded at a time.\n",
              "const MAX_PAYLOAD_SIZE = 100 * 1024;\n",
              "\n",
              "function _uploadFiles(inputId, outputId) {\n",
              "  const steps = uploadFilesStep(inputId, outputId);\n",
              "  const outputElement = document.getElementById(outputId);\n",
              "  // Cache steps on the outputElement to make it available for the next call\n",
              "  // to uploadFilesContinue from Python.\n",
              "  outputElement.steps = steps;\n",
              "\n",
              "  return _uploadFilesContinue(outputId);\n",
              "}\n",
              "\n",
              "// This is roughly an async generator (not supported in the browser yet),\n",
              "// where there are multiple asynchronous steps and the Python side is going\n",
              "// to poll for completion of each step.\n",
              "// This uses a Promise to block the python side on completion of each step,\n",
              "// then passes the result of the previous step as the input to the next step.\n",
              "function _uploadFilesContinue(outputId) {\n",
              "  const outputElement = document.getElementById(outputId);\n",
              "  const steps = outputElement.steps;\n",
              "\n",
              "  const next = steps.next(outputElement.lastPromiseValue);\n",
              "  return Promise.resolve(next.value.promise).then((value) => {\n",
              "    // Cache the last promise value to make it available to the next\n",
              "    // step of the generator.\n",
              "    outputElement.lastPromiseValue = value;\n",
              "    return next.value.response;\n",
              "  });\n",
              "}\n",
              "\n",
              "/**\n",
              " * Generator function which is called between each async step of the upload\n",
              " * process.\n",
              " * @param {string} inputId Element ID of the input file picker element.\n",
              " * @param {string} outputId Element ID of the output display.\n",
              " * @return {!Iterable<!Object>} Iterable of next steps.\n",
              " */\n",
              "function* uploadFilesStep(inputId, outputId) {\n",
              "  const inputElement = document.getElementById(inputId);\n",
              "  inputElement.disabled = false;\n",
              "\n",
              "  const outputElement = document.getElementById(outputId);\n",
              "  outputElement.innerHTML = '';\n",
              "\n",
              "  const pickedPromise = new Promise((resolve) => {\n",
              "    inputElement.addEventListener('change', (e) => {\n",
              "      resolve(e.target.files);\n",
              "    });\n",
              "  });\n",
              "\n",
              "  const cancel = document.createElement('button');\n",
              "  inputElement.parentElement.appendChild(cancel);\n",
              "  cancel.textContent = 'Cancel upload';\n",
              "  const cancelPromise = new Promise((resolve) => {\n",
              "    cancel.onclick = () => {\n",
              "      resolve(null);\n",
              "    };\n",
              "  });\n",
              "\n",
              "  // Wait for the user to pick the files.\n",
              "  const files = yield {\n",
              "    promise: Promise.race([pickedPromise, cancelPromise]),\n",
              "    response: {\n",
              "      action: 'starting',\n",
              "    }\n",
              "  };\n",
              "\n",
              "  cancel.remove();\n",
              "\n",
              "  // Disable the input element since further picks are not allowed.\n",
              "  inputElement.disabled = true;\n",
              "\n",
              "  if (!files) {\n",
              "    return {\n",
              "      response: {\n",
              "        action: 'complete',\n",
              "      }\n",
              "    };\n",
              "  }\n",
              "\n",
              "  for (const file of files) {\n",
              "    const li = document.createElement('li');\n",
              "    li.append(span(file.name, {fontWeight: 'bold'}));\n",
              "    li.append(span(\n",
              "        `(${file.type || 'n/a'}) - ${file.size} bytes, ` +\n",
              "        `last modified: ${\n",
              "            file.lastModifiedDate ? file.lastModifiedDate.toLocaleDateString() :\n",
              "                                    'n/a'} - `));\n",
              "    const percent = span('0% done');\n",
              "    li.appendChild(percent);\n",
              "\n",
              "    outputElement.appendChild(li);\n",
              "\n",
              "    const fileDataPromise = new Promise((resolve) => {\n",
              "      const reader = new FileReader();\n",
              "      reader.onload = (e) => {\n",
              "        resolve(e.target.result);\n",
              "      };\n",
              "      reader.readAsArrayBuffer(file);\n",
              "    });\n",
              "    // Wait for the data to be ready.\n",
              "    let fileData = yield {\n",
              "      promise: fileDataPromise,\n",
              "      response: {\n",
              "        action: 'continue',\n",
              "      }\n",
              "    };\n",
              "\n",
              "    // Use a chunked sending to avoid message size limits. See b/62115660.\n",
              "    let position = 0;\n",
              "    do {\n",
              "      const length = Math.min(fileData.byteLength - position, MAX_PAYLOAD_SIZE);\n",
              "      const chunk = new Uint8Array(fileData, position, length);\n",
              "      position += length;\n",
              "\n",
              "      const base64 = btoa(String.fromCharCode.apply(null, chunk));\n",
              "      yield {\n",
              "        response: {\n",
              "          action: 'append',\n",
              "          file: file.name,\n",
              "          data: base64,\n",
              "        },\n",
              "      };\n",
              "\n",
              "      let percentDone = fileData.byteLength === 0 ?\n",
              "          100 :\n",
              "          Math.round((position / fileData.byteLength) * 100);\n",
              "      percent.textContent = `${percentDone}% done`;\n",
              "\n",
              "    } while (position < fileData.byteLength);\n",
              "  }\n",
              "\n",
              "  // All done.\n",
              "  yield {\n",
              "    response: {\n",
              "      action: 'complete',\n",
              "    }\n",
              "  };\n",
              "}\n",
              "\n",
              "scope.google = scope.google || {};\n",
              "scope.google.colab = scope.google.colab || {};\n",
              "scope.google.colab._files = {\n",
              "  _uploadFiles,\n",
              "  _uploadFilesContinue,\n",
              "};\n",
              "})(self);\n",
              "</script> "
            ]
          },
          "metadata": {}
        }
      ],
      "source": [
        "uploaded = files.upload(f\"/domain/{domain}\")\n",
        "\n",
        "for fn in uploaded.keys():\n",
        "  print('User uploaded file \"{name}\" with length {length} bytes'.format(\n",
        "      name=fn, length=len(uploaded[fn])))"
      ]
    },
    {
      "cell_type": "markdown",
      "metadata": {
        "id": "CyTseOmn3XIP"
      },
      "source": [
        "Get list of the uploaded files."
      ]
    },
    {
      "cell_type": "code",
      "execution_count": null,
      "metadata": {
        "colab": {
          "base_uri": "https://localhost:8080/"
        },
        "id": "GYAa3XjNr9lK",
        "outputId": "d443b01a-2dba-4ff9-a57d-cd72eaeab87a"
      },
      "outputs": [
        {
          "output_type": "stream",
          "name": "stdout",
          "text": [
            "Files in '/domain/Campaign':\n",
            "channel_m0.csv\n",
            "cumulative.csv\n",
            "product.csv\n",
            "arpu.csv\n",
            "product_dsc.csv\n",
            "trend_target_addon.csv\n",
            "period.csv\n",
            "periode_date.csv\n",
            "channel_m1.csv\n",
            "daily.csv\n",
            "area_m1.csv\n",
            "branch.csv\n",
            "area_m0.csv\n",
            "region_m1.csv\n",
            "region_m0.csv\n"
          ]
        }
      ],
      "source": [
        "def list_files_in_directory(directory_path):\n",
        "    \"\"\"\n",
        "    Lists all files within a specified directory.\n",
        "\n",
        "    Args:\n",
        "        directory_path (str): The path to the directory.\n",
        "\n",
        "    Returns:\n",
        "        list: A list of file names found in the directory.\n",
        "    \"\"\"\n",
        "    files_in_directory = []\n",
        "    try:\n",
        "        all_entries = os.listdir(directory_path)\n",
        "\n",
        "        for entry in all_entries:\n",
        "            full_path = os.path.join(directory_path, entry)\n",
        "            if os.path.isfile(full_path):\n",
        "                files_in_directory.append(entry)\n",
        "    except FileNotFoundError:\n",
        "        print(f\"Error: Directory not found at '{directory_path}'\")\n",
        "    except Exception as e:\n",
        "        print(f\"An error occurred: {e}\")\n",
        "    return files_in_directory\n",
        "\n",
        "directory_to_check = f'/domain/{domain}'\n",
        "\n",
        "files = list_files_in_directory(directory_to_check)\n",
        "\n",
        "if files:\n",
        "    print(f\"Files in '{directory_to_check}':\")\n",
        "    for file_name in files:\n",
        "        print(file_name)\n",
        "else:\n",
        "    print(f\"No files found in '{directory_to_check}' or an error occurred.\")"
      ]
    },
    {
      "cell_type": "markdown",
      "metadata": {
        "id": "QSrhfcqd2tnj"
      },
      "source": [
        "Collect .info() of each dataset to be used."
      ]
    },
    {
      "cell_type": "code",
      "execution_count": null,
      "metadata": {
        "colab": {
          "base_uri": "https://localhost:8080/"
        },
        "id": "XzWf0672RDdn",
        "outputId": "0a5aabba-995c-4cab-9f7a-e537c17dae78"
      },
      "outputs": [
        {
          "output_type": "stream",
          "name": "stdout",
          "text": [
            "<class 'pandas.core.frame.DataFrame'>\n",
            "RangeIndex: 10 entries, 0 to 9\n",
            "Data columns (total 4 columns):\n",
            " #   Column        Non-Null Count  Dtype  \n",
            "---  ------        --------------  -----  \n",
            " 0   channel_name  10 non-null     object \n",
            " 1   taker         10 non-null     int64  \n",
            " 2   trx           10 non-null     int64  \n",
            " 3   rev           10 non-null     float64\n",
            "dtypes: float64(1), int64(2), object(1)\n",
            "memory usage: 452.0+ bytes\n",
            "<class 'pandas.core.frame.DataFrame'>\n",
            "RangeIndex: 1 entries, 0 to 0\n",
            "Data columns (total 7 columns):\n",
            " #   Column            Non-Null Count  Dtype  \n",
            "---  ------            --------------  -----  \n",
            " 0   event_date        1 non-null      object \n",
            " 1   latest_period_wl  0 non-null      float64\n",
            " 2   cum_target        1 non-null      int64  \n",
            " 3   cum_deliv         1 non-null      int64  \n",
            " 4   cum_taker         1 non-null      int64  \n",
            " 5   cum_trx           1 non-null      int64  \n",
            " 6   cum_rev           1 non-null      float64\n",
            "dtypes: float64(2), int64(4), object(1)\n",
            "memory usage: 188.0+ bytes\n",
            "<class 'pandas.core.frame.DataFrame'>\n",
            "RangeIndex: 33 entries, 0 to 32\n",
            "Data columns (total 15 columns):\n",
            " #   Column          Non-Null Count  Dtype  \n",
            "---  ------          --------------  -----  \n",
            " 0   sort_order      33 non-null     int64  \n",
            " 1   product_group   33 non-null     object \n",
            " 2   product         33 non-null     object \n",
            " 3   target          33 non-null     int64  \n",
            " 4   taker_m0        33 non-null     int64  \n",
            " 5   taker_m1        33 non-null     int64  \n",
            " 6   trx_m0          33 non-null     int64  \n",
            " 7   trx_m1          33 non-null     int64  \n",
            " 8   rev_squad_m0    33 non-null     float64\n",
            " 9   rev_squad_m1    33 non-null     float64\n",
            " 10  rev_all         33 non-null     float64\n",
            " 11  deliv_m0        33 non-null     int64  \n",
            " 12  deliv_m1        33 non-null     int64  \n",
            " 13  deliv_taker_m0  33 non-null     int64  \n",
            " 14  deliv_taker_m1  33 non-null     int64  \n",
            "dtypes: float64(3), int64(10), object(2)\n",
            "memory usage: 4.0+ KB\n",
            "<class 'pandas.core.frame.DataFrame'>\n",
            "RangeIndex: 6 entries, 0 to 5\n",
            "Data columns (total 4 columns):\n",
            " #   Column    Non-Null Count  Dtype  \n",
            "---  ------    --------------  -----  \n",
            " 0   arpu_cat  6 non-null      object \n",
            " 1   taker     6 non-null      int64  \n",
            " 2   trx       6 non-null      int64  \n",
            " 3   rev       6 non-null      float64\n",
            "dtypes: float64(1), int64(2), object(1)\n",
            "memory usage: 324.0+ bytes\n",
            "<class 'pandas.core.frame.DataFrame'>\n",
            "RangeIndex: 33 entries, 0 to 32\n",
            "Data columns (total 14 columns):\n",
            " #   Column          Non-Null Count  Dtype  \n",
            "---  ------          --------------  -----  \n",
            " 0   sort_order      33 non-null     int64  \n",
            " 1   product_group   33 non-null     object \n",
            " 2   product         33 non-null     object \n",
            " 3   target          33 non-null     int64  \n",
            " 4   taker_m0        33 non-null     int64  \n",
            " 5   taker_m1        33 non-null     int64  \n",
            " 6   trx_m0          33 non-null     int64  \n",
            " 7   trx_m1          33 non-null     int64  \n",
            " 8   rev_m0          33 non-null     float64\n",
            " 9   rev_m1          33 non-null     float64\n",
            " 10  deliv_m0        33 non-null     int64  \n",
            " 11  deliv_m1        33 non-null     int64  \n",
            " 12  deliv_taker_m0  33 non-null     int64  \n",
            " 13  deliv_taker_m1  33 non-null     int64  \n",
            "dtypes: float64(2), int64(10), object(2)\n",
            "memory usage: 3.7+ KB\n",
            "<class 'pandas.core.frame.DataFrame'>\n",
            "RangeIndex: 5 entries, 0 to 4\n",
            "Data columns (total 11 columns):\n",
            " #   Column                 Non-Null Count  Dtype  \n",
            "---  ------                 --------------  -----  \n",
            " 0   event_date             5 non-null      object \n",
            " 1   total_trx              5 non-null      int64  \n",
            " 2   cumulative_total_trx   5 non-null      int64  \n",
            " 3   target_trx             5 non-null      float64\n",
            " 4   cumulative_target_trx  5 non-null      float64\n",
            " 5   gap_taker              5 non-null      float64\n",
            " 6   total_rev              5 non-null      float64\n",
            " 7   cumulative_total_rev   5 non-null      float64\n",
            " 8   target_rev             5 non-null      float64\n",
            " 9   cumulative_target_rev  5 non-null      float64\n",
            " 10  gap_rev                5 non-null      float64\n",
            "dtypes: float64(8), int64(2), object(1)\n",
            "memory usage: 572.0+ bytes\n",
            "<class 'pandas.core.frame.DataFrame'>\n",
            "RangeIndex: 2 entries, 0 to 1\n",
            "Data columns (total 7 columns):\n",
            " #   Column       Non-Null Count  Dtype  \n",
            "---  ------       --------------  -----  \n",
            " 0   period       2 non-null      object \n",
            " 1   target       2 non-null      int64  \n",
            " 2   taker        2 non-null      int64  \n",
            " 3   trx          2 non-null      int64  \n",
            " 4   rev          2 non-null      float64\n",
            " 5   deliv        2 non-null      int64  \n",
            " 6   deliv_taker  2 non-null      int64  \n",
            "dtypes: float64(1), int64(5), object(1)\n",
            "memory usage: 244.0+ bytes\n",
            "<class 'pandas.core.frame.DataFrame'>\n",
            "RangeIndex: 1 entries, 0 to 0\n",
            "Data columns (total 1 columns):\n",
            " #   Column       Non-Null Count  Dtype \n",
            "---  ------       --------------  ----- \n",
            " 0   period_date  1 non-null      object\n",
            "dtypes: object(1)\n",
            "memory usage: 140.0+ bytes\n",
            "<class 'pandas.core.frame.DataFrame'>\n",
            "RangeIndex: 10 entries, 0 to 9\n",
            "Data columns (total 4 columns):\n",
            " #   Column        Non-Null Count  Dtype  \n",
            "---  ------        --------------  -----  \n",
            " 0   channel_name  10 non-null     object \n",
            " 1   taker         10 non-null     int64  \n",
            " 2   trx           10 non-null     int64  \n",
            " 3   rev           10 non-null     float64\n",
            "dtypes: float64(1), int64(2), object(1)\n",
            "memory usage: 452.0+ bytes\n",
            "<class 'pandas.core.frame.DataFrame'>\n",
            "RangeIndex: 5 entries, 0 to 4\n",
            "Data columns (total 7 columns):\n",
            " #   Column    Non-Null Count  Dtype  \n",
            "---  ------    --------------  -----  \n",
            " 0   day       5 non-null      int64  \n",
            " 1   trx_m1    5 non-null      int64  \n",
            " 2   trx_m0    5 non-null      int64  \n",
            " 3   rev_m1    5 non-null      float64\n",
            " 4   rev_m0    5 non-null      float64\n",
            " 5   deliv_m1  5 non-null      int64  \n",
            " 6   deliv_m0  5 non-null      int64  \n",
            "dtypes: float64(2), int64(5)\n",
            "memory usage: 412.0 bytes\n",
            "<class 'pandas.core.frame.DataFrame'>\n",
            "RangeIndex: 4 entries, 0 to 3\n",
            "Data columns (total 7 columns):\n",
            " #   Column       Non-Null Count  Dtype  \n",
            "---  ------       --------------  -----  \n",
            " 0   area         4 non-null      object \n",
            " 1   target       4 non-null      int64  \n",
            " 2   taker        4 non-null      int64  \n",
            " 3   trx          4 non-null      int64  \n",
            " 4   rev          4 non-null      float64\n",
            " 5   deliv        4 non-null      int64  \n",
            " 6   deliv_taker  4 non-null      int64  \n",
            "dtypes: float64(1), int64(5), object(1)\n",
            "memory usage: 356.0+ bytes\n",
            "<class 'pandas.core.frame.DataFrame'>\n",
            "RangeIndex: 10 entries, 0 to 9\n",
            "Data columns (total 6 columns):\n",
            " #   Column  Non-Null Count  Dtype  \n",
            "---  ------  --------------  -----  \n",
            " 0   branch  10 non-null     object \n",
            " 1   target  10 non-null     int64  \n",
            " 2   taker   10 non-null     int64  \n",
            " 3   trx     10 non-null     int64  \n",
            " 4   rev     10 non-null     float64\n",
            " 5   top     10 non-null     object \n",
            "dtypes: float64(1), int64(3), object(2)\n",
            "memory usage: 612.0+ bytes\n",
            "<class 'pandas.core.frame.DataFrame'>\n",
            "RangeIndex: 4 entries, 0 to 3\n",
            "Data columns (total 7 columns):\n",
            " #   Column       Non-Null Count  Dtype  \n",
            "---  ------       --------------  -----  \n",
            " 0   area         4 non-null      object \n",
            " 1   target       4 non-null      int64  \n",
            " 2   taker        4 non-null      int64  \n",
            " 3   trx          4 non-null      int64  \n",
            " 4   rev          4 non-null      float64\n",
            " 5   deliv        4 non-null      int64  \n",
            " 6   deliv_taker  4 non-null      int64  \n",
            "dtypes: float64(1), int64(5), object(1)\n",
            "memory usage: 356.0+ bytes\n",
            "<class 'pandas.core.frame.DataFrame'>\n",
            "RangeIndex: 13 entries, 0 to 12\n",
            "Data columns (total 7 columns):\n",
            " #   Column       Non-Null Count  Dtype  \n",
            "---  ------       --------------  -----  \n",
            " 0   region       13 non-null     object \n",
            " 1   target       13 non-null     int64  \n",
            " 2   taker        13 non-null     int64  \n",
            " 3   trx          13 non-null     int64  \n",
            " 4   rev          13 non-null     float64\n",
            " 5   deliv        13 non-null     int64  \n",
            " 6   deliv_taker  13 non-null     int64  \n",
            "dtypes: float64(1), int64(5), object(1)\n",
            "memory usage: 860.0+ bytes\n",
            "<class 'pandas.core.frame.DataFrame'>\n",
            "RangeIndex: 13 entries, 0 to 12\n",
            "Data columns (total 7 columns):\n",
            " #   Column       Non-Null Count  Dtype  \n",
            "---  ------       --------------  -----  \n",
            " 0   region       13 non-null     object \n",
            " 1   target       13 non-null     int64  \n",
            " 2   taker        13 non-null     int64  \n",
            " 3   trx          13 non-null     int64  \n",
            " 4   rev          13 non-null     float64\n",
            " 5   deliv        13 non-null     int64  \n",
            " 6   deliv_taker  13 non-null     int64  \n",
            "dtypes: float64(1), int64(5), object(1)\n",
            "memory usage: 860.0+ bytes\n"
          ]
        }
      ],
      "source": [
        "data_info = {}\n",
        "dfs = {}\n",
        "for file_name in files:\n",
        "  #dfs[f\"{i}\"] = pai.read_csv(f\"/domain/{domain}/{files[i]}\")\n",
        "  dfs[f\"{file_name}\"] = pd.read_csv(f\"/domain/{domain}/{file_name}\", sep='|')\n",
        "  df = dfs[f\"{file_name}\"]\n",
        "  buf = io.StringIO()\n",
        "  df.info(buf=buf)\n",
        "  data_info[f\"{file_name}\"] = buf.getvalue()\n",
        "  df.info()"
      ]
    },
    {
      "cell_type": "markdown",
      "metadata": {
        "id": "gYUp6HPP24Ab"
      },
      "source": [
        "Collect .describe() of each dataset to be used."
      ]
    },
    {
      "cell_type": "code",
      "execution_count": null,
      "metadata": {
        "colab": {
          "base_uri": "https://localhost:8080/"
        },
        "id": "3zbPfuInS7s3",
        "outputId": "4a008657-0fc8-4748-b320-f8144f9abeaa"
      },
      "outputs": [
        {
          "output_type": "stream",
          "name": "stdout",
          "text": [
            "        channel_name       taker         trx           rev\n",
            "count             10   10.000000   10.000000  1.000000e+01\n",
            "unique            10         NaN         NaN           NaN\n",
            "top     FMC - Upoint         NaN         NaN           NaN\n",
            "freq               1         NaN         NaN           NaN\n",
            "mean             NaN   81.000000   82.500000  5.223954e+06\n",
            "std              NaN  199.941102  201.367685  1.142833e+07\n",
            "min              NaN    0.000000    0.000000  0.000000e+00\n",
            "25%              NaN    0.000000    0.000000  0.000000e+00\n",
            "50%              NaN    0.000000    0.000000  0.000000e+00\n",
            "75%              NaN   14.500000   14.500000  1.244365e+06\n",
            "max              NaN  634.000000  637.000000  3.490830e+07\n",
            "        event_date  latest_period_wl  cum_target  cum_deliv  cum_taker  \\\n",
            "count            1               0.0         1.0        1.0        1.0   \n",
            "unique           1               NaN         NaN        NaN        NaN   \n",
            "top     2025-09-05               NaN         NaN        NaN        NaN   \n",
            "freq             1               NaN         NaN        NaN        NaN   \n",
            "mean           NaN               NaN   6350914.0  3426657.0    19661.0   \n",
            "std            NaN               NaN         NaN        NaN        NaN   \n",
            "min            NaN               NaN   6350914.0  3426657.0    19661.0   \n",
            "25%            NaN               NaN   6350914.0  3426657.0    19661.0   \n",
            "50%            NaN               NaN   6350914.0  3426657.0    19661.0   \n",
            "75%            NaN               NaN   6350914.0  3426657.0    19661.0   \n",
            "max            NaN               NaN   6350914.0  3426657.0    19661.0   \n",
            "\n",
            "        cum_trx       cum_rev  \n",
            "count       1.0  1.000000e+00  \n",
            "unique      NaN           NaN  \n",
            "top         NaN           NaN  \n",
            "freq        NaN           NaN  \n",
            "mean    30838.0  2.928654e+09  \n",
            "std         NaN           NaN  \n",
            "min     30838.0  2.928654e+09  \n",
            "25%     30838.0  2.928654e+09  \n",
            "50%     30838.0  2.928654e+09  \n",
            "75%     30838.0  2.928654e+09  \n",
            "max     30838.0  2.928654e+09  \n",
            "        sort_order product_group    product        target    taker_m0  \\\n",
            "count     33.00000            33         33  3.300000e+01   33.000000   \n",
            "unique         NaN             5         33           NaN         NaN   \n",
            "top            NaN     OTT Video  Catchplay           NaN         NaN   \n",
            "freq           NaN            20          1           NaN         NaN   \n",
            "mean      17.00000           NaN        NaN  3.596980e+05   24.636364   \n",
            "std        9.66954           NaN        NaN  6.982923e+05   97.393152   \n",
            "min        1.00000           NaN        NaN  0.000000e+00    0.000000   \n",
            "25%        9.00000           NaN        NaN  0.000000e+00    0.000000   \n",
            "50%       17.00000           NaN        NaN  0.000000e+00    0.000000   \n",
            "75%       25.00000           NaN        NaN  4.243600e+05    5.000000   \n",
            "max       33.00000           NaN        NaN  3.218918e+06  559.000000   \n",
            "\n",
            "          taker_m1     trx_m0      trx_m1  rev_squad_m0  rev_squad_m1  \\\n",
            "count    33.000000   33.00000   33.000000  3.300000e+01  3.300000e+01   \n",
            "unique         NaN        NaN         NaN           NaN           NaN   \n",
            "top            NaN        NaN         NaN           NaN           NaN   \n",
            "freq           NaN        NaN         NaN           NaN           NaN   \n",
            "mean     12.696970   25.00000   12.939394  1.583016e+06  9.081882e+05   \n",
            "std      29.171352   97.52724   29.358708  5.271706e+06  2.034275e+06   \n",
            "min       0.000000    0.00000    0.000000  0.000000e+00  0.000000e+00   \n",
            "25%       0.000000    0.00000    0.000000  0.000000e+00  0.000000e+00   \n",
            "50%       0.000000    0.00000    0.000000  0.000000e+00  0.000000e+00   \n",
            "75%       7.000000    5.00000    7.000000  2.465300e+05  4.500000e+05   \n",
            "max     137.000000  559.00000  137.000000  2.957300e+07  9.145000e+06   \n",
            "\n",
            "             rev_all      deliv_m0      deliv_m1  deliv_taker_m0  \\\n",
            "count   3.300000e+01  3.300000e+01  3.300000e+01       33.000000   \n",
            "unique           NaN           NaN           NaN             NaN   \n",
            "top              NaN           NaN           NaN             NaN   \n",
            "freq             NaN           NaN           NaN             NaN   \n",
            "mean    2.093844e+07  1.134395e+05  6.389888e+04        8.969697   \n",
            "std     6.108042e+07  3.033341e+05  2.625510e+05       41.223844   \n",
            "min     0.000000e+00  0.000000e+00  0.000000e+00        0.000000   \n",
            "25%     0.000000e+00  0.000000e+00  0.000000e+00        0.000000   \n",
            "50%     0.000000e+00  0.000000e+00  0.000000e+00        0.000000   \n",
            "75%     3.443000e+06  0.000000e+00  0.000000e+00        0.000000   \n",
            "max     2.890924e+08  1.461471e+06  1.446636e+06      237.000000   \n",
            "\n",
            "        deliv_taker_m1  \n",
            "count        33.000000  \n",
            "unique             NaN  \n",
            "top                NaN  \n",
            "freq               NaN  \n",
            "mean          2.242424  \n",
            "std           9.192491  \n",
            "min           0.000000  \n",
            "25%           0.000000  \n",
            "50%           0.000000  \n",
            "75%           0.000000  \n",
            "max          51.000000  \n",
            "             arpu_cat       taker         trx           rev\n",
            "count               6    6.000000    6.000000  6.000000e+00\n",
            "unique              6         NaN         NaN           NaN\n",
            "top     04. 300K-350K         NaN         NaN           NaN\n",
            "freq                1         NaN         NaN           NaN\n",
            "mean              NaN  135.000000  137.500000  8.706590e+06\n",
            "std               NaN  188.763344  192.289105  1.195494e+07\n",
            "min               NaN   17.000000   19.000000  1.312306e+06\n",
            "25%               NaN   35.750000   36.250000  2.940952e+06\n",
            "50%               NaN   48.500000   49.500000  3.110770e+06\n",
            "75%               NaN  130.250000  131.000000  7.815016e+06\n",
            "max               NaN  507.000000  517.000000  3.243825e+07\n",
            "        sort_order product_group    product     target   taker_m0   taker_m1  \\\n",
            "count     33.00000            33         33  33.000000  33.000000  33.000000   \n",
            "unique         NaN             5         33        NaN        NaN        NaN   \n",
            "top            NaN     OTT Video  Catchplay        NaN        NaN        NaN   \n",
            "freq           NaN            20          1        NaN        NaN        NaN   \n",
            "mean      17.00000           NaN        NaN   0.515152   0.515152   4.515152   \n",
            "std        9.66954           NaN        NaN   1.970425   1.970425  14.824223   \n",
            "min        1.00000           NaN        NaN   0.000000   0.000000   0.000000   \n",
            "25%        9.00000           NaN        NaN   0.000000   0.000000   0.000000   \n",
            "50%       17.00000           NaN        NaN   0.000000   0.000000   0.000000   \n",
            "75%       25.00000           NaN        NaN   0.000000   0.000000   0.000000   \n",
            "max       33.00000           NaN        NaN  11.000000  11.000000  69.000000   \n",
            "\n",
            "           trx_m0     trx_m1         rev_m0        rev_m1   deliv_m0  \\\n",
            "count   33.000000  33.000000      33.000000  3.300000e+01  33.000000   \n",
            "unique        NaN        NaN            NaN           NaN        NaN   \n",
            "top           NaN        NaN            NaN           NaN        NaN   \n",
            "freq          NaN        NaN            NaN           NaN        NaN   \n",
            "mean     0.515152   4.515152   41156.151515  2.898181e+05   0.090909   \n",
            "std      1.970425  14.824223  151498.132286  1.016981e+06   0.384353   \n",
            "min      0.000000   0.000000       0.000000  0.000000e+00   0.000000   \n",
            "25%      0.000000   0.000000       0.000000  0.000000e+00   0.000000   \n",
            "50%      0.000000   0.000000       0.000000  0.000000e+00   0.000000   \n",
            "75%      0.000000   0.000000       0.000000  0.000000e+00   0.000000   \n",
            "max     11.000000  69.000000  790000.000000  5.215000e+06   2.000000   \n",
            "\n",
            "         deliv_m1  deliv_taker_m0  deliv_taker_m1  \n",
            "count   33.000000       33.000000       33.000000  \n",
            "unique        NaN             NaN             NaN  \n",
            "top           NaN             NaN             NaN  \n",
            "freq          NaN             NaN             NaN  \n",
            "mean     0.333333        0.090909        0.333333  \n",
            "std      1.914854        0.384353        1.914854  \n",
            "min      0.000000        0.000000        0.000000  \n",
            "25%      0.000000        0.000000        0.000000  \n",
            "50%      0.000000        0.000000        0.000000  \n",
            "75%      0.000000        0.000000        0.000000  \n",
            "max     11.000000        2.000000       11.000000  \n",
            "        event_date   total_trx  cumulative_total_trx  target_trx  \\\n",
            "count            5    5.000000              5.000000         5.0   \n",
            "unique           5         NaN                   NaN         NaN   \n",
            "top     2025-09-01         NaN                   NaN         NaN   \n",
            "freq             1         NaN                   NaN         NaN   \n",
            "mean           NaN  165.000000          30366.400000       648.0   \n",
            "std            NaN  128.817701            306.118931         0.0   \n",
            "min            NaN   69.000000          30051.000000       648.0   \n",
            "25%            NaN   79.000000          30151.000000       648.0   \n",
            "50%            NaN   83.000000          30347.000000       648.0   \n",
            "75%            NaN  233.000000          30445.000000       648.0   \n",
            "max            NaN  361.000000          30838.000000       648.0   \n",
            "\n",
            "        cumulative_target_trx    gap_taker     total_rev  \\\n",
            "count                 5.00000     5.000000  5.000000e+00   \n",
            "unique                    NaN          NaN           NaN   \n",
            "top                       NaN          NaN           NaN   \n",
            "freq                      NaN          NaN           NaN   \n",
            "mean              31994.40000 -1628.000000  1.044791e+07   \n",
            "std                1025.05234   734.121243  6.604952e+06   \n",
            "min               30698.00000 -2453.000000  5.011626e+06   \n",
            "25%               31346.00000 -2198.000000  6.142030e+06   \n",
            "50%               31994.00000 -1647.000000  7.048189e+06   \n",
            "75%               32643.00000 -1195.000000  1.324425e+07   \n",
            "max               33291.00000  -647.000000  2.079345e+07   \n",
            "\n",
            "        cumulative_total_rev  target_rev  cumulative_target_rev       gap_rev  \n",
            "count           5.000000e+00         5.0           5.000000e+00  5.000000e+00  \n",
            "unique                   NaN         NaN                    NaN           NaN  \n",
            "top                      NaN         NaN                    NaN           NaN  \n",
            "freq                     NaN         NaN                    NaN           NaN  \n",
            "mean            2.900386e+09  78035279.0           2.976459e+09 -7.607290e+07  \n",
            "std             1.860888e+07         0.0           1.233846e+08  1.053830e+08  \n",
            "min             2.880553e+09  78035279.0           2.820389e+09 -2.038755e+08  \n",
            "25%             2.887755e+09  78035279.0           2.898424e+09 -1.485218e+08  \n",
            "50%             2.898998e+09  78035279.0           2.976459e+09 -7.746159e+07  \n",
            "75%             2.905973e+09  78035279.0           3.054495e+09 -1.066941e+07  \n",
            "max             2.928654e+09  78035279.0           3.132530e+09  6.016377e+07  \n",
            "            period        target       taker         trx           rev  \\\n",
            "count            2  2.000000e+00    2.000000    2.000000  2.000000e+00   \n",
            "unique           2           NaN         NaN         NaN           NaN   \n",
            "top     2025-09-05           NaN         NaN         NaN           NaN   \n",
            "freq             1           NaN         NaN         NaN           NaN   \n",
            "mean           NaN  4.419976e+06  612.500000  626.000000  4.110488e+07   \n",
            "std            NaN  3.386285e+05  279.307179  281.428499  1.574679e+07   \n",
            "min            NaN  4.180530e+06  415.000000  427.000000  2.997021e+07   \n",
            "25%            NaN  4.300253e+06  513.750000  526.500000  3.553754e+07   \n",
            "50%            NaN  4.419976e+06  612.500000  626.000000  4.110488e+07   \n",
            "75%            NaN  4.539700e+06  711.250000  725.500000  4.667221e+07   \n",
            "max            NaN  4.659423e+06  810.000000  825.000000  5.223954e+07   \n",
            "\n",
            "               deliv  deliv_taker  \n",
            "count   2.000000e+00     2.000000  \n",
            "unique           NaN          NaN  \n",
            "top              NaN          NaN  \n",
            "freq             NaN          NaN  \n",
            "mean    1.632898e+06   184.500000  \n",
            "std     1.215616e+05   156.270599  \n",
            "min     1.546941e+06    74.000000  \n",
            "25%     1.589920e+06   129.250000  \n",
            "50%     1.632898e+06   184.500000  \n",
            "75%     1.675876e+06   239.750000  \n",
            "max     1.718855e+06   295.000000  \n",
            "       period_date\n",
            "count            1\n",
            "unique           1\n",
            "top     2025-09-05\n",
            "freq             1\n",
            "        channel_name      taker         trx           rev\n",
            "count             10   10.00000   10.000000  1.000000e+01\n",
            "unique            10        NaN         NaN           NaN\n",
            "top     FMC - Upoint        NaN         NaN           NaN\n",
            "freq               1        NaN         NaN           NaN\n",
            "mean             NaN   41.70000   42.700000  2.991165e+06\n",
            "std              NaN   69.74087   70.630573  4.776646e+06\n",
            "min              NaN    0.00000    0.000000  0.000000e+00\n",
            "25%              NaN    0.00000    0.000000  0.000000e+00\n",
            "50%              NaN    0.00000    0.000000  0.000000e+00\n",
            "75%              NaN   57.75000   63.750000  5.591116e+06\n",
            "max              NaN  183.00000  185.000000  1.230084e+07\n",
            "            day      trx_m1      trx_m0        rev_m1        rev_m0  \\\n",
            "count  5.000000    5.000000    5.000000  5.000000e+00  5.000000e+00   \n",
            "mean   3.000000   85.400000  165.000000  5.982331e+06  1.044791e+07   \n",
            "std    1.581139   17.008821  128.817701  1.489931e+06  6.604952e+06   \n",
            "min    1.000000   60.000000   69.000000  3.870918e+06  5.011626e+06   \n",
            "25%    2.000000   77.000000   79.000000  5.093922e+06  6.142030e+06   \n",
            "50%    3.000000   93.000000   83.000000  6.395587e+06  7.048189e+06   \n",
            "75%    4.000000   94.000000  233.000000  7.034461e+06  1.324425e+07   \n",
            "max    5.000000  103.000000  361.000000  7.516765e+06  2.079345e+07   \n",
            "\n",
            "           deliv_m1      deliv_m0  \n",
            "count  5.000000e+00  5.000000e+00  \n",
            "mean   4.217328e+05  7.487008e+05  \n",
            "std    5.815457e+05  6.155107e+05  \n",
            "min    3.356000e+03  0.000000e+00  \n",
            "25%    1.205300e+04  3.144480e+05  \n",
            "50%    2.247350e+05  7.121550e+05  \n",
            "75%    4.621750e+05  1.255106e+06  \n",
            "max    1.406345e+06  1.461795e+06  \n",
            "          area        target       taker         trx           rev  \\\n",
            "count        4  4.000000e+00    4.000000    4.000000  4.000000e+00   \n",
            "unique       4           NaN         NaN         NaN           NaN   \n",
            "top     AREA 1           NaN         NaN         NaN           NaN   \n",
            "freq         1           NaN         NaN         NaN           NaN   \n",
            "mean       NaN  1.164856e+06  103.750000  106.750000  7.492553e+06   \n",
            "std        NaN  2.202511e+05   29.814706   32.066337  1.785436e+06   \n",
            "min        NaN  8.854220e+05   73.000000   75.000000  5.360877e+06   \n",
            "25%        NaN  1.059527e+06   83.500000   84.750000  6.443122e+06   \n",
            "50%        NaN  1.184426e+06  101.000000  102.500000  7.586888e+06   \n",
            "75%        NaN  1.289755e+06  121.250000  124.500000  8.636320e+06   \n",
            "max        NaN  1.405149e+06  140.000000  147.000000  9.435558e+06   \n",
            "\n",
            "                deliv  deliv_taker  \n",
            "count        4.000000     4.000000  \n",
            "unique            NaN          NaN  \n",
            "top               NaN          NaN  \n",
            "freq              NaN          NaN  \n",
            "mean    386735.250000    18.500000  \n",
            "std      50573.435559     7.187953  \n",
            "min     327271.000000     9.000000  \n",
            "25%     358042.000000    15.000000  \n",
            "50%     387227.000000    20.000000  \n",
            "75%     415920.250000    23.500000  \n",
            "max     445216.000000    25.000000  \n",
            "                  branch         target      taker        trx           rev  \\\n",
            "count                 10      10.000000  10.000000  10.000000  1.000000e+01   \n",
            "unique                10            NaN        NaN        NaN           NaN   \n",
            "top     SOUTHERN JAKARTA            NaN        NaN        NaN           NaN   \n",
            "freq                   1            NaN        NaN        NaN           NaN   \n",
            "mean                 NaN   86302.600000  20.500000  21.200000  1.324632e+06   \n",
            "std                  NaN   56625.341208  22.525294  22.680388  1.375087e+06   \n",
            "min                  NaN   19742.000000   2.000000   2.000000  1.431530e+05   \n",
            "25%                  NaN   44691.750000   3.000000   3.250000  1.727500e+05   \n",
            "50%                  NaN   86648.000000  13.500000  14.500000  1.036500e+06   \n",
            "75%                  NaN   96746.250000  30.750000  32.750000  2.065697e+06   \n",
            "max                  NaN  218245.000000  71.000000  71.000000  4.187224e+06   \n",
            "\n",
            "        top  \n",
            "count    10  \n",
            "unique    2  \n",
            "top     top  \n",
            "freq      5  \n",
            "mean    NaN  \n",
            "std     NaN  \n",
            "min     NaN  \n",
            "25%     NaN  \n",
            "50%     NaN  \n",
            "75%     NaN  \n",
            "max     NaN  \n",
            "          area        target       taker         trx           rev  \\\n",
            "count        4  4.000000e+00    4.000000    4.000000  4.000000e+00   \n",
            "unique       4           NaN         NaN         NaN           NaN   \n",
            "top     AREA 1           NaN         NaN         NaN           NaN   \n",
            "freq         1           NaN         NaN         NaN           NaN   \n",
            "mean       NaN  1.045132e+06  202.500000  206.250000  1.305989e+07   \n",
            "std        NaN  1.107104e+05   66.133703   67.049111  3.457607e+06   \n",
            "min        NaN  8.845090e+05  138.000000  140.000000  9.470044e+06   \n",
            "25%        NaN  1.015709e+06  149.250000  152.750000  1.042095e+07   \n",
            "50%        NaN  1.086086e+06  205.000000  210.000000  1.325859e+07   \n",
            "75%        NaN  1.115509e+06  258.250000  263.500000  1.589753e+07   \n",
            "max        NaN  1.123850e+06  262.000000  265.000000  1.625232e+07   \n",
            "\n",
            "                deliv  deliv_taker  \n",
            "count        4.000000     4.000000  \n",
            "unique            NaN          NaN  \n",
            "top               NaN          NaN  \n",
            "freq              NaN          NaN  \n",
            "mean    429713.750000    73.750000  \n",
            "std      55422.437432    29.881711  \n",
            "min     366676.000000    49.000000  \n",
            "25%     403520.500000    51.250000  \n",
            "50%     425843.500000    66.500000  \n",
            "75%     452036.750000    89.000000  \n",
            "max     500492.000000   113.000000  \n",
            "          region         target      taker        trx           rev  \\\n",
            "count         13      13.000000  13.000000  13.000000  1.300000e+01   \n",
            "unique        13            NaN        NaN        NaN           NaN   \n",
            "top     Sumbagut            NaN        NaN        NaN           NaN   \n",
            "freq           1            NaN        NaN        NaN           NaN   \n",
            "mean         NaN  358417.153846  31.923077  32.846154  2.305401e+06   \n",
            "std          NaN  132154.217850   9.725067  10.188606  7.446836e+05   \n",
            "min          NaN  165404.000000  21.000000  21.000000  1.416326e+06   \n",
            "25%          NaN  273774.000000  23.000000  24.000000  1.665765e+06   \n",
            "50%          NaN  343203.000000  29.000000  31.000000  2.016612e+06   \n",
            "75%          NaN  425958.000000  36.000000  36.000000  2.793224e+06   \n",
            "max          NaN  590037.000000  52.000000  54.000000  3.910918e+06   \n",
            "\n",
            "                deliv  deliv_taker  \n",
            "count       13.000000    13.000000  \n",
            "unique            NaN          NaN  \n",
            "top               NaN          NaN  \n",
            "freq              NaN          NaN  \n",
            "mean    118995.461538     5.692308  \n",
            "std      40780.468886     4.049375  \n",
            "min      61569.000000     1.000000  \n",
            "25%     101687.000000     3.000000  \n",
            "50%     116429.000000     5.000000  \n",
            "75%     139493.000000     7.000000  \n",
            "max     200371.000000    14.000000  \n",
            "          region         target       taker         trx           rev  \\\n",
            "count         13      13.000000   13.000000   13.000000  1.300000e+01   \n",
            "unique        13            NaN         NaN         NaN           NaN   \n",
            "top     Sumbagut            NaN         NaN         NaN           NaN   \n",
            "freq           1            NaN         NaN         NaN           NaN   \n",
            "mean         NaN  321579.230769   62.307692   63.461538  4.018426e+06   \n",
            "std          NaN  117716.443330   25.273123   26.133042  1.436887e+06   \n",
            "min          NaN  165290.000000   26.000000   27.000000  2.151153e+06   \n",
            "25%          NaN  268671.000000   43.000000   43.000000  2.985426e+06   \n",
            "50%          NaN  312327.000000   58.000000   59.000000  3.403306e+06   \n",
            "75%          NaN  366102.000000   88.000000   91.000000  5.325103e+06   \n",
            "max          NaN  543196.000000  100.000000  103.000000  6.478806e+06   \n",
            "\n",
            "                deliv  deliv_taker  \n",
            "count       13.000000    13.000000  \n",
            "unique            NaN          NaN  \n",
            "top               NaN          NaN  \n",
            "freq              NaN          NaN  \n",
            "mean    132219.615385    22.692308  \n",
            "std      44588.995521    12.492562  \n",
            "min      69789.000000    10.000000  \n",
            "25%     114037.000000    12.000000  \n",
            "50%     128158.000000    21.000000  \n",
            "75%     151541.000000    25.000000  \n",
            "max     218927.000000    49.000000  \n"
          ]
        }
      ],
      "source": [
        "data_describe = {}\n",
        "for file_name in files:\n",
        "  df = dfs[f\"{file_name}\"]\n",
        "  data_describe[f\"{file_name}\"] = df.describe(include='all')\n",
        "  print(data_describe[f\"{file_name}\"] )"
      ]
    },
    {
      "cell_type": "markdown",
      "metadata": {
        "id": "iWBQBnexI9_m"
      },
      "source": [
        "# Setup agent."
      ]
    },
    {
      "cell_type": "markdown",
      "metadata": {
        "id": "TwDemhCl29w8"
      },
      "source": [
        "Set OpenAI API key."
      ]
    },
    {
      "cell_type": "code",
      "execution_count": null,
      "metadata": {
        "id": "An83ac6RH0bn"
      },
      "outputs": [],
      "source": [
        "api_key = os.getenv(\"OPENAI_API_KEY\") or os.getenv(\"GEMINI_API_KEY\") or getpass(\"Enter your OpenAI API key: \")\n",
        "os.environ[\"OPENAI_API_KEY\"] = api_key\n",
        "os.environ[\"GEMINI_API_KEY\"] = api_key"
      ]
    },
    {
      "cell_type": "markdown",
      "metadata": {
        "id": "zXWFX2FMarbb"
      },
      "source": [
        "or"
      ]
    },
    {
      "cell_type": "code",
      "execution_count": null,
      "metadata": {
        "colab": {
          "base_uri": "https://localhost:8080/"
        },
        "id": "WA4UsLxWaoLx",
        "outputId": "4c21a8e8-41b3-467e-864e-e446e3afb742"
      },
      "outputs": [
        {
          "name": "stdout",
          "output_type": "stream",
          "text": [
            "Enter your API key: ··········\n"
          ]
        }
      ],
      "source": [
        "api_key = getpass(\"Enter your API key: \")\n",
        "os.environ[\"OPENAI_API_KEY\"] = api_key\n",
        "os.environ[\"GEMINI_API_KEY\"] = api_key"
      ]
    },
    {
      "cell_type": "markdown",
      "metadata": {
        "id": "dKS4J2jUEXcp"
      },
      "source": [
        "# Orchestrate LLMs."
      ]
    },
    {
      "cell_type": "markdown",
      "metadata": {
        "id": "xo9Lo_GL3Eaq"
      },
      "source": [
        "Get user prompt."
      ]
    },
    {
      "cell_type": "code",
      "execution_count": null,
      "metadata": {
        "colab": {
          "base_uri": "https://localhost:8080/",
          "height": 36
        },
        "id": "Qcd1Bkdr79ar",
        "outputId": "0abaf417-1382-47b3-b5ce-74140f698b8d"
      },
      "outputs": [
        {
          "output_type": "execute_result",
          "data": {
            "text/plain": [
              "'\\nWhat were the biggest product-level drivers of our rev squad change this month compared to last month?\\n'"
            ],
            "application/vnd.google.colaboratory.intrinsic+json": {
              "type": "string"
            }
          },
          "metadata": {},
          "execution_count": 63
        }
      ],
      "source": [
        "\"\"\"\n",
        "What were the biggest product-level drivers of our rev squad change this month compared to last month?\n",
        "\"\"\""
      ]
    },
    {
      "cell_type": "code",
      "execution_count": null,
      "metadata": {
        "colab": {
          "base_uri": "https://localhost:8080/"
        },
        "id": "GKQD_Fli19Ug",
        "outputId": "d043fb19-d488-418b-8ca3-e076fbb4f7cf"
      },
      "outputs": [
        {
          "name": "stdout",
          "output_type": "stream",
          "text": [
            "Enter your prompt: What were the biggest product-level drivers of our rev squad change this month compared to last month?\n"
          ]
        }
      ],
      "source": [
        "user_prompt = input(\"Enter your prompt: \")"
      ]
    },
    {
      "cell_type": "markdown",
      "metadata": {
        "id": "r_yvYHGb3D8a"
      },
      "source": [
        "Translate user prompt into 3 prompts for each pandasai agents and a system content for response compiler."
      ]
    },
    {
      "cell_type": "code",
      "execution_count": null,
      "metadata": {
        "colab": {
          "base_uri": "https://localhost:8080/"
        },
        "id": "6E_-ZpPqHmvy",
        "outputId": "85ec4631-2d2f-4f79-e958-7a96a0f777b6"
      },
      "outputs": [
        {
          "output_type": "stream",
          "name": "stdout",
          "text": [
            "```json\n",
            "{\n",
            "\"manipulator_prompt\": \"1. From the `product.csv` dataframe, create a new dataframe named `sdf`. 2. Calculate the absolute revenue squad change between this month and last month by creating a new column 'rev_squad_change' equal to `sdf['rev_squad_m1'] - sdf['rev_squad_m0']`. 3. Calculate the percentage change by creating a new column 'rev_squad_pct_change', calculated as `(sdf['rev_squad_change'] / sdf['rev_squad_m0']) * 100`. Handle division by zero by replacing resulting 'inf' or 'NaN' values with 0. 4. Calculate the total absolute change in revenue squad by summing the 'rev_squad_change' column. 5. Calculate each product's percentage contribution to the total change by creating a new column 'contribution_pct' calculated as `(sdf['rev_squad_change'] / total_absolute_change) * 100`. 6. Filter out any rows where 'rev_squad_change' is zero. 7. Sort the dataframe in descending order based on the absolute value of 'rev_squad_change' to identify the biggest drivers. 8. Select the columns 'product', 'product_group', 'rev_squad_m0', 'rev_squad_m1', 'rev_squad_change', 'rev_squad_pct_change', and 'contribution_pct'. 9. Return the final dataframe using the format: result = {\\\"type\\\":\\\"dataframe\\\",\\\"value\\\": sdf}\",\n",
            "\"visualizer_prompt\": \"1. From the provided analysis-ready dataframe `sdf`, which contains product-level revenue squad changes, select the top 5 positive and top 5 negative drivers based on the 'rev_squad_change' column to create a `top_drivers_df`. 2. Create an interactive horizontal bar chart using Plotly. 3. Set the y-axis to 'product' and the x-axis to 'rev_squad_change'. 4. Assign colors to the bars based on the sign of 'rev_squad_change': use a dark blue for positive values (increases) and a light blue for negative values (decreases). 5. Set the chart title to 'Biggest Product Drivers of Revenue Squad Change' and the subtitle to 'This Month vs. Last Month, in Indonesian Rupiah (IDR)'. 6. Label the x-axis 'Revenue Change (IDR)' and the y-axis 'Product'. Ensure the x-axis labels use thousands separators. 7. Configure the hover data to show the product name, the exact 'rev_squad_change' (IDR), and 'rev_squad_pct_change' (%). 8. Sort the y-axis to display the largest positive change at the top and the largest negative change at the bottom. 9. Ensure adequate margins and wrap long product names to prevent label overlap. 10. Follow these exact steps to create and save the file: import os; import datetime; dir_path = \\\"/content/exports/Campaign/chart\\\"; os.makedirs(dir_path, exist_ok=True); rid = globals().get(\\\"_RUN_ID\\\"); \\nif not isinstance(rid, str) or not rid: rid = datetime.datetime.utcnow().strftime(\\\"%Y%m%d%H%M%S%f\\\"); globals()[\\\"_RUN_ID\\\"] = rid\\nfile_path = os.path.join(dir_path, f\\\"product-rev-drivers-{rid}.html\\\"); lock_path = file_path + \\\".lock\\\"; \\ntry:\\n    fd = os.open(lock_path, os.O_CREAT | os.O_EXCL | os.O_WRONLY)\\n    try:\\n        fig.write_html(file_path, include_plotlyjs=\\\"cdn\\\", full_html=True)\\n    finally:\\n        os.close(fd)\\nexcept FileExistsError:\\n    pass\\nfile_path = str(file_path). 11. The last line of your code must be exactly: result = {\\\"type\\\": \\\"string\\\", \\\"value\\\": file_path}\",\n",
            "\"analyzer_prompt\": \"1. Based on the provided dataframe of product-level revenue squad changes, calculate the total 'rev_squad_m1' and 'rev_squad_m0' to find the overall absolute and percentage change month-over-month. 2. Identify the single product with the largest positive 'rev_squad_change' and quantify its value and its percentage contribution to the total change. 3. Identify the single product with the largest negative 'rev_squad_change' (most significant drop) and quantify its value and its percentage contribution. 4. Identify if a specific 'product_group' is disproportionately responsible for either the gains or losses. 5. Summarize these findings into 3-4 concise bullet points, starting with the overall revenue squad performance and then detailing the top positive and negative drivers. Ensure all monetary values are clearly stated in Indonesian Rupiah. 6. Return the analysis as a single string within the result object: result = {\\\"type\\\":\\\"string\\\",\\\"value\\\":\\\"<Your 3-4 bullet point summary>\\\"}\",\n",
            "\"compiler_instruction\": \"Read the user prompt, data_info, and all three agent responses; Compute the direct answer including the main number and compare period by summarizing the total change in rev squad revenue from m0 to m1; Identify the top 3 quantified drivers, specifying the product names and their positive or negative IDR impact and contribution percentage; Draft 'Bottom line' in 1–2 sentences answering plainly what the biggest drivers were; List 2–4 prioritized Next actions, such as investigating the cause of the top negative driver and analyzing the success of the top positive driver; Add a one-line Caveats section stating confidence is High as the data directly addresses the prompt but lacks channel-specific context; Keep the entire response under 180 words, use bullets, and include IDR as the currency unit; Do not repeat agent text verbatim or include code/JSON.\"\n",
            "}\n",
            "```\n",
            "1. From the `product.csv` dataframe, create a new dataframe named `sdf`. 2. Calculate the absolute revenue squad change between this month and last month by creating a new column 'rev_squad_change' equal to `sdf['rev_squad_m1'] - sdf['rev_squad_m0']`. 3. Calculate the percentage change by creating a new column 'rev_squad_pct_change', calculated as `(sdf['rev_squad_change'] / sdf['rev_squad_m0']) * 100`. Handle division by zero by replacing resulting 'inf' or 'NaN' values with 0. 4. Calculate the total absolute change in revenue squad by summing the 'rev_squad_change' column. 5. Calculate each product's percentage contribution to the total change by creating a new column 'contribution_pct' calculated as `(sdf['rev_squad_change'] / total_absolute_change) * 100`. 6. Filter out any rows where 'rev_squad_change' is zero. 7. Sort the dataframe in descending order based on the absolute value of 'rev_squad_change' to identify the biggest drivers. 8. Select the columns 'product', 'product_group', 'rev_squad_m0', 'rev_squad_m1', 'rev_squad_change', 'rev_squad_pct_change', and 'contribution_pct'. 9. Return the final dataframe using the format: result = {\"type\":\"dataframe\",\"value\": sdf}\n",
            "1. From the provided analysis-ready dataframe `sdf`, which contains product-level revenue squad changes, select the top 5 positive and top 5 negative drivers based on the 'rev_squad_change' column to create a `top_drivers_df`. 2. Create an interactive horizontal bar chart using Plotly. 3. Set the y-axis to 'product' and the x-axis to 'rev_squad_change'. 4. Assign colors to the bars based on the sign of 'rev_squad_change': use a dark blue for positive values (increases) and a light blue for negative values (decreases). 5. Set the chart title to 'Biggest Product Drivers of Revenue Squad Change' and the subtitle to 'This Month vs. Last Month, in Indonesian Rupiah (IDR)'. 6. Label the x-axis 'Revenue Change (IDR)' and the y-axis 'Product'. Ensure the x-axis labels use thousands separators. 7. Configure the hover data to show the product name, the exact 'rev_squad_change' (IDR), and 'rev_squad_pct_change' (%). 8. Sort the y-axis to display the largest positive change at the top and the largest negative change at the bottom. 9. Ensure adequate margins and wrap long product names to prevent label overlap. 10. Follow these exact steps to create and save the file: import os; import datetime; dir_path = \"/content/exports/Campaign/chart\"; os.makedirs(dir_path, exist_ok=True); rid = globals().get(\"_RUN_ID\"); \n",
            "if not isinstance(rid, str) or not rid: rid = datetime.datetime.utcnow().strftime(\"%Y%m%d%H%M%S%f\"); globals()[\"_RUN_ID\"] = rid\n",
            "file_path = os.path.join(dir_path, f\"product-rev-drivers-{rid}.html\"); lock_path = file_path + \".lock\"; \n",
            "try:\n",
            "    fd = os.open(lock_path, os.O_CREAT | os.O_EXCL | os.O_WRONLY)\n",
            "    try:\n",
            "        fig.write_html(file_path, include_plotlyjs=\"cdn\", full_html=True)\n",
            "    finally:\n",
            "        os.close(fd)\n",
            "except FileExistsError:\n",
            "    pass\n",
            "file_path = str(file_path). 11. The last line of your code must be exactly: result = {\"type\": \"string\", \"value\": file_path}\n",
            "1. Based on the provided dataframe of product-level revenue squad changes, calculate the total 'rev_squad_m1' and 'rev_squad_m0' to find the overall absolute and percentage change month-over-month. 2. Identify the single product with the largest positive 'rev_squad_change' and quantify its value and its percentage contribution to the total change. 3. Identify the single product with the largest negative 'rev_squad_change' (most significant drop) and quantify its value and its percentage contribution. 4. Identify if a specific 'product_group' is disproportionately responsible for either the gains or losses. 5. Summarize these findings into 3-4 concise bullet points, starting with the overall revenue squad performance and then detailing the top positive and negative drivers. Ensure all monetary values are clearly stated in Indonesian Rupiah. 6. Return the analysis as a single string within the result object: result = {\"type\":\"string\",\"value\":\"<Your 3-4 bullet point summary>\"}\n",
            "Read the user prompt, data_info, and all three agent responses; Compute the direct answer including the main number and compare period by summarizing the total change in rev squad revenue from m0 to m1; Identify the top 3 quantified drivers, specifying the product names and their positive or negative IDR impact and contribution percentage; Draft 'Bottom line' in 1–2 sentences answering plainly what the biggest drivers were; List 2–4 prioritized Next actions, such as investigating the cause of the top negative driver and analyzing the success of the top positive driver; Add a one-line Caveats section stating confidence is High as the data directly addresses the prompt but lacks channel-specific context; Keep the entire response under 180 words, use bullets, and include IDR as the currency unit; Do not repeat agent text verbatim or include code/JSON.\n",
            "Elapsed time: 31.96 seconds\n"
          ]
        }
      ],
      "source": [
        "orchestrator_start_time = time.time()\n",
        "\n",
        "initial_response = completion(\n",
        "    model=\"gemini/gemini-2.5-pro\",\n",
        "    messages=[\n",
        "        {\"role\": \"system\", \"content\": \"\"\"\n",
        "        You are the Orchestrator.\n",
        "\n",
        "        15 instructions you need to follow as the orchestrator:\n",
        "1. Think step by step.\n",
        "2. You orchestrate 3 LLM PandasAI Agents for business data analysis.\n",
        "3. The 3 agents are: Data Manipulator, Data Visualizer, Data Analyser.\n",
        "4. You will emit a specific prompt for each of those 3 agents.\n",
        "5. Each prompt is a numbered, step-by-step instruction set.\n",
        "6. Prompts must be clear, detailed, and complete to avoid ambiguity.\n",
        "7. The number of steps may differ per agent.\n",
        "8. Example user tasks include:\n",
        "8a. What is my revenue this week vs last week?\n",
        "8b. Why did my revenue drop this week?\n",
        "8c. Any surprises in revenue this month?\n",
        "8d. Notable trends this month?\n",
        "8e. Correlation between revenue and bounces?\n",
        "8f. Is this conversion rate normal for this time of year?\n",
        "9. Reason strictly from the user-provided data.\n",
        "10. Convert a short business question into three specialist prompts.\n",
        "11. If a currency is not explicitly stated assume its in Indonesian Rupiah.\n",
        "13. All specialists operate in Python using PandasAI SmartDataframe as `sdf` (backed by pandas `df`).\n",
        "14. Return STRICT JSON with keys: manipulator_prompt, visualizer_prompt, analyzer_prompt, compiler_instruction.\n",
        "15. Each value must be a **single line** string. No extra keys, no prose, no markdown/code fences.\n",
        "\n",
        "6 instructions for data manipulator prompt creation:\n",
        "1. Enforce data hygiene before analysis.\n",
        "1a. Parse dates to pandas datetime, create explicit period columns (day/week/month).\n",
        "1b. Set consistent dtypes for numeric fields; strip/normalize categorical labels; standardize currency units if present.\n",
        "1c. Handle missing values: impute or drop **only when necessary**; keep legitimate zeros.\n",
        "2. Mind the term like m0 and m1 which means month 0 and 1 and any other similar terms used to decide if something is the former or later, in this case the m0 is the previous month and the m1 is the current or the next month.\n",
        "3. Mind each of the datasets name.\n",
        "4. Produce exactly the minimal, analysis-ready dataframe(s) needed for the user question, with stable, well-named columns.\n",
        "5. Include the percentage version of the raw value on the column that you think is appropriate to include.\n",
        "6. End by returning only:\n",
        "   result = {\"type\":\"dataframe\",\"value\": <THE_FINAL_DATAFRAME>}\n",
        "\n",
        "15 instructions for data visualizer prompt creation:\n",
        "1. Produce exactly ONE interactive visualization (a Plotly diagram or an HTML table) per request.\n",
        "2. Choose the best form of visualization based on the user's question. Use a Plotly diagram for trends and comparisons; use a styled HTML table for ranked lists or data with percentages.\n",
        "3. For Plotly diagrams: Prevent overlaps by rotating axis ticks ≤45°, wrapping long labels, ensuring adequate margins, and placing the legend outside the plot area.\n",
        "4. For Plotly diagrams: Apply insight-first formatting: include a clear title and subtitle, label axes with units, use thousands separators, and configure a rich hover-over.\n",
        "5. Aggregate data to a sensible granularity (e.g., day, week, or month) and cap extreme outliers for readability (noting this in the subtitle).\n",
        "6. For Plotly diagrams: To ensure high contrast, instruct the agent to use a truncated monochromatic colorscale by skipping the lightest 25% of a standard scale (e.g., 'Blues only').\n",
        "7. The prompt must specify how to truncate the scale, for example: \"Create a custom colorscale by sampling 'Blues' from 0.25 to 1.0.\" The gradient must map to data values (lighter for low, darker for high).\n",
        "8. For Plotly diagrams: Use a bar chart, grouped bar chart, or line chart.\n",
        "9. If a table visualization is chosen, instruct the agent to use the Pandas Styler object to generate the final HTML, not Plotly. Enforce a monochromatic blue palette only (no red or green): use tints/shades of a single blue (e.g., very light → very dark) for accents and data bars. Apply zebra striping to table rows with alternating white and light grey backgrounds (e.g., #FFFFFF and #F5F5F5). Hide the index in the rendered table.\n",
        "10. The prompt must specify using the Styler.bar() method only on columns that represent share-of-total percentages and only when the column total ≈ 100% (allow small rounding tolerance). These are the columns analogous to “% of all” fields (e.g., “% Taker”, “% Transaction”, “% Revenue Squad” when present). Bars must be left-aligned, constrained with vmin=0, and use one blue color (single hue).\n",
        "10a. Example instruction: “Identify share-of-total percentage columns whose values sum to ~100%. Apply in-cell data bars with df.style.bar(subset=share_cols, align='left', color='#5DADE2', vmin=0). Ensure non-share percentage columns (e.g., rates like TUR) do not receive bars.”\n",
        "11. Output Python code only (no prose/comments/markdown). Import os and datetime. Build a directory and a run-scoped timestamped filename using a run ID stored in globals:\n",
        "    dir_path = \"/content/exports/<domain>/<chart or table>\"\n",
        "    os.makedirs(dir_path, exist_ok=True)\n",
        "    rid = globals().get(\"_RUN_ID\")\n",
        "    if not isinstance(rid, str) or not rid:\n",
        "        import datetime as _dt\n",
        "        rid = _dt.datetime.utcnow().strftime(\"%Y%m%d%H%M%S%f\")\n",
        "        globals()[\"_RUN_ID\"] = rid\n",
        "    file_path = os.path.join(dir_path, f\"some-slug-{rid}.html\")\n",
        "12. Write the file exactly once using an atomic lock to avoid duplicates across retries:\n",
        "    lock_path = file_path + \".lock\"\n",
        "    try:\n",
        "        fd = os.open(lock_path, os.O_CREAT | os.O_EXCL | os.O_WRONLY)\n",
        "        try:\n",
        "            if \"fig\" in globals():\n",
        "                fig.write_html(file_path, include_plotlyjs=\"cdn\", full_html=True)\n",
        "            else:\n",
        "                html_str = styled_html if \"styled_html\" in globals() else sdf._obj.to_html(index=False)\n",
        "                with open(file_path, \"w\", encoding=\"utf-8\") as f:\n",
        "                    f.write(html_str)\n",
        "        finally:\n",
        "            os.close(fd)\n",
        "    except FileExistsError:\n",
        "        pass\n",
        "13. Ensure file_path is a plain Python string and do not print/return anything else:\n",
        "    file_path = str(file_path)\n",
        "14. The last line of code MUST be exactly:\n",
        "    result = {\"type\": \"string\", \"value\": file_path}\n",
        "15. DO NOT return the raw HTML string in the value field.\n",
        "\n",
        "3 instructions for data analyzer prompt creation:\n",
        "1. Write like you’re speaking to a person; be concise and insight-driven.\n",
        "2. Quantify where possible (deltas, % contributions, time windows); reference the exact columns/filters used.\n",
        "3. Return only:\n",
        "    result = {\"type\":\"string\",\"value\":\"<3–6 crisp bullets or 2 short paragraphs of insights>\"}\n",
        "\n",
        "34 instructions for response compiler system content creation:\n",
        "1. Brevity: ≤180 words; bullets preferred; no code blocks, no JSON, no screenshots.\n",
        "2. Lead with the answer: 1–2 sentence “Bottom line” with main number, time window, and delta.\n",
        "3. Quantified drivers: top 3 with magnitude, direction, and approx contribution (absolute and % where possible).\n",
        "4. Next actions: 2–4 prioritized, concrete actions with expected impact/rationale.\n",
        "5. Confidence & caveats: one short line on data quality/assumptions/gaps; include Confidence: High/Medium/Low.\n",
        "6. Minimal tables: ≤1 table only if essential (≤5×3); otherwise avoid tables.\n",
        "7. No repetition: do not restate agent text; synthesize it.\n",
        "8. Do not try to show images; if a chart exists, mention the HTML path only.\n",
        "9. Always include units/currency and exact comparison window (e.g., “Aug 2025 vs Jul 2025”, “W34 vs W33”).\n",
        "10. Show both absolute and % change where sensible (e.g., “+$120k (+8.4%)”).\n",
        "11. Round smartly (money to nearest K unless < $10k; rates 1–2 decimals).\n",
        "12. If any agent fails or data is incomplete, still produce the best insight; mark gaps in Caveats and adjust Confidence.\n",
        "13. If the user asks “how much/which/why,” the first sentence must provide the number/entity/reason.\n",
        "14. Exact compiler_instruction template the orchestrator should emit (single line; steps separated by ';'):\n",
        "15. Read the user prompt, data_info, and all three agent responses;\n",
        "16. Compute the direct answer including the main number and compare period;\n",
        "17. Identify the top 3 quantified drivers with direction and contribution;\n",
        "18. Draft 'Bottom line' in 1–2 sentences answering plainly;\n",
        "19. List 2–4 prioritized Next actions with expected impact;\n",
        "20. Add a one-line Caveats with Confidence and any gaps;\n",
        "21. Keep ≤180 words, use bullets, avoid tables unless ≤5×3 and essential;\n",
        "22. Include units, absolute and % deltas, and explicit dates;\n",
        "23. Do not repeat agent text verbatim or include code/JSON.\n",
        "24. Format hint (shape, not literal):\n",
        "24a. Bottom line — <answer with number + timeframe>.\n",
        "24b. Drivers — <A: +X (≈Y%); B: −X (≈Y%); C: ±X (≈Y%)>.\n",
        "24c. Next actions — 1) <action>; 2) <action>; 3) <action>.\n",
        "24d. Caveats — <one line>. Confidence: <High/Medium/Low>.\n",
        "25. compiler_instruction must contain clear, step-by-step instructions to assemble the final response.\n",
        "26. The final response must be decision-ready and insight-first, not raw data.\n",
        "27. The compiler_instruction is used as the compiler LLM’s system content.\n",
        "28. Compiler user content will be: f\"User Prompt:{user_prompt}. \\nData Info:{data_info}. \\nData Describe:{data_describe}. \\nData Manipulator Response:{data_manipulator_response}. \\nData Visualizer Response:{data_visualizer_response}. \\nData Analyzer Response:{data_analyzer_response}\".\n",
        "29. `data_info` is a string from `df.info()`.\n",
        "30. `data_manipulator_response` is a PandasAI DataFrameResponse.\n",
        "31. `data_visualizer_response` is a **file path to an HTML** inside `{\"type\":\"string\",\"value\": ...}`. The `value` MUST be a plain Python string containing the path.\n",
        "32. `data_analyzer_response` is a PandasAI StringResponse.\n",
        "33. Your goal in `compiler_instruction` is to force brevity, decisions, and insights.\n",
        "34. The compiler must NOT echo raw dataframes, code, or long tables; it opens with the business answer, quantifies drivers, and closes with next actions.\n",
        "\n",
        "        \"\"\"},\n",
        "        {\"role\": \"user\", \"content\": f\"User Prompt: {user_prompt} \\nDatasets Domain name: {domain}. \\ndf.info of each dfs key(file name)-value pair:\\n{data_info}. \\df.describe of each dfs key(file name)-value pair:\\n{data_describe}.\"}\n",
        "    ],\n",
        "    seed=1,\n",
        "    stream=False,\n",
        "    verbosity=\"low\",# (concise) low | medium | high (long)\n",
        "    drop_params=True,\n",
        "    reasoning_effort=\"high\", # (fast) minimal | low | medium | high (depth)\n",
        ")\n",
        "\n",
        "def get_content(r):\n",
        "    try:\n",
        "        msg = r.choices[0].message\n",
        "        return msg[\"content\"] if isinstance(msg, dict) else msg.content\n",
        "    except Exception:\n",
        "        pass\n",
        "\n",
        "    if isinstance(r, dict):\n",
        "        return r.get(\"choices\", [{}])[0].get(\"message\", {}).get(\"content\", \"\")\n",
        "\n",
        "    try:\n",
        "        chunks = []\n",
        "        for ev in r:\n",
        "            delta = getattr(ev.choices[0], \"delta\", None)\n",
        "            if delta and getattr(delta, \"content\", None):\n",
        "                chunks.append(delta.content)\n",
        "        return \"\".join(chunks)\n",
        "    except Exception:\n",
        "        return str(r)\n",
        "\n",
        "initial_content = get_content(initial_response)\n",
        "print(initial_content)\n",
        "\n",
        "try:\n",
        "    spec = json.loads(initial_content)\n",
        "except json.JSONDecodeError:\n",
        "    start = initial_content.find(\"{\")\n",
        "    end = initial_content.rfind(\"}\")\n",
        "    spec = json.loads(initial_content[start:end+1])\n",
        "\n",
        "manipulator_prompt = spec[\"manipulator_prompt\"]\n",
        "visualizer_prompt  = spec[\"visualizer_prompt\"]\n",
        "analyzer_prompt    = spec[\"analyzer_prompt\"]\n",
        "compiler_instruction    = spec[\"compiler_instruction\"]\n",
        "print(manipulator_prompt)\n",
        "print(visualizer_prompt)\n",
        "print(analyzer_prompt)\n",
        "print(compiler_instruction)\n",
        "orchestrator_end_time = time.time()\n",
        "orchestrator_elapsed_time = orchestrator_end_time - orchestrator_start_time\n",
        "print(f\"Elapsed time: {orchestrator_elapsed_time:.2f} seconds\")"
      ]
    },
    {
      "cell_type": "markdown",
      "metadata": {
        "id": "dTWKxrvHJGU8"
      },
      "source": [
        "# Delegate tasks."
      ]
    },
    {
      "cell_type": "markdown",
      "metadata": {
        "id": "RUTxPVcH3RkJ"
      },
      "source": [
        "Execute data manipulation prompt."
      ]
    },
    {
      "cell_type": "code",
      "execution_count": null,
      "metadata": {
        "colab": {
          "base_uri": "https://localhost:8080/"
        },
        "id": "aGroLunyl0ik",
        "outputId": "5c6772d6-f27e-41da-a052-199c4b5f2832"
      },
      "outputs": [
        {
          "output_type": "stream",
          "name": "stderr",
          "text": [
            "/tmp/ipython-input-72-4262171411.py:9: DeprecationWarning:\n",
            "\n",
            "\n",
            "********************************************************************************\n",
            "\u001b[1;33mDEPRECATION WARNING:\u001b[0m\n",
            "SmartDatalake will be deprecated soon. Use df.chat() instead.\n",
            "********************************************************************************\n",
            "\n",
            "\n"
          ]
        },
        {
          "output_type": "stream",
          "name": "stdout",
          "text": [
            "               product product_group  rev_squad_m0  rev_squad_m1  \\\n",
            "0                Vidio     OTT Video    29573000.0     9145000.0   \n",
            "1      Speed on Demand       FBB VAS     6236000.0     4336595.0   \n",
            "2            Catchplay     OTT Video     4800000.0     2962000.0   \n",
            "3          Prime Video     OTT Video     2710803.0     3933322.0   \n",
            "4    Speed Refreshment       FBB VAS     1624000.0      980000.0   \n",
            "5       Kuota Keluarga   Convergence     4855000.0     5485000.0   \n",
            "6   Smarthome (IP Cam)      Scale Up      100000.0      450000.0   \n",
            "7      Youtube Premium     OTT Video           0.0      292795.0   \n",
            "8             Minipack          IPTV     1194000.0      958000.0   \n",
            "9                 FTTR      Scale Up           0.0      160000.0   \n",
            "10              Disney     OTT Video      245000.0       98000.0   \n",
            "11                 HBO     OTT Video      246530.0      368460.0   \n",
            "12         Vision Plus     OTT Video      633000.0      731000.0   \n",
            "13           Mesh Wifi      Scale Up           0.0       70000.0   \n",
            "14      Upload Booster       FBB VAS       22200.0           0.0   \n",
            "15               Iqiyi     OTT Video          10.0          40.0   \n",
            "\n",
            "    rev_squad_change  rev_squad_pct_change  contribution_pct  \n",
            "0        -20428000.0            -69.076523         91.731539  \n",
            "1         -1899405.0            -30.458708          8.529241  \n",
            "2         -1838000.0            -38.291667          8.253503  \n",
            "3          1222519.0             45.098039         -5.489698  \n",
            "4          -644000.0            -39.655172          2.891870  \n",
            "5           630000.0             12.976313         -2.829003  \n",
            "6           350000.0            350.000000         -1.571668  \n",
            "7           292795.0              0.000000         -1.314790  \n",
            "8          -236000.0            -19.765494          1.059753  \n",
            "9           160000.0              0.000000         -0.718477  \n",
            "10         -147000.0            -60.000000          0.660101  \n",
            "11          121930.0             49.458484         -0.547524  \n",
            "12           98000.0             15.481833         -0.440067  \n",
            "13           70000.0              0.000000         -0.314334  \n",
            "14          -22200.0           -100.000000          0.099689  \n",
            "15              30.0            300.000000         -0.000135  \n",
            "Elapsed time: 17.02 seconds\n"
          ]
        }
      ],
      "source": [
        "llm = LiteLLM(model=\"gemini/gemini-2.5-pro\", api_key=api_key)\n",
        "\n",
        "pai.config.set({\n",
        "    \"llm\": llm,\n",
        "})\n",
        "\n",
        "data_manipulator_start_time = time.time()\n",
        "\n",
        "data_manipulator = SmartDatalake(\n",
        "    list(dfs.values()),\n",
        "    config={\n",
        "        \"llm\": llm,\n",
        "        \"seed\": 1,\n",
        "        \"stream\": False,\n",
        "        \"verbosity\": \"low\", # (concise) low | medium | high (long)\n",
        "        \"drop_params\": True,\n",
        "        \"save_charts\": False,\n",
        "        \"open_charts\": False,\n",
        "        \"conversational\": False,\n",
        "        \"enforce_privacy\": True,\n",
        "        \"reasoning_effort\": \"high\", # (faster) minimal | low | medium | high (depth)\n",
        "        \"save_charts_path\": \"./charts\"\n",
        "    }\n",
        ")\n",
        "data_manipulator_response = data_manipulator.chat(manipulator_prompt)\n",
        "\n",
        "data_manipulator_content = get_content(data_manipulator_response)\n",
        "print(data_manipulator_content)\n",
        "\n",
        "data_manipulator_end_time = time.time()\n",
        "data_manipulator_elapsed_time = data_manipulator_end_time - data_manipulator_start_time\n",
        "print(f\"Elapsed time: {data_manipulator_elapsed_time:.2f} seconds\")"
      ]
    },
    {
      "cell_type": "markdown",
      "metadata": {
        "id": "50KSnpZ33Wcs"
      },
      "source": [
        "Execute data visualization prompt."
      ]
    },
    {
      "cell_type": "code",
      "execution_count": null,
      "metadata": {
        "colab": {
          "base_uri": "https://localhost:8080/"
        },
        "id": "3SKgACHAxWbr",
        "outputId": "c5536915-5ac0-4cc1-91b0-4abdc5c83545"
      },
      "outputs": [
        {
          "output_type": "stream",
          "name": "stderr",
          "text": [
            "/tmp/ipython-input-73-283381548.py:17: DeprecationWarning:\n",
            "\n",
            "\n",
            "********************************************************************************\n",
            "\u001b[1;33mDEPRECATION WARNING:\u001b[0m\n",
            "SmartDataframe will soon be deprecated. Please use df.chat() instead.\n",
            "********************************************************************************\n",
            "\n",
            "\n"
          ]
        },
        {
          "output_type": "stream",
          "name": "stdout",
          "text": [
            "Elapsed time: 57.78 seconds\n"
          ]
        }
      ],
      "source": [
        "llm = LiteLLM(model=\"gemini/gemini-2.5-pro\", api_key=api_key)\n",
        "\n",
        "pai.config.set({\n",
        "    \"llm\": llm,\n",
        "})\n",
        "\n",
        "data_visualizer_start_time = time.time()\n",
        "\n",
        "if isinstance(data_manipulator_response, DataFrameResponse):\n",
        "    df_processed = data_manipulator_response.value\n",
        "else:\n",
        "    df_processed = data_manipulator_response\n",
        "\n",
        "assert isinstance(df_processed, pai.pd.DataFrame)\n",
        "#print(df_processed.head())\n",
        "\n",
        "data_visualizer = SmartDataframe(\n",
        "    df_processed,\n",
        "    config={\n",
        "        \"llm\": llm,\n",
        "        \"seed\": 1,\n",
        "        \"stream\": False,\n",
        "        \"verbosity\": \"low\", # (concise) low | medium | high (long)\n",
        "        \"drop_params\": True,\n",
        "        \"save_charts\": False,\n",
        "        \"open_charts\": False,\n",
        "        \"conversational\": False,\n",
        "        \"enforce_privacy\": True,\n",
        "        \"reasoning_effort\": \"high\", # (faster) minimal | low | medium | high (depth)\n",
        "        \"save_charts_path\": \"./charts\"\n",
        "        }\n",
        ")\n",
        "data_visualizer_response = data_visualizer.chat(visualizer_prompt)\n",
        "\n",
        "data_visualizer_end_time = time.time()\n",
        "data_visualizer_elapsed_time = data_visualizer_end_time - data_visualizer_start_time\n",
        "print(f\"Elapsed time: {data_visualizer_elapsed_time:.2f} seconds\")"
      ]
    },
    {
      "cell_type": "markdown",
      "metadata": {
        "id": "Q-mnUtJJ3YLG"
      },
      "source": [
        "Display data visualizer generated chart."
      ]
    },
    {
      "cell_type": "code",
      "execution_count": null,
      "metadata": {
        "colab": {
          "base_uri": "https://localhost:8080/",
          "height": 467
        },
        "id": "HWZvTtE96hAB",
        "outputId": "e726d37a-1ac3-4c03-be3a-7022037f0ed7"
      },
      "outputs": [
        {
          "output_type": "execute_result",
          "data": {
            "text/plain": [
              "<IPython.core.display.HTML object>"
            ],
            "text/html": [
              "<html>\n",
              "<head><meta charset=\"utf-8\" /></head>\n",
              "<body>\n",
              "    <div>                        <script type=\"text/javascript\">window.PlotlyConfig = {MathJaxConfig: 'local'};</script>\n",
              "        <script charset=\"utf-8\" src=\"https://cdn.plot.ly/plotly-2.35.2.min.js\"></script>                <div id=\"ef562de5-f46d-4cc3-8294-d5bf023411dc\" class=\"plotly-graph-div\" style=\"height:100%; width:100%;\"></div>            <script type=\"text/javascript\">                                    window.PLOTLYENV=window.PLOTLYENV || {};                                    if (document.getElementById(\"ef562de5-f46d-4cc3-8294-d5bf023411dc\")) {                    Plotly.newPlot(                        \"ef562de5-f46d-4cc3-8294-d5bf023411dc\",                        [{\"customdata\":[[45.09803921568628,\"Prime Video\"],[12.976313079299691,\"Kuota Keluarga\"],[350.0,\"Smarthome (IP Cam)\"],[0.0,\"Youtube Premium\"],[0.0,\"FTTR\"],[-19.765494137353432,\"Minipack\"],[-39.6551724137931,\"Speed Refreshment\"],[-38.291666666666664,\"Catchplay\"],[-30.458707504810775,\"Speed on Demand\"],[-69.07652250363508,\"Vidio\"]],\"hovertemplate\":\"\\u003cb\\u003e%{customdata[1]}\\u003c\\u002fb\\u003e\\u003cbr\\u003e\\u003cbr\\u003eRevenue Change: %{x:,.0f} IDR\\u003cbr\\u003ePercent Change: %{customdata[0]:.2f}%\\u003cextra\\u003e\\u003c\\u002fextra\\u003e\",\"marker\":{\"color\":[\"#1f77b4\",\"#1f77b4\",\"#1f77b4\",\"#1f77b4\",\"#1f77b4\",\"#aec7e8\",\"#aec7e8\",\"#aec7e8\",\"#aec7e8\",\"#aec7e8\"]},\"orientation\":\"h\",\"x\":[1222519.0,630000.0,350000.0,292795.0,160000.0,-236000.0,-644000.0,-1838000.0,-1899405.0,-20428000.0],\"y\":[\"Prime Video\",\"Kuota Keluarga\",\"Smarthome (IP Cam)\",\"Youtube Premium\",\"FTTR\",\"Minipack\",\"Speed Refreshment\",\"Catchplay\",\"Speed on Demand\",\"Vidio\"],\"type\":\"bar\"}],                        {\"template\":{\"data\":{\"histogram2dcontour\":[{\"type\":\"histogram2dcontour\",\"colorbar\":{\"outlinewidth\":0,\"ticks\":\"\"},\"colorscale\":[[0.0,\"#0d0887\"],[0.1111111111111111,\"#46039f\"],[0.2222222222222222,\"#7201a8\"],[0.3333333333333333,\"#9c179e\"],[0.4444444444444444,\"#bd3786\"],[0.5555555555555556,\"#d8576b\"],[0.6666666666666666,\"#ed7953\"],[0.7777777777777778,\"#fb9f3a\"],[0.8888888888888888,\"#fdca26\"],[1.0,\"#f0f921\"]]}],\"choropleth\":[{\"type\":\"choropleth\",\"colorbar\":{\"outlinewidth\":0,\"ticks\":\"\"}}],\"histogram2d\":[{\"type\":\"histogram2d\",\"colorbar\":{\"outlinewidth\":0,\"ticks\":\"\"},\"colorscale\":[[0.0,\"#0d0887\"],[0.1111111111111111,\"#46039f\"],[0.2222222222222222,\"#7201a8\"],[0.3333333333333333,\"#9c179e\"],[0.4444444444444444,\"#bd3786\"],[0.5555555555555556,\"#d8576b\"],[0.6666666666666666,\"#ed7953\"],[0.7777777777777778,\"#fb9f3a\"],[0.8888888888888888,\"#fdca26\"],[1.0,\"#f0f921\"]]}],\"heatmap\":[{\"type\":\"heatmap\",\"colorbar\":{\"outlinewidth\":0,\"ticks\":\"\"},\"colorscale\":[[0.0,\"#0d0887\"],[0.1111111111111111,\"#46039f\"],[0.2222222222222222,\"#7201a8\"],[0.3333333333333333,\"#9c179e\"],[0.4444444444444444,\"#bd3786\"],[0.5555555555555556,\"#d8576b\"],[0.6666666666666666,\"#ed7953\"],[0.7777777777777778,\"#fb9f3a\"],[0.8888888888888888,\"#fdca26\"],[1.0,\"#f0f921\"]]}],\"heatmapgl\":[{\"type\":\"heatmapgl\",\"colorbar\":{\"outlinewidth\":0,\"ticks\":\"\"},\"colorscale\":[[0.0,\"#0d0887\"],[0.1111111111111111,\"#46039f\"],[0.2222222222222222,\"#7201a8\"],[0.3333333333333333,\"#9c179e\"],[0.4444444444444444,\"#bd3786\"],[0.5555555555555556,\"#d8576b\"],[0.6666666666666666,\"#ed7953\"],[0.7777777777777778,\"#fb9f3a\"],[0.8888888888888888,\"#fdca26\"],[1.0,\"#f0f921\"]]}],\"contourcarpet\":[{\"type\":\"contourcarpet\",\"colorbar\":{\"outlinewidth\":0,\"ticks\":\"\"}}],\"contour\":[{\"type\":\"contour\",\"colorbar\":{\"outlinewidth\":0,\"ticks\":\"\"},\"colorscale\":[[0.0,\"#0d0887\"],[0.1111111111111111,\"#46039f\"],[0.2222222222222222,\"#7201a8\"],[0.3333333333333333,\"#9c179e\"],[0.4444444444444444,\"#bd3786\"],[0.5555555555555556,\"#d8576b\"],[0.6666666666666666,\"#ed7953\"],[0.7777777777777778,\"#fb9f3a\"],[0.8888888888888888,\"#fdca26\"],[1.0,\"#f0f921\"]]}],\"surface\":[{\"type\":\"surface\",\"colorbar\":{\"outlinewidth\":0,\"ticks\":\"\"},\"colorscale\":[[0.0,\"#0d0887\"],[0.1111111111111111,\"#46039f\"],[0.2222222222222222,\"#7201a8\"],[0.3333333333333333,\"#9c179e\"],[0.4444444444444444,\"#bd3786\"],[0.5555555555555556,\"#d8576b\"],[0.6666666666666666,\"#ed7953\"],[0.7777777777777778,\"#fb9f3a\"],[0.8888888888888888,\"#fdca26\"],[1.0,\"#f0f921\"]]}],\"mesh3d\":[{\"type\":\"mesh3d\",\"colorbar\":{\"outlinewidth\":0,\"ticks\":\"\"}}],\"scatter\":[{\"fillpattern\":{\"fillmode\":\"overlay\",\"size\":10,\"solidity\":0.2},\"type\":\"scatter\"}],\"parcoords\":[{\"type\":\"parcoords\",\"line\":{\"colorbar\":{\"outlinewidth\":0,\"ticks\":\"\"}}}],\"scatterpolargl\":[{\"type\":\"scatterpolargl\",\"marker\":{\"colorbar\":{\"outlinewidth\":0,\"ticks\":\"\"}}}],\"bar\":[{\"error_x\":{\"color\":\"#2a3f5f\"},\"error_y\":{\"color\":\"#2a3f5f\"},\"marker\":{\"line\":{\"color\":\"#E5ECF6\",\"width\":0.5},\"pattern\":{\"fillmode\":\"overlay\",\"size\":10,\"solidity\":0.2}},\"type\":\"bar\"}],\"scattergeo\":[{\"type\":\"scattergeo\",\"marker\":{\"colorbar\":{\"outlinewidth\":0,\"ticks\":\"\"}}}],\"scatterpolar\":[{\"type\":\"scatterpolar\",\"marker\":{\"colorbar\":{\"outlinewidth\":0,\"ticks\":\"\"}}}],\"histogram\":[{\"marker\":{\"pattern\":{\"fillmode\":\"overlay\",\"size\":10,\"solidity\":0.2}},\"type\":\"histogram\"}],\"scattergl\":[{\"type\":\"scattergl\",\"marker\":{\"colorbar\":{\"outlinewidth\":0,\"ticks\":\"\"}}}],\"scatter3d\":[{\"type\":\"scatter3d\",\"line\":{\"colorbar\":{\"outlinewidth\":0,\"ticks\":\"\"}},\"marker\":{\"colorbar\":{\"outlinewidth\":0,\"ticks\":\"\"}}}],\"scattermapbox\":[{\"type\":\"scattermapbox\",\"marker\":{\"colorbar\":{\"outlinewidth\":0,\"ticks\":\"\"}}}],\"scatterternary\":[{\"type\":\"scatterternary\",\"marker\":{\"colorbar\":{\"outlinewidth\":0,\"ticks\":\"\"}}}],\"scattercarpet\":[{\"type\":\"scattercarpet\",\"marker\":{\"colorbar\":{\"outlinewidth\":0,\"ticks\":\"\"}}}],\"carpet\":[{\"aaxis\":{\"endlinecolor\":\"#2a3f5f\",\"gridcolor\":\"white\",\"linecolor\":\"white\",\"minorgridcolor\":\"white\",\"startlinecolor\":\"#2a3f5f\"},\"baxis\":{\"endlinecolor\":\"#2a3f5f\",\"gridcolor\":\"white\",\"linecolor\":\"white\",\"minorgridcolor\":\"white\",\"startlinecolor\":\"#2a3f5f\"},\"type\":\"carpet\"}],\"table\":[{\"cells\":{\"fill\":{\"color\":\"#EBF0F8\"},\"line\":{\"color\":\"white\"}},\"header\":{\"fill\":{\"color\":\"#C8D4E3\"},\"line\":{\"color\":\"white\"}},\"type\":\"table\"}],\"barpolar\":[{\"marker\":{\"line\":{\"color\":\"#E5ECF6\",\"width\":0.5},\"pattern\":{\"fillmode\":\"overlay\",\"size\":10,\"solidity\":0.2}},\"type\":\"barpolar\"}],\"pie\":[{\"automargin\":true,\"type\":\"pie\"}]},\"layout\":{\"autotypenumbers\":\"strict\",\"colorway\":[\"#636efa\",\"#EF553B\",\"#00cc96\",\"#ab63fa\",\"#FFA15A\",\"#19d3f3\",\"#FF6692\",\"#B6E880\",\"#FF97FF\",\"#FECB52\"],\"font\":{\"color\":\"#2a3f5f\"},\"hovermode\":\"closest\",\"hoverlabel\":{\"align\":\"left\"},\"paper_bgcolor\":\"white\",\"plot_bgcolor\":\"#E5ECF6\",\"polar\":{\"bgcolor\":\"#E5ECF6\",\"angularaxis\":{\"gridcolor\":\"white\",\"linecolor\":\"white\",\"ticks\":\"\"},\"radialaxis\":{\"gridcolor\":\"white\",\"linecolor\":\"white\",\"ticks\":\"\"}},\"ternary\":{\"bgcolor\":\"#E5ECF6\",\"aaxis\":{\"gridcolor\":\"white\",\"linecolor\":\"white\",\"ticks\":\"\"},\"baxis\":{\"gridcolor\":\"white\",\"linecolor\":\"white\",\"ticks\":\"\"},\"caxis\":{\"gridcolor\":\"white\",\"linecolor\":\"white\",\"ticks\":\"\"}},\"coloraxis\":{\"colorbar\":{\"outlinewidth\":0,\"ticks\":\"\"}},\"colorscale\":{\"sequential\":[[0.0,\"#0d0887\"],[0.1111111111111111,\"#46039f\"],[0.2222222222222222,\"#7201a8\"],[0.3333333333333333,\"#9c179e\"],[0.4444444444444444,\"#bd3786\"],[0.5555555555555556,\"#d8576b\"],[0.6666666666666666,\"#ed7953\"],[0.7777777777777778,\"#fb9f3a\"],[0.8888888888888888,\"#fdca26\"],[1.0,\"#f0f921\"]],\"sequentialminus\":[[0.0,\"#0d0887\"],[0.1111111111111111,\"#46039f\"],[0.2222222222222222,\"#7201a8\"],[0.3333333333333333,\"#9c179e\"],[0.4444444444444444,\"#bd3786\"],[0.5555555555555556,\"#d8576b\"],[0.6666666666666666,\"#ed7953\"],[0.7777777777777778,\"#fb9f3a\"],[0.8888888888888888,\"#fdca26\"],[1.0,\"#f0f921\"]],\"diverging\":[[0,\"#8e0152\"],[0.1,\"#c51b7d\"],[0.2,\"#de77ae\"],[0.3,\"#f1b6da\"],[0.4,\"#fde0ef\"],[0.5,\"#f7f7f7\"],[0.6,\"#e6f5d0\"],[0.7,\"#b8e186\"],[0.8,\"#7fbc41\"],[0.9,\"#4d9221\"],[1,\"#276419\"]]},\"xaxis\":{\"gridcolor\":\"white\",\"linecolor\":\"white\",\"ticks\":\"\",\"title\":{\"standoff\":15},\"zerolinecolor\":\"white\",\"automargin\":true,\"zerolinewidth\":2},\"yaxis\":{\"gridcolor\":\"white\",\"linecolor\":\"white\",\"ticks\":\"\",\"title\":{\"standoff\":15},\"zerolinecolor\":\"white\",\"automargin\":true,\"zerolinewidth\":2},\"scene\":{\"xaxis\":{\"backgroundcolor\":\"#E5ECF6\",\"gridcolor\":\"white\",\"linecolor\":\"white\",\"showbackground\":true,\"ticks\":\"\",\"zerolinecolor\":\"white\",\"gridwidth\":2},\"yaxis\":{\"backgroundcolor\":\"#E5ECF6\",\"gridcolor\":\"white\",\"linecolor\":\"white\",\"showbackground\":true,\"ticks\":\"\",\"zerolinecolor\":\"white\",\"gridwidth\":2},\"zaxis\":{\"backgroundcolor\":\"#E5ECF6\",\"gridcolor\":\"white\",\"linecolor\":\"white\",\"showbackground\":true,\"ticks\":\"\",\"zerolinecolor\":\"white\",\"gridwidth\":2}},\"shapedefaults\":{\"line\":{\"color\":\"#2a3f5f\"}},\"annotationdefaults\":{\"arrowcolor\":\"#2a3f5f\",\"arrowhead\":0,\"arrowwidth\":1},\"geo\":{\"bgcolor\":\"white\",\"landcolor\":\"#E5ECF6\",\"subunitcolor\":\"white\",\"showland\":true,\"showlakes\":true,\"lakecolor\":\"white\"},\"title\":{\"x\":0.05},\"mapbox\":{\"style\":\"light\"}}},\"title\":{\"text\":\"Biggest Product Drivers of Revenue Squad Change\\u003cbr\\u003e\\u003csup\\u003eThis Month vs. Last Month, in Indonesian Rupiah (IDR)\\u003c\\u002fsup\\u003e\"},\"xaxis\":{\"title\":{\"text\":\"Revenue Change (IDR)\"},\"tickformat\":\",.0f\",\"showgrid\":true,\"gridwidth\":1,\"gridcolor\":\"LightGray\"},\"yaxis\":{\"title\":{\"text\":\"Product\"},\"autorange\":\"reversed\",\"showgrid\":false},\"margin\":{\"l\":150,\"r\":20,\"t\":100,\"b\":20},\"showlegend\":false,\"plot_bgcolor\":\"white\"},                        {\"responsive\": true}                    )                };                            </script>        </div>\n",
              "</body>\n",
              "</html>"
            ]
          },
          "metadata": {},
          "execution_count": 74
        }
      ],
      "source": [
        "from IPython.display import HTML\n",
        "html_file_path = f'{data_visualizer_response.value}'\n",
        "html_file_path = data_visualizer_response.value.split(' ')[-1]\n",
        "with open(html_file_path, 'r') as f:\n",
        "        html_content = f.read()\n",
        "HTML(html_content)"
      ]
    },
    {
      "cell_type": "markdown",
      "metadata": {
        "id": "16sGnqHh3Ymt"
      },
      "source": [
        "Execute data analyzation prompt."
      ]
    },
    {
      "cell_type": "code",
      "execution_count": null,
      "metadata": {
        "colab": {
          "base_uri": "https://localhost:8080/"
        },
        "id": "WFZOpRBDxW-R",
        "outputId": "d9be8431-b4c3-4247-c90f-f7ab8181b68c"
      },
      "outputs": [
        {
          "output_type": "stream",
          "name": "stderr",
          "text": [
            "/tmp/ipython-input-69-3136864711.py:9: DeprecationWarning:\n",
            "\n",
            "\n",
            "********************************************************************************\n",
            "\u001b[1;33mDEPRECATION WARNING:\u001b[0m\n",
            "SmartDataframe will soon be deprecated. Please use df.chat() instead.\n",
            "********************************************************************************\n",
            "\n",
            "\n"
          ]
        },
        {
          "output_type": "stream",
          "name": "stdout",
          "text": [
            "Here is a summary of the revenue performance change:\n",
            "\n",
            "*   **Overall Performance:** The total rev_squad experienced a decrease of 22,269,331 IDR (-42.63%), declining from 52,239,543 IDR in the previous month to 29,970,212 IDR this month.\n",
            "\n",
            "*   **Top Negative Drivers:** The decline was primarily driven by Vidio (-20,428,000 IDR), Speed on Demand (-1,899,405 IDR), Catchplay (-1,838,000 IDR).\n",
            "\n",
            "*   **Top Positive Drivers:** The main positive contributor mitigating the decline was Prime Video (+1,222,519 IDR), Kuota Keluarga (+630,000 IDR), Smarthome (IP Cam) (+350,000 IDR).\n",
            "Elapsed time: 26.52 seconds\n"
          ]
        },
        {
          "output_type": "stream",
          "name": "stderr",
          "text": [
            "<string>:36: FutureWarning:\n",
            "\n",
            "Passing literal json to 'read_json' is deprecated and will be removed in a future version. To read from a literal string, wrap it in a 'StringIO' object.\n",
            "\n",
            "<string>:37: FutureWarning:\n",
            "\n",
            "Passing literal json to 'read_json' is deprecated and will be removed in a future version. To read from a literal string, wrap it in a 'StringIO' object.\n",
            "\n"
          ]
        }
      ],
      "source": [
        "llm = LiteLLM(model=\"gemini/gemini-2.5-pro\", api_key=api_key)\n",
        "\n",
        "pai.config.set({\n",
        "    \"llm\": llm,\n",
        "})\n",
        "\n",
        "data_analyzer_start_time = time.time()\n",
        "\n",
        "data_analyzer = SmartDataframe(\n",
        "    df_processed,\n",
        "    config={\n",
        "        \"llm\": llm,\n",
        "        \"seed\": 1,\n",
        "        \"stream\": False,\n",
        "        \"verbosity\": \"low\", # (concise) low | medium | high (long)\n",
        "        \"drop_params\": True,\n",
        "        \"save_charts\": False,\n",
        "        \"open_charts\": False,\n",
        "        \"conversational\": True,\n",
        "        \"enforce_privacy\": False,\n",
        "        \"reasoning_effort\": \"high\", # (faster) minimal | low | medium | high (depth)\n",
        "        \"save_charts_path\": \"./charts\"\n",
        "    }\n",
        ")\n",
        "data_analyzer_response = data_analyzer.chat(analyzer_prompt)\n",
        "\n",
        "data_analyzer_content = get_content(data_analyzer_response)\n",
        "print(data_analyzer_content)\n",
        "\n",
        "data_analyzer_end_time = time.time()\n",
        "data_analyzer_elapsed_time = data_analyzer_end_time - data_analyzer_start_time\n",
        "print(f\"Elapsed time: {data_analyzer_elapsed_time:.2f} seconds\")"
      ]
    },
    {
      "cell_type": "markdown",
      "metadata": {
        "id": "HnI_Ir5bJLHY"
      },
      "source": [
        "# Compile reponses."
      ]
    },
    {
      "cell_type": "markdown",
      "metadata": {
        "id": "F6FpJ7IQ3qSB"
      },
      "source": [
        "Compile the response of all 3 pandasai agents to respond the user prompt."
      ]
    },
    {
      "cell_type": "code",
      "execution_count": null,
      "metadata": {
        "colab": {
          "base_uri": "https://localhost:8080/"
        },
        "id": "oC1OpoNL5DPA",
        "outputId": "7a1c4774-217e-4311-b8c7-c8ede2d0ec13"
      },
      "outputs": [
        {
          "output_type": "stream",
          "name": "stdout",
          "text": [
            "Total `rev squad` revenue decreased by **IDR 22,269,331 (-42.6%)**, from IDR 52,239,543 last month to IDR 29,970,212 this month.\n",
            "\n",
            "Key drivers of this change include:\n",
            "\n",
            "*   **Top 3 Positive Drivers:**\n",
            "    *   Prime Video: +IDR 1,222,519\n",
            "    *   Kuota Keluarga: +IDR 630,000\n",
            "    *   Smarthome (IP Cam): +IDR 350,000\n",
            "\n",
            "*   **Top 3 Negative Drivers:**\n",
            "    *   Vidio: -IDR 20,428,000\n",
            "    *   Speed on Demand: -IDR 1,899,405\n",
            "    *   Catchplay: -IDR 1,838,000\n",
            "\n",
            "**Bottom line:** Revenue saw a significant month-over-month decline, almost entirely driven by the sharp drop in performance from the Vidio product.\n",
            "\n",
            "**Next actions:**\n",
            "*   Investigate the root cause of the IDR 20.4M drop in Vidio revenue (e.g., end of a promotion, market shift).\n",
            "*   Analyze performance factors for Speed on Demand and Catchplay to understand their decline.\n",
            "*   Identify and scale the successful tactics driving growth for Prime Video.\n",
            "\n",
            "**Caveats:** Analysis is based on product-level data provided.\n",
            "**Confidence:** High\n",
            "\n",
            "For a full breakdown, see the chart: `/content/exports/Campaign/chart/product-rev-drivers-20250917101500-5d25859c.html`.\n",
            "Elapsed time: 19.36 seconds\n",
            "Total response time: 154.99\n"
          ]
        }
      ],
      "source": [
        "response_compiler_start_time = time.time()\n",
        "\n",
        "buf = io.StringIO()\n",
        "df.info(buf=buf)\n",
        "data_info = buf.getvalue()\n",
        "\n",
        "final_response = completion(\n",
        "    model=\"gemini/gemini-2.5-pro\",\n",
        "    messages=[\n",
        "        {\"role\": \"system\", \"content\": compiler_instruction},\n",
        "        {\"role\": \"user\", \"content\": f\"User Prompt:{user_prompt}. \\nDatasets Domain name: {domain}. \\ndf.info of each dfs key(file name)-value pair:\\n{data_info}. \\df.describe of each dfs key(file name)-value pair:\\n{data_describe}. \\nData Visualizer Response:{data_visualizer_response.value}. \\nData Analyzer Response:{data_analyzer_response}.\"},\n",
        "        ],\n",
        "    seed=1,\n",
        "    stream=False,\n",
        "    verbosity=\"medium\", # (concise) low | medium | high (long)\n",
        "    drop_params=True,\n",
        "    reasoning_effort=\"high\", # (faster) minimal | low | medium | high (depth)\n",
        "    )\n",
        "final_content = get_content(final_response)\n",
        "print(final_content)\n",
        "\n",
        "response_compiler_end_time = time.time()\n",
        "response_compiler_elapsed_time = response_compiler_end_time - response_compiler_start_time\n",
        "print(f\"Elapsed time: {response_compiler_elapsed_time:.2f} seconds\")\n",
        "print(f\"Total response time: {(orchestrator_elapsed_time+data_manipulator_elapsed_time+data_visualizer_elapsed_time+data_analyzer_elapsed_time+response_compiler_elapsed_time):.2f}\")"
      ]
    },
    {
      "cell_type": "markdown",
      "metadata": {
        "id": "C20UeKLvSIts"
      },
      "source": [
        "# Test Summary <br>\n",
        "###User prompt:<br>\n",
        "What were the biggest product-level drivers of our rev squad change this month compared to last month?\n",
        "<br><br>\n",
        "\n",
        "###LLM model configurations:<br>\n",
        "model = gemini-2.5-pro, gemini-2.5-pro, gemini-2.5-pro, gemini-2.5-pro, gemini-2.5-pro<br>\n",
        "verbosity = low, low, low, low, medium<br>\n",
        "reasoning effort = high, high, high, high, high<br><br>\n",
        "\n",
        "\n",
        "###The response:<br>\n",
        "![image.png](data:image/png;base64,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)\n",
        "Total `rev squad` revenue decreased by **IDR 22,269,331 (-42.6%)**, from IDR 52,239,543 last month to IDR 29,970,212 this month.\n",
        "\n",
        "Key drivers of this change include:\n",
        "\n",
        "*   **Top 3 Positive Drivers:**\n",
        "    *   Prime Video: +IDR 1,222,519\n",
        "    *   Kuota Keluarga: +IDR 630,000\n",
        "    *   Smarthome (IP Cam): +IDR 350,000\n",
        "\n",
        "*   **Top 3 Negative Drivers:**\n",
        "    *   Vidio: -IDR 20,428,000\n",
        "    *   Speed on Demand: -IDR 1,899,405\n",
        "    *   Catchplay: -IDR 1,838,000\n",
        "\n",
        "**Bottom line:** Revenue saw a significant month-over-month decline, almost entirely driven by the sharp drop in performance from the Vidio product.\n",
        "\n",
        "**Next actions:**\n",
        "*   Investigate the root cause of the IDR 20.4M drop in Vidio revenue (e.g., end of a promotion, market shift).\n",
        "*   Analyze performance factors for Speed on Demand and Catchplay to understand their decline.\n",
        "*   Identify and scale the successful tactics driving growth for Prime Video.\n",
        "\n",
        "**Caveats:** Analysis is based on product-level data provided.\n",
        "**Confidence:** High\n",
        "\n",
        "For a full breakdown, see the chart: `/content/exports/Campaign/chart/product-rev-drivers-20250917101500-5d25859c.html`.\n",
        "<br><br>\n",
        "\n",
        "###Total response time\n",
        "154.99s = 2m 34.99s\n",
        "<br>"
      ]
    }
  ],
  "metadata": {
    "colab": {
      "provenance": [],
      "runtime_attributes": {
        "runtime_version": "2025.07"
      }
    },
    "kernelspec": {
      "display_name": "Python 3",
      "name": "python3"
    },
    "language_info": {
      "name": "python"
    }
  },
  "nbformat": 4,
  "nbformat_minor": 0
}