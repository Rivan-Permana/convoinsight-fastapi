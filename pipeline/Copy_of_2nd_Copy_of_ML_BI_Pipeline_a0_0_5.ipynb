{
  "nbformat": 4,
  "nbformat_minor": 0,
  "metadata": {
    "colab": {
      "provenance": [],
      "runtime_attributes": {
        "runtime_version": "2025.07"
      },
      "machine_shape": "hm"
    },
    "kernelspec": {
      "name": "python3",
      "display_name": "Python 3"
    },
    "language_info": {
      "name": "python"
    }
  },
  "cells": [
    {
      "cell_type": "markdown",
      "source": [
        "# Install and import dependencies."
      ],
      "metadata": {
        "id": "Hf2IobHWECSp"
      }
    },
    {
      "cell_type": "markdown",
      "source": [
        "Make sure the python version is higher than 3.8 and lower than 3.12."
      ],
      "metadata": {
        "id": "8q4B6qYiq083"
      }
    },
    {
      "cell_type": "code",
      "source": [
        "!python3 --version"
      ],
      "metadata": {
        "colab": {
          "base_uri": "https://localhost:8080/"
        },
        "id": "Kb82pgv4ND-X",
        "outputId": "72cf9d08-f659-4c78-b382-b1012ff40b8a"
      },
      "execution_count": null,
      "outputs": [
        {
          "output_type": "stream",
          "name": "stdout",
          "text": [
            "Python 3.11.13\n"
          ]
        }
      ]
    },
    {
      "cell_type": "markdown",
      "source": [
        "Install pandasai 3.0.0b2 or newer."
      ],
      "metadata": {
        "id": "vTe-_x-Eq_cj"
      }
    },
    {
      "cell_type": "code",
      "source": [
        "!pip install \"pandasai>=3.0.0b2\""
      ],
      "metadata": {
        "colab": {
          "base_uri": "https://localhost:8080/"
        },
        "id": "bkBvRX9CHx4t",
        "outputId": "72647b61-89b0-435e-9f87-93a2e80cdd3b"
      },
      "execution_count": null,
      "outputs": [
        {
          "output_type": "stream",
          "name": "stdout",
          "text": [
            "Requirement already satisfied: pandasai>=3.0.0b2 in /usr/local/lib/python3.11/dist-packages (3.0.0b19)\n",
            "Requirement already satisfied: astor<0.9.0,>=0.8.1 in /usr/local/lib/python3.11/dist-packages (from pandasai>=3.0.0b2) (0.8.1)\n",
            "Requirement already satisfied: duckdb<2.0.0,>=1.0.0 in /usr/local/lib/python3.11/dist-packages (from pandasai>=3.0.0b2) (1.2.2)\n",
            "Requirement already satisfied: jinja2<4.0.0,>=3.1.3 in /usr/local/lib/python3.11/dist-packages (from pandasai>=3.0.0b2) (3.1.6)\n",
            "Requirement already satisfied: matplotlib<3.8,>=3.7.1 in /usr/local/lib/python3.11/dist-packages (from pandasai>=3.0.0b2) (3.7.5)\n",
            "Requirement already satisfied: numpy<2.0,>=1.17 in /usr/local/lib/python3.11/dist-packages (from pandasai>=3.0.0b2) (1.26.4)\n",
            "Requirement already satisfied: openpyxl<4.0.0,>=3.1.5 in /usr/local/lib/python3.11/dist-packages (from pandasai>=3.0.0b2) (3.1.5)\n",
            "Requirement already satisfied: pandas<3.0.0,>=2.0.3 in /usr/local/lib/python3.11/dist-packages (from pandasai>=3.0.0b2) (2.2.2)\n",
            "Requirement already satisfied: pillow<11.0.0,>=10.1.0 in /usr/local/lib/python3.11/dist-packages (from pandasai>=3.0.0b2) (10.4.0)\n",
            "Requirement already satisfied: pyarrow<15.0.0,>=14.0.1 in /usr/local/lib/python3.11/dist-packages (from pandasai>=3.0.0b2) (14.0.2)\n",
            "Requirement already satisfied: pydantic<3.0.0,>=2.6.4 in /usr/local/lib/python3.11/dist-packages (from pandasai>=3.0.0b2) (2.11.7)\n",
            "Requirement already satisfied: python-dotenv<2.0.0,>=1.0.0 in /usr/local/lib/python3.11/dist-packages (from pandasai>=3.0.0b2) (1.1.1)\n",
            "Requirement already satisfied: pyyaml<7.0.0,>=6.0.2 in /usr/local/lib/python3.11/dist-packages (from pandasai>=3.0.0b2) (6.0.2)\n",
            "Requirement already satisfied: requests<3.0.0,>=2.31.0 in /usr/local/lib/python3.11/dist-packages (from pandasai>=3.0.0b2) (2.32.3)\n",
            "Requirement already satisfied: scipy==1.10.1 in /usr/local/lib/python3.11/dist-packages (from pandasai>=3.0.0b2) (1.10.1)\n",
            "Requirement already satisfied: seaborn<0.13.0,>=0.12.2 in /usr/local/lib/python3.11/dist-packages (from pandasai>=3.0.0b2) (0.12.2)\n",
            "Requirement already satisfied: sqlglot<26.0.0,>=25.0.3 in /usr/local/lib/python3.11/dist-packages (from pandasai>=3.0.0b2) (25.20.2)\n",
            "Requirement already satisfied: MarkupSafe>=2.0 in /usr/local/lib/python3.11/dist-packages (from jinja2<4.0.0,>=3.1.3->pandasai>=3.0.0b2) (3.0.2)\n",
            "Requirement already satisfied: contourpy>=1.0.1 in /usr/local/lib/python3.11/dist-packages (from matplotlib<3.8,>=3.7.1->pandasai>=3.0.0b2) (1.3.2)\n",
            "Requirement already satisfied: cycler>=0.10 in /usr/local/lib/python3.11/dist-packages (from matplotlib<3.8,>=3.7.1->pandasai>=3.0.0b2) (0.12.1)\n",
            "Requirement already satisfied: fonttools>=4.22.0 in /usr/local/lib/python3.11/dist-packages (from matplotlib<3.8,>=3.7.1->pandasai>=3.0.0b2) (4.58.5)\n",
            "Requirement already satisfied: kiwisolver>=1.0.1 in /usr/local/lib/python3.11/dist-packages (from matplotlib<3.8,>=3.7.1->pandasai>=3.0.0b2) (1.4.8)\n",
            "Requirement already satisfied: packaging>=20.0 in /usr/local/lib/python3.11/dist-packages (from matplotlib<3.8,>=3.7.1->pandasai>=3.0.0b2) (24.2)\n",
            "Requirement already satisfied: pyparsing>=2.3.1 in /usr/local/lib/python3.11/dist-packages (from matplotlib<3.8,>=3.7.1->pandasai>=3.0.0b2) (3.2.3)\n",
            "Requirement already satisfied: python-dateutil>=2.7 in /usr/local/lib/python3.11/dist-packages (from matplotlib<3.8,>=3.7.1->pandasai>=3.0.0b2) (2.9.0.post0)\n",
            "Requirement already satisfied: et-xmlfile in /usr/local/lib/python3.11/dist-packages (from openpyxl<4.0.0,>=3.1.5->pandasai>=3.0.0b2) (2.0.0)\n",
            "Requirement already satisfied: pytz>=2020.1 in /usr/local/lib/python3.11/dist-packages (from pandas<3.0.0,>=2.0.3->pandasai>=3.0.0b2) (2025.2)\n",
            "Requirement already satisfied: tzdata>=2022.7 in /usr/local/lib/python3.11/dist-packages (from pandas<3.0.0,>=2.0.3->pandasai>=3.0.0b2) (2025.2)\n",
            "Requirement already satisfied: annotated-types>=0.6.0 in /usr/local/lib/python3.11/dist-packages (from pydantic<3.0.0,>=2.6.4->pandasai>=3.0.0b2) (0.7.0)\n",
            "Requirement already satisfied: pydantic-core==2.33.2 in /usr/local/lib/python3.11/dist-packages (from pydantic<3.0.0,>=2.6.4->pandasai>=3.0.0b2) (2.33.2)\n",
            "Requirement already satisfied: typing-extensions>=4.12.2 in /usr/local/lib/python3.11/dist-packages (from pydantic<3.0.0,>=2.6.4->pandasai>=3.0.0b2) (4.14.1)\n",
            "Requirement already satisfied: typing-inspection>=0.4.0 in /usr/local/lib/python3.11/dist-packages (from pydantic<3.0.0,>=2.6.4->pandasai>=3.0.0b2) (0.4.1)\n",
            "Requirement already satisfied: charset-normalizer<4,>=2 in /usr/local/lib/python3.11/dist-packages (from requests<3.0.0,>=2.31.0->pandasai>=3.0.0b2) (3.4.2)\n",
            "Requirement already satisfied: idna<4,>=2.5 in /usr/local/lib/python3.11/dist-packages (from requests<3.0.0,>=2.31.0->pandasai>=3.0.0b2) (3.10)\n",
            "Requirement already satisfied: urllib3<3,>=1.21.1 in /usr/local/lib/python3.11/dist-packages (from requests<3.0.0,>=2.31.0->pandasai>=3.0.0b2) (2.4.0)\n",
            "Requirement already satisfied: certifi>=2017.4.17 in /usr/local/lib/python3.11/dist-packages (from requests<3.0.0,>=2.31.0->pandasai>=3.0.0b2) (2025.7.14)\n",
            "Requirement already satisfied: six>=1.5 in /usr/local/lib/python3.11/dist-packages (from python-dateutil>=2.7->matplotlib<3.8,>=3.7.1->pandasai>=3.0.0b2) (1.17.0)\n"
          ]
        }
      ]
    },
    {
      "cell_type": "markdown",
      "source": [
        "Intall pandasai liteLLM."
      ],
      "metadata": {
        "id": "kTCflbCbrF_j"
      }
    },
    {
      "cell_type": "code",
      "source": [
        "!pip install pandasai-litellm"
      ],
      "metadata": {
        "colab": {
          "base_uri": "https://localhost:8080/"
        },
        "id": "3mpqZs7Pp1Bb",
        "outputId": "8a389a22-fa95-4612-98a3-4ae5631ec30b"
      },
      "execution_count": null,
      "outputs": [
        {
          "output_type": "stream",
          "name": "stdout",
          "text": [
            "Collecting pandasai-litellm\n",
            "  Downloading pandasai_litellm-0.0.1-py3-none-any.whl.metadata (894 bytes)\n",
            "Collecting litellm<2.0.0,>=1.61.20 (from pandasai-litellm)\n",
            "  Downloading litellm-1.77.1-py3-none-any.whl.metadata (41 kB)\n",
            "\u001b[2K     \u001b[90m━━━━━━━━━━━━━━━━━━━━━━━━━━━━━━━━━━━━━━━━\u001b[0m \u001b[32m41.6/41.6 kB\u001b[0m \u001b[31m1.2 MB/s\u001b[0m eta \u001b[36m0:00:00\u001b[0m\n",
            "\u001b[?25hRequirement already satisfied: pandasai>=3.0.0b4 in /usr/local/lib/python3.11/dist-packages (from pandasai-litellm) (3.0.0b19)\n",
            "Requirement already satisfied: aiohttp>=3.10 in /usr/local/lib/python3.11/dist-packages (from litellm<2.0.0,>=1.61.20->pandasai-litellm) (3.11.15)\n",
            "Requirement already satisfied: click in /usr/local/lib/python3.11/dist-packages (from litellm<2.0.0,>=1.61.20->pandasai-litellm) (8.2.1)\n",
            "Collecting fastuuid>=0.12.0 (from litellm<2.0.0,>=1.61.20->pandasai-litellm)\n",
            "  Downloading fastuuid-0.12.0-cp311-cp311-manylinux_2_34_x86_64.whl.metadata (7.8 kB)\n",
            "Requirement already satisfied: httpx>=0.23.0 in /usr/local/lib/python3.11/dist-packages (from litellm<2.0.0,>=1.61.20->pandasai-litellm) (0.28.1)\n",
            "Requirement already satisfied: importlib-metadata>=6.8.0 in /usr/local/lib/python3.11/dist-packages (from litellm<2.0.0,>=1.61.20->pandasai-litellm) (8.7.0)\n",
            "Requirement already satisfied: jinja2<4.0.0,>=3.1.2 in /usr/local/lib/python3.11/dist-packages (from litellm<2.0.0,>=1.61.20->pandasai-litellm) (3.1.6)\n",
            "Requirement already satisfied: jsonschema<5.0.0,>=4.22.0 in /usr/local/lib/python3.11/dist-packages (from litellm<2.0.0,>=1.61.20->pandasai-litellm) (4.24.0)\n",
            "Collecting openai>=1.99.5 (from litellm<2.0.0,>=1.61.20->pandasai-litellm)\n",
            "  Downloading openai-1.107.2-py3-none-any.whl.metadata (29 kB)\n",
            "Requirement already satisfied: pydantic<3.0.0,>=2.5.0 in /usr/local/lib/python3.11/dist-packages (from litellm<2.0.0,>=1.61.20->pandasai-litellm) (2.11.7)\n",
            "Requirement already satisfied: python-dotenv>=0.2.0 in /usr/local/lib/python3.11/dist-packages (from litellm<2.0.0,>=1.61.20->pandasai-litellm) (1.1.1)\n",
            "Requirement already satisfied: tiktoken>=0.7.0 in /usr/local/lib/python3.11/dist-packages (from litellm<2.0.0,>=1.61.20->pandasai-litellm) (0.9.0)\n",
            "Requirement already satisfied: tokenizers in /usr/local/lib/python3.11/dist-packages (from litellm<2.0.0,>=1.61.20->pandasai-litellm) (0.21.2)\n",
            "Requirement already satisfied: astor<0.9.0,>=0.8.1 in /usr/local/lib/python3.11/dist-packages (from pandasai>=3.0.0b4->pandasai-litellm) (0.8.1)\n",
            "Requirement already satisfied: duckdb<2.0.0,>=1.0.0 in /usr/local/lib/python3.11/dist-packages (from pandasai>=3.0.0b4->pandasai-litellm) (1.2.2)\n",
            "Requirement already satisfied: matplotlib<3.8,>=3.7.1 in /usr/local/lib/python3.11/dist-packages (from pandasai>=3.0.0b4->pandasai-litellm) (3.7.5)\n",
            "Requirement already satisfied: numpy<2.0,>=1.17 in /usr/local/lib/python3.11/dist-packages (from pandasai>=3.0.0b4->pandasai-litellm) (1.26.4)\n",
            "Requirement already satisfied: openpyxl<4.0.0,>=3.1.5 in /usr/local/lib/python3.11/dist-packages (from pandasai>=3.0.0b4->pandasai-litellm) (3.1.5)\n",
            "Requirement already satisfied: pandas<3.0.0,>=2.0.3 in /usr/local/lib/python3.11/dist-packages (from pandasai>=3.0.0b4->pandasai-litellm) (2.2.2)\n",
            "Requirement already satisfied: pillow<11.0.0,>=10.1.0 in /usr/local/lib/python3.11/dist-packages (from pandasai>=3.0.0b4->pandasai-litellm) (10.4.0)\n",
            "Requirement already satisfied: pyarrow<15.0.0,>=14.0.1 in /usr/local/lib/python3.11/dist-packages (from pandasai>=3.0.0b4->pandasai-litellm) (14.0.2)\n",
            "Requirement already satisfied: pyyaml<7.0.0,>=6.0.2 in /usr/local/lib/python3.11/dist-packages (from pandasai>=3.0.0b4->pandasai-litellm) (6.0.2)\n",
            "Requirement already satisfied: requests<3.0.0,>=2.31.0 in /usr/local/lib/python3.11/dist-packages (from pandasai>=3.0.0b4->pandasai-litellm) (2.32.3)\n",
            "Requirement already satisfied: scipy==1.10.1 in /usr/local/lib/python3.11/dist-packages (from pandasai>=3.0.0b4->pandasai-litellm) (1.10.1)\n",
            "Requirement already satisfied: seaborn<0.13.0,>=0.12.2 in /usr/local/lib/python3.11/dist-packages (from pandasai>=3.0.0b4->pandasai-litellm) (0.12.2)\n",
            "Requirement already satisfied: sqlglot<26.0.0,>=25.0.3 in /usr/local/lib/python3.11/dist-packages (from pandasai>=3.0.0b4->pandasai-litellm) (25.20.2)\n",
            "Requirement already satisfied: aiohappyeyeballs>=2.3.0 in /usr/local/lib/python3.11/dist-packages (from aiohttp>=3.10->litellm<2.0.0,>=1.61.20->pandasai-litellm) (2.6.1)\n",
            "Requirement already satisfied: aiosignal>=1.1.2 in /usr/local/lib/python3.11/dist-packages (from aiohttp>=3.10->litellm<2.0.0,>=1.61.20->pandasai-litellm) (1.4.0)\n",
            "Requirement already satisfied: attrs>=17.3.0 in /usr/local/lib/python3.11/dist-packages (from aiohttp>=3.10->litellm<2.0.0,>=1.61.20->pandasai-litellm) (25.3.0)\n",
            "Requirement already satisfied: frozenlist>=1.1.1 in /usr/local/lib/python3.11/dist-packages (from aiohttp>=3.10->litellm<2.0.0,>=1.61.20->pandasai-litellm) (1.7.0)\n",
            "Requirement already satisfied: multidict<7.0,>=4.5 in /usr/local/lib/python3.11/dist-packages (from aiohttp>=3.10->litellm<2.0.0,>=1.61.20->pandasai-litellm) (6.6.3)\n",
            "Requirement already satisfied: propcache>=0.2.0 in /usr/local/lib/python3.11/dist-packages (from aiohttp>=3.10->litellm<2.0.0,>=1.61.20->pandasai-litellm) (0.3.2)\n",
            "Requirement already satisfied: yarl<2.0,>=1.17.0 in /usr/local/lib/python3.11/dist-packages (from aiohttp>=3.10->litellm<2.0.0,>=1.61.20->pandasai-litellm) (1.20.1)\n",
            "Requirement already satisfied: anyio in /usr/local/lib/python3.11/dist-packages (from httpx>=0.23.0->litellm<2.0.0,>=1.61.20->pandasai-litellm) (4.9.0)\n",
            "Requirement already satisfied: certifi in /usr/local/lib/python3.11/dist-packages (from httpx>=0.23.0->litellm<2.0.0,>=1.61.20->pandasai-litellm) (2025.7.14)\n",
            "Requirement already satisfied: httpcore==1.* in /usr/local/lib/python3.11/dist-packages (from httpx>=0.23.0->litellm<2.0.0,>=1.61.20->pandasai-litellm) (1.0.9)\n",
            "Requirement already satisfied: idna in /usr/local/lib/python3.11/dist-packages (from httpx>=0.23.0->litellm<2.0.0,>=1.61.20->pandasai-litellm) (3.10)\n",
            "Requirement already satisfied: h11>=0.16 in /usr/local/lib/python3.11/dist-packages (from httpcore==1.*->httpx>=0.23.0->litellm<2.0.0,>=1.61.20->pandasai-litellm) (0.16.0)\n",
            "Requirement already satisfied: zipp>=3.20 in /usr/local/lib/python3.11/dist-packages (from importlib-metadata>=6.8.0->litellm<2.0.0,>=1.61.20->pandasai-litellm) (3.23.0)\n",
            "Requirement already satisfied: MarkupSafe>=2.0 in /usr/local/lib/python3.11/dist-packages (from jinja2<4.0.0,>=3.1.2->litellm<2.0.0,>=1.61.20->pandasai-litellm) (3.0.2)\n",
            "Requirement already satisfied: jsonschema-specifications>=2023.03.6 in /usr/local/lib/python3.11/dist-packages (from jsonschema<5.0.0,>=4.22.0->litellm<2.0.0,>=1.61.20->pandasai-litellm) (2025.4.1)\n",
            "Requirement already satisfied: referencing>=0.28.4 in /usr/local/lib/python3.11/dist-packages (from jsonschema<5.0.0,>=4.22.0->litellm<2.0.0,>=1.61.20->pandasai-litellm) (0.36.2)\n",
            "Requirement already satisfied: rpds-py>=0.7.1 in /usr/local/lib/python3.11/dist-packages (from jsonschema<5.0.0,>=4.22.0->litellm<2.0.0,>=1.61.20->pandasai-litellm) (0.26.0)\n",
            "Requirement already satisfied: contourpy>=1.0.1 in /usr/local/lib/python3.11/dist-packages (from matplotlib<3.8,>=3.7.1->pandasai>=3.0.0b4->pandasai-litellm) (1.3.2)\n",
            "Requirement already satisfied: cycler>=0.10 in /usr/local/lib/python3.11/dist-packages (from matplotlib<3.8,>=3.7.1->pandasai>=3.0.0b4->pandasai-litellm) (0.12.1)\n",
            "Requirement already satisfied: fonttools>=4.22.0 in /usr/local/lib/python3.11/dist-packages (from matplotlib<3.8,>=3.7.1->pandasai>=3.0.0b4->pandasai-litellm) (4.58.5)\n",
            "Requirement already satisfied: kiwisolver>=1.0.1 in /usr/local/lib/python3.11/dist-packages (from matplotlib<3.8,>=3.7.1->pandasai>=3.0.0b4->pandasai-litellm) (1.4.8)\n",
            "Requirement already satisfied: packaging>=20.0 in /usr/local/lib/python3.11/dist-packages (from matplotlib<3.8,>=3.7.1->pandasai>=3.0.0b4->pandasai-litellm) (24.2)\n",
            "Requirement already satisfied: pyparsing>=2.3.1 in /usr/local/lib/python3.11/dist-packages (from matplotlib<3.8,>=3.7.1->pandasai>=3.0.0b4->pandasai-litellm) (3.2.3)\n",
            "Requirement already satisfied: python-dateutil>=2.7 in /usr/local/lib/python3.11/dist-packages (from matplotlib<3.8,>=3.7.1->pandasai>=3.0.0b4->pandasai-litellm) (2.9.0.post0)\n",
            "Requirement already satisfied: distro<2,>=1.7.0 in /usr/local/lib/python3.11/dist-packages (from openai>=1.99.5->litellm<2.0.0,>=1.61.20->pandasai-litellm) (1.9.0)\n",
            "Requirement already satisfied: jiter<1,>=0.4.0 in /usr/local/lib/python3.11/dist-packages (from openai>=1.99.5->litellm<2.0.0,>=1.61.20->pandasai-litellm) (0.10.0)\n",
            "Requirement already satisfied: sniffio in /usr/local/lib/python3.11/dist-packages (from openai>=1.99.5->litellm<2.0.0,>=1.61.20->pandasai-litellm) (1.3.1)\n",
            "Requirement already satisfied: tqdm>4 in /usr/local/lib/python3.11/dist-packages (from openai>=1.99.5->litellm<2.0.0,>=1.61.20->pandasai-litellm) (4.67.1)\n",
            "Requirement already satisfied: typing-extensions<5,>=4.11 in /usr/local/lib/python3.11/dist-packages (from openai>=1.99.5->litellm<2.0.0,>=1.61.20->pandasai-litellm) (4.14.1)\n",
            "Requirement already satisfied: et-xmlfile in /usr/local/lib/python3.11/dist-packages (from openpyxl<4.0.0,>=3.1.5->pandasai>=3.0.0b4->pandasai-litellm) (2.0.0)\n",
            "Requirement already satisfied: pytz>=2020.1 in /usr/local/lib/python3.11/dist-packages (from pandas<3.0.0,>=2.0.3->pandasai>=3.0.0b4->pandasai-litellm) (2025.2)\n",
            "Requirement already satisfied: tzdata>=2022.7 in /usr/local/lib/python3.11/dist-packages (from pandas<3.0.0,>=2.0.3->pandasai>=3.0.0b4->pandasai-litellm) (2025.2)\n",
            "Requirement already satisfied: annotated-types>=0.6.0 in /usr/local/lib/python3.11/dist-packages (from pydantic<3.0.0,>=2.5.0->litellm<2.0.0,>=1.61.20->pandasai-litellm) (0.7.0)\n",
            "Requirement already satisfied: pydantic-core==2.33.2 in /usr/local/lib/python3.11/dist-packages (from pydantic<3.0.0,>=2.5.0->litellm<2.0.0,>=1.61.20->pandasai-litellm) (2.33.2)\n",
            "Requirement already satisfied: typing-inspection>=0.4.0 in /usr/local/lib/python3.11/dist-packages (from pydantic<3.0.0,>=2.5.0->litellm<2.0.0,>=1.61.20->pandasai-litellm) (0.4.1)\n",
            "Requirement already satisfied: charset-normalizer<4,>=2 in /usr/local/lib/python3.11/dist-packages (from requests<3.0.0,>=2.31.0->pandasai>=3.0.0b4->pandasai-litellm) (3.4.2)\n",
            "Requirement already satisfied: urllib3<3,>=1.21.1 in /usr/local/lib/python3.11/dist-packages (from requests<3.0.0,>=2.31.0->pandasai>=3.0.0b4->pandasai-litellm) (2.4.0)\n",
            "Requirement already satisfied: regex>=2022.1.18 in /usr/local/lib/python3.11/dist-packages (from tiktoken>=0.7.0->litellm<2.0.0,>=1.61.20->pandasai-litellm) (2024.11.6)\n",
            "Requirement already satisfied: huggingface-hub<1.0,>=0.16.4 in /usr/local/lib/python3.11/dist-packages (from tokenizers->litellm<2.0.0,>=1.61.20->pandasai-litellm) (0.33.4)\n",
            "Requirement already satisfied: filelock in /usr/local/lib/python3.11/dist-packages (from huggingface-hub<1.0,>=0.16.4->tokenizers->litellm<2.0.0,>=1.61.20->pandasai-litellm) (3.18.0)\n",
            "Requirement already satisfied: fsspec>=2023.5.0 in /usr/local/lib/python3.11/dist-packages (from huggingface-hub<1.0,>=0.16.4->tokenizers->litellm<2.0.0,>=1.61.20->pandasai-litellm) (2025.3.2)\n",
            "Requirement already satisfied: hf-xet<2.0.0,>=1.1.2 in /usr/local/lib/python3.11/dist-packages (from huggingface-hub<1.0,>=0.16.4->tokenizers->litellm<2.0.0,>=1.61.20->pandasai-litellm) (1.1.5)\n",
            "Requirement already satisfied: six>=1.5 in /usr/local/lib/python3.11/dist-packages (from python-dateutil>=2.7->matplotlib<3.8,>=3.7.1->pandasai>=3.0.0b4->pandasai-litellm) (1.17.0)\n",
            "Downloading pandasai_litellm-0.0.1-py3-none-any.whl (2.5 kB)\n",
            "Downloading litellm-1.77.1-py3-none-any.whl (9.1 MB)\n",
            "\u001b[2K   \u001b[90m━━━━━━━━━━━━━━━━━━━━━━━━━━━━━━━━━━━━━━━━\u001b[0m \u001b[32m9.1/9.1 MB\u001b[0m \u001b[31m53.7 MB/s\u001b[0m eta \u001b[36m0:00:00\u001b[0m\n",
            "\u001b[?25hDownloading fastuuid-0.12.0-cp311-cp311-manylinux_2_34_x86_64.whl (278 kB)\n",
            "\u001b[2K   \u001b[90m━━━━━━━━━━━━━━━━━━━━━━━━━━━━━━━━━━━━━━━━\u001b[0m \u001b[32m278.3/278.3 kB\u001b[0m \u001b[31m39.2 MB/s\u001b[0m eta \u001b[36m0:00:00\u001b[0m\n",
            "\u001b[?25hDownloading openai-1.107.2-py3-none-any.whl (946 kB)\n",
            "\u001b[2K   \u001b[90m━━━━━━━━━━━━━━━━━━━━━━━━━━━━━━━━━━━━━━━━\u001b[0m \u001b[32m946.9/946.9 kB\u001b[0m \u001b[31m71.6 MB/s\u001b[0m eta \u001b[36m0:00:00\u001b[0m\n",
            "\u001b[?25hInstalling collected packages: fastuuid, openai, litellm, pandasai-litellm\n",
            "  Attempting uninstall: openai\n",
            "    Found existing installation: openai 1.95.1\n",
            "    Uninstalling openai-1.95.1:\n",
            "      Successfully uninstalled openai-1.95.1\n",
            "Successfully installed fastuuid-0.12.0 litellm-1.77.1 openai-1.107.2 pandasai-litellm-0.0.1\n"
          ]
        }
      ]
    },
    {
      "cell_type": "markdown",
      "source": [
        "Import dependencies."
      ],
      "metadata": {
        "id": "hlaQMoEvqPSE"
      }
    },
    {
      "cell_type": "code",
      "source": [
        "import os\n",
        "import io\n",
        "import re\n",
        "import time\n",
        "import json\n",
        "import random\n",
        "import pandas as pd\n",
        "import pandasai as pai\n",
        "from getpass import getpass\n",
        "from litellm import completion\n",
        "from google.colab import files\n",
        "from pandasai import SmartDataframe, SmartDatalake\n",
        "from pandasai_litellm.litellm import LiteLLM\n",
        "from pandasai.core.response.dataframe import DataFrameResponse"
      ],
      "metadata": {
        "id": "BE56sfhANBfI"
      },
      "execution_count": null,
      "outputs": []
    },
    {
      "cell_type": "markdown",
      "source": [
        "# Create new domain."
      ],
      "metadata": {
        "id": "dOjGOVl5I2sN"
      }
    },
    {
      "cell_type": "markdown",
      "source": [
        "Input domain name."
      ],
      "metadata": {
        "id": "P7TDyG01qhFU"
      }
    },
    {
      "cell_type": "code",
      "source": [
        "domain = input(\"Enter new domain name: \")"
      ],
      "metadata": {
        "colab": {
          "base_uri": "https://localhost:8080/"
        },
        "id": "JGJadUKEpE0S",
        "outputId": "bc503ea0-3822-42ca-ab7d-dfda64b14d90"
      },
      "execution_count": null,
      "outputs": [
        {
          "name": "stdout",
          "output_type": "stream",
          "text": [
            "Enter new domain name: Campaign\n"
          ]
        }
      ]
    },
    {
      "cell_type": "markdown",
      "source": [
        "Upload files."
      ],
      "metadata": {
        "id": "aV0Cy9ueqi_T"
      }
    },
    {
      "cell_type": "code",
      "source": [
        "uploaded = files.upload(f\"/domain/{domain}\")\n",
        "\n",
        "for fn in uploaded.keys():\n",
        "  print('User uploaded file \"{name}\" with length {length} bytes'.format(\n",
        "      name=fn, length=len(uploaded[fn])))"
      ],
      "metadata": {
        "colab": {
          "base_uri": "https://localhost:8080/",
          "height": 862
        },
        "id": "-nW-W_O_oV8O",
        "outputId": "757c8a81-f228-4603-de5a-62b9a3b3a5ed"
      },
      "execution_count": null,
      "outputs": [
        {
          "output_type": "display_data",
          "data": {
            "text/plain": [
              "<IPython.core.display.HTML object>"
            ],
            "text/html": [
              "\n",
              "     <input type=\"file\" id=\"files-a9b7becf-3f61-4d20-a4ea-3e1d1648d21f\" name=\"files[]\" multiple disabled\n",
              "        style=\"border:none\" />\n",
              "     <output id=\"result-a9b7becf-3f61-4d20-a4ea-3e1d1648d21f\">\n",
              "      Upload widget is only available when the cell has been executed in the\n",
              "      current browser session. Please rerun this cell to enable.\n",
              "      </output>\n",
              "      <script>// Copyright 2017 Google LLC\n",
              "//\n",
              "// Licensed under the Apache License, Version 2.0 (the \"License\");\n",
              "// you may not use this file except in compliance with the License.\n",
              "// You may obtain a copy of the License at\n",
              "//\n",
              "//      http://www.apache.org/licenses/LICENSE-2.0\n",
              "//\n",
              "// Unless required by applicable law or agreed to in writing, software\n",
              "// distributed under the License is distributed on an \"AS IS\" BASIS,\n",
              "// WITHOUT WARRANTIES OR CONDITIONS OF ANY KIND, either express or implied.\n",
              "// See the License for the specific language governing permissions and\n",
              "// limitations under the License.\n",
              "\n",
              "/**\n",
              " * @fileoverview Helpers for google.colab Python module.\n",
              " */\n",
              "(function(scope) {\n",
              "function span(text, styleAttributes = {}) {\n",
              "  const element = document.createElement('span');\n",
              "  element.textContent = text;\n",
              "  for (const key of Object.keys(styleAttributes)) {\n",
              "    element.style[key] = styleAttributes[key];\n",
              "  }\n",
              "  return element;\n",
              "}\n",
              "\n",
              "// Max number of bytes which will be uploaded at a time.\n",
              "const MAX_PAYLOAD_SIZE = 100 * 1024;\n",
              "\n",
              "function _uploadFiles(inputId, outputId) {\n",
              "  const steps = uploadFilesStep(inputId, outputId);\n",
              "  const outputElement = document.getElementById(outputId);\n",
              "  // Cache steps on the outputElement to make it available for the next call\n",
              "  // to uploadFilesContinue from Python.\n",
              "  outputElement.steps = steps;\n",
              "\n",
              "  return _uploadFilesContinue(outputId);\n",
              "}\n",
              "\n",
              "// This is roughly an async generator (not supported in the browser yet),\n",
              "// where there are multiple asynchronous steps and the Python side is going\n",
              "// to poll for completion of each step.\n",
              "// This uses a Promise to block the python side on completion of each step,\n",
              "// then passes the result of the previous step as the input to the next step.\n",
              "function _uploadFilesContinue(outputId) {\n",
              "  const outputElement = document.getElementById(outputId);\n",
              "  const steps = outputElement.steps;\n",
              "\n",
              "  const next = steps.next(outputElement.lastPromiseValue);\n",
              "  return Promise.resolve(next.value.promise).then((value) => {\n",
              "    // Cache the last promise value to make it available to the next\n",
              "    // step of the generator.\n",
              "    outputElement.lastPromiseValue = value;\n",
              "    return next.value.response;\n",
              "  });\n",
              "}\n",
              "\n",
              "/**\n",
              " * Generator function which is called between each async step of the upload\n",
              " * process.\n",
              " * @param {string} inputId Element ID of the input file picker element.\n",
              " * @param {string} outputId Element ID of the output display.\n",
              " * @return {!Iterable<!Object>} Iterable of next steps.\n",
              " */\n",
              "function* uploadFilesStep(inputId, outputId) {\n",
              "  const inputElement = document.getElementById(inputId);\n",
              "  inputElement.disabled = false;\n",
              "\n",
              "  const outputElement = document.getElementById(outputId);\n",
              "  outputElement.innerHTML = '';\n",
              "\n",
              "  const pickedPromise = new Promise((resolve) => {\n",
              "    inputElement.addEventListener('change', (e) => {\n",
              "      resolve(e.target.files);\n",
              "    });\n",
              "  });\n",
              "\n",
              "  const cancel = document.createElement('button');\n",
              "  inputElement.parentElement.appendChild(cancel);\n",
              "  cancel.textContent = 'Cancel upload';\n",
              "  const cancelPromise = new Promise((resolve) => {\n",
              "    cancel.onclick = () => {\n",
              "      resolve(null);\n",
              "    };\n",
              "  });\n",
              "\n",
              "  // Wait for the user to pick the files.\n",
              "  const files = yield {\n",
              "    promise: Promise.race([pickedPromise, cancelPromise]),\n",
              "    response: {\n",
              "      action: 'starting',\n",
              "    }\n",
              "  };\n",
              "\n",
              "  cancel.remove();\n",
              "\n",
              "  // Disable the input element since further picks are not allowed.\n",
              "  inputElement.disabled = true;\n",
              "\n",
              "  if (!files) {\n",
              "    return {\n",
              "      response: {\n",
              "        action: 'complete',\n",
              "      }\n",
              "    };\n",
              "  }\n",
              "\n",
              "  for (const file of files) {\n",
              "    const li = document.createElement('li');\n",
              "    li.append(span(file.name, {fontWeight: 'bold'}));\n",
              "    li.append(span(\n",
              "        `(${file.type || 'n/a'}) - ${file.size} bytes, ` +\n",
              "        `last modified: ${\n",
              "            file.lastModifiedDate ? file.lastModifiedDate.toLocaleDateString() :\n",
              "                                    'n/a'} - `));\n",
              "    const percent = span('0% done');\n",
              "    li.appendChild(percent);\n",
              "\n",
              "    outputElement.appendChild(li);\n",
              "\n",
              "    const fileDataPromise = new Promise((resolve) => {\n",
              "      const reader = new FileReader();\n",
              "      reader.onload = (e) => {\n",
              "        resolve(e.target.result);\n",
              "      };\n",
              "      reader.readAsArrayBuffer(file);\n",
              "    });\n",
              "    // Wait for the data to be ready.\n",
              "    let fileData = yield {\n",
              "      promise: fileDataPromise,\n",
              "      response: {\n",
              "        action: 'continue',\n",
              "      }\n",
              "    };\n",
              "\n",
              "    // Use a chunked sending to avoid message size limits. See b/62115660.\n",
              "    let position = 0;\n",
              "    do {\n",
              "      const length = Math.min(fileData.byteLength - position, MAX_PAYLOAD_SIZE);\n",
              "      const chunk = new Uint8Array(fileData, position, length);\n",
              "      position += length;\n",
              "\n",
              "      const base64 = btoa(String.fromCharCode.apply(null, chunk));\n",
              "      yield {\n",
              "        response: {\n",
              "          action: 'append',\n",
              "          file: file.name,\n",
              "          data: base64,\n",
              "        },\n",
              "      };\n",
              "\n",
              "      let percentDone = fileData.byteLength === 0 ?\n",
              "          100 :\n",
              "          Math.round((position / fileData.byteLength) * 100);\n",
              "      percent.textContent = `${percentDone}% done`;\n",
              "\n",
              "    } while (position < fileData.byteLength);\n",
              "  }\n",
              "\n",
              "  // All done.\n",
              "  yield {\n",
              "    response: {\n",
              "      action: 'complete',\n",
              "    }\n",
              "  };\n",
              "}\n",
              "\n",
              "scope.google = scope.google || {};\n",
              "scope.google.colab = scope.google.colab || {};\n",
              "scope.google.colab._files = {\n",
              "  _uploadFiles,\n",
              "  _uploadFilesContinue,\n",
              "};\n",
              "})(self);\n",
              "</script> "
            ]
          },
          "metadata": {}
        },
        {
          "output_type": "stream",
          "name": "stdout",
          "text": [
            "Saving area_m0.csv to /domain/Campaign/area_m0.csv\n",
            "Saving area_m1.csv to /domain/Campaign/area_m1.csv\n",
            "Saving arpu.csv to /domain/Campaign/arpu.csv\n",
            "Saving branch.csv to /domain/Campaign/branch.csv\n",
            "Saving channel_m0.csv to /domain/Campaign/channel_m0.csv\n",
            "Saving channel_m1.csv to /domain/Campaign/channel_m1.csv\n",
            "Saving cumulative.csv to /domain/Campaign/cumulative.csv\n",
            "Saving daily.csv to /domain/Campaign/daily.csv\n",
            "Saving period.csv to /domain/Campaign/period.csv\n",
            "Saving periode_date.csv to /domain/Campaign/periode_date.csv\n",
            "Saving product.csv to /domain/Campaign/product.csv\n",
            "Saving product_dsc.csv to /domain/Campaign/product_dsc.csv\n",
            "Saving region_m0.csv to /domain/Campaign/region_m0.csv\n",
            "Saving region_m1.csv to /domain/Campaign/region_m1.csv\n",
            "Saving trend_target_addon.csv to /domain/Campaign/trend_target_addon.csv\n",
            "User uploaded file \"/domain/Campaign/area_m0.csv\" with length 219 bytes\n",
            "User uploaded file \"/domain/Campaign/area_m1.csv\" with length 210 bytes\n",
            "User uploaded file \"/domain/Campaign/arpu.csv\" with length 196 bytes\n",
            "User uploaded file \"/domain/Campaign/branch.csv\" with length 393 bytes\n",
            "User uploaded file \"/domain/Campaign/channel_m0.csv\" with length 339 bytes\n",
            "User uploaded file \"/domain/Campaign/channel_m1.csv\" with length 340 bytes\n",
            "User uploaded file \"/domain/Campaign/cumulative.csv\" with length 128 bytes\n",
            "User uploaded file \"/domain/Campaign/daily.csv\" with length 260 bytes\n",
            "User uploaded file \"/domain/Campaign/period.csv\" with length 145 bytes\n",
            "User uploaded file \"/domain/Campaign/periode_date.csv\" with length 23 bytes\n",
            "User uploaded file \"/domain/Campaign/product.csv\" with length 2293 bytes\n",
            "User uploaded file \"/domain/Campaign/product_dsc.csv\" with length 1788 bytes\n",
            "User uploaded file \"/domain/Campaign/region_m0.csv\" with length 610 bytes\n",
            "User uploaded file \"/domain/Campaign/region_m1.csv\" with length 597 bytes\n",
            "User uploaded file \"/domain/Campaign/trend_target_addon.csv\" with length 666 bytes\n"
          ]
        }
      ]
    },
    {
      "cell_type": "markdown",
      "source": [
        "Get list of the uploaded files."
      ],
      "metadata": {
        "id": "CyTseOmn3XIP"
      }
    },
    {
      "cell_type": "code",
      "source": [
        "def list_files_in_directory(directory_path):\n",
        "    \"\"\"\n",
        "    Lists all files within a specified directory.\n",
        "\n",
        "    Args:\n",
        "        directory_path (str): The path to the directory.\n",
        "\n",
        "    Returns:\n",
        "        list: A list of file names found in the directory.\n",
        "    \"\"\"\n",
        "    files_in_directory = []\n",
        "    try:\n",
        "        all_entries = os.listdir(directory_path)\n",
        "\n",
        "        for entry in all_entries:\n",
        "            full_path = os.path.join(directory_path, entry)\n",
        "            if os.path.isfile(full_path):\n",
        "                files_in_directory.append(entry)\n",
        "    except FileNotFoundError:\n",
        "        print(f\"Error: Directory not found at '{directory_path}'\")\n",
        "    except Exception as e:\n",
        "        print(f\"An error occurred: {e}\")\n",
        "    return files_in_directory\n",
        "\n",
        "directory_to_check = f'/domain/{domain}'\n",
        "\n",
        "files = list_files_in_directory(directory_to_check)\n",
        "\n",
        "if files:\n",
        "    print(f\"Files in '{directory_to_check}':\")\n",
        "    for file_name in files:\n",
        "        print(file_name)\n",
        "else:\n",
        "    print(f\"No files found in '{directory_to_check}' or an error occurred.\")"
      ],
      "metadata": {
        "colab": {
          "base_uri": "https://localhost:8080/"
        },
        "id": "GYAa3XjNr9lK",
        "outputId": "3013ba0d-a6c7-4e04-e220-4671fbbb6f32"
      },
      "execution_count": null,
      "outputs": [
        {
          "output_type": "stream",
          "name": "stdout",
          "text": [
            "Files in '/domain/Campaign':\n",
            "channel_m0.csv\n",
            "cumulative.csv\n",
            "product.csv\n",
            "arpu.csv\n",
            "product_dsc.csv\n",
            "trend_target_addon.csv\n",
            "period.csv\n",
            "periode_date.csv\n",
            "channel_m1.csv\n",
            "daily.csv\n",
            "area_m1.csv\n",
            "branch.csv\n",
            "area_m0.csv\n",
            "region_m1.csv\n",
            "region_m0.csv\n"
          ]
        }
      ]
    },
    {
      "cell_type": "markdown",
      "source": [
        "Collect .info() of each dataset to be used."
      ],
      "metadata": {
        "id": "QSrhfcqd2tnj"
      }
    },
    {
      "cell_type": "code",
      "source": [
        "data_info = {}\n",
        "dfs = {}\n",
        "for file_name in files:\n",
        "  #dfs[f\"{i}\"] = pai.read_csv(f\"/domain/{domain}/{files[i]}\")\n",
        "  dfs[f\"{file_name}\"] = pd.read_csv(f\"/domain/{domain}/{file_name}\", sep='|')\n",
        "  df = dfs[f\"{file_name}\"]\n",
        "  buf = io.StringIO()\n",
        "  df.info(buf=buf)\n",
        "  data_info[f\"{file_name}\"] = buf.getvalue()\n",
        "  df.info()"
      ],
      "metadata": {
        "colab": {
          "base_uri": "https://localhost:8080/"
        },
        "id": "XzWf0672RDdn",
        "outputId": "b792de37-4aec-47f2-d373-1ec125333058"
      },
      "execution_count": null,
      "outputs": [
        {
          "output_type": "stream",
          "name": "stdout",
          "text": [
            "<class 'pandas.core.frame.DataFrame'>\n",
            "RangeIndex: 10 entries, 0 to 9\n",
            "Data columns (total 4 columns):\n",
            " #   Column        Non-Null Count  Dtype  \n",
            "---  ------        --------------  -----  \n",
            " 0   channel_name  10 non-null     object \n",
            " 1   taker         10 non-null     int64  \n",
            " 2   trx           10 non-null     int64  \n",
            " 3   rev           10 non-null     float64\n",
            "dtypes: float64(1), int64(2), object(1)\n",
            "memory usage: 452.0+ bytes\n",
            "<class 'pandas.core.frame.DataFrame'>\n",
            "RangeIndex: 1 entries, 0 to 0\n",
            "Data columns (total 7 columns):\n",
            " #   Column            Non-Null Count  Dtype  \n",
            "---  ------            --------------  -----  \n",
            " 0   event_date        1 non-null      object \n",
            " 1   latest_period_wl  0 non-null      float64\n",
            " 2   cum_target        1 non-null      int64  \n",
            " 3   cum_deliv         1 non-null      int64  \n",
            " 4   cum_taker         1 non-null      int64  \n",
            " 5   cum_trx           1 non-null      int64  \n",
            " 6   cum_rev           1 non-null      float64\n",
            "dtypes: float64(2), int64(4), object(1)\n",
            "memory usage: 188.0+ bytes\n",
            "<class 'pandas.core.frame.DataFrame'>\n",
            "RangeIndex: 33 entries, 0 to 32\n",
            "Data columns (total 15 columns):\n",
            " #   Column          Non-Null Count  Dtype  \n",
            "---  ------          --------------  -----  \n",
            " 0   sort_order      33 non-null     int64  \n",
            " 1   product_group   33 non-null     object \n",
            " 2   product         33 non-null     object \n",
            " 3   target          33 non-null     int64  \n",
            " 4   taker_m0        33 non-null     int64  \n",
            " 5   taker_m1        33 non-null     int64  \n",
            " 6   trx_m0          33 non-null     int64  \n",
            " 7   trx_m1          33 non-null     int64  \n",
            " 8   rev_squad_m0    33 non-null     float64\n",
            " 9   rev_squad_m1    33 non-null     float64\n",
            " 10  rev_all         33 non-null     float64\n",
            " 11  deliv_m0        33 non-null     int64  \n",
            " 12  deliv_m1        33 non-null     int64  \n",
            " 13  deliv_taker_m0  33 non-null     int64  \n",
            " 14  deliv_taker_m1  33 non-null     int64  \n",
            "dtypes: float64(3), int64(10), object(2)\n",
            "memory usage: 4.0+ KB\n",
            "<class 'pandas.core.frame.DataFrame'>\n",
            "RangeIndex: 6 entries, 0 to 5\n",
            "Data columns (total 4 columns):\n",
            " #   Column    Non-Null Count  Dtype  \n",
            "---  ------    --------------  -----  \n",
            " 0   arpu_cat  6 non-null      object \n",
            " 1   taker     6 non-null      int64  \n",
            " 2   trx       6 non-null      int64  \n",
            " 3   rev       6 non-null      float64\n",
            "dtypes: float64(1), int64(2), object(1)\n",
            "memory usage: 324.0+ bytes\n",
            "<class 'pandas.core.frame.DataFrame'>\n",
            "RangeIndex: 33 entries, 0 to 32\n",
            "Data columns (total 14 columns):\n",
            " #   Column          Non-Null Count  Dtype  \n",
            "---  ------          --------------  -----  \n",
            " 0   sort_order      33 non-null     int64  \n",
            " 1   product_group   33 non-null     object \n",
            " 2   product         33 non-null     object \n",
            " 3   target          33 non-null     int64  \n",
            " 4   taker_m0        33 non-null     int64  \n",
            " 5   taker_m1        33 non-null     int64  \n",
            " 6   trx_m0          33 non-null     int64  \n",
            " 7   trx_m1          33 non-null     int64  \n",
            " 8   rev_m0          33 non-null     float64\n",
            " 9   rev_m1          33 non-null     float64\n",
            " 10  deliv_m0        33 non-null     int64  \n",
            " 11  deliv_m1        33 non-null     int64  \n",
            " 12  deliv_taker_m0  33 non-null     int64  \n",
            " 13  deliv_taker_m1  33 non-null     int64  \n",
            "dtypes: float64(2), int64(10), object(2)\n",
            "memory usage: 3.7+ KB\n",
            "<class 'pandas.core.frame.DataFrame'>\n",
            "RangeIndex: 5 entries, 0 to 4\n",
            "Data columns (total 11 columns):\n",
            " #   Column                 Non-Null Count  Dtype  \n",
            "---  ------                 --------------  -----  \n",
            " 0   event_date             5 non-null      object \n",
            " 1   total_trx              5 non-null      int64  \n",
            " 2   cumulative_total_trx   5 non-null      int64  \n",
            " 3   target_trx             5 non-null      float64\n",
            " 4   cumulative_target_trx  5 non-null      float64\n",
            " 5   gap_taker              5 non-null      float64\n",
            " 6   total_rev              5 non-null      float64\n",
            " 7   cumulative_total_rev   5 non-null      float64\n",
            " 8   target_rev             5 non-null      float64\n",
            " 9   cumulative_target_rev  5 non-null      float64\n",
            " 10  gap_rev                5 non-null      float64\n",
            "dtypes: float64(8), int64(2), object(1)\n",
            "memory usage: 572.0+ bytes\n",
            "<class 'pandas.core.frame.DataFrame'>\n",
            "RangeIndex: 2 entries, 0 to 1\n",
            "Data columns (total 7 columns):\n",
            " #   Column       Non-Null Count  Dtype  \n",
            "---  ------       --------------  -----  \n",
            " 0   period       2 non-null      object \n",
            " 1   target       2 non-null      int64  \n",
            " 2   taker        2 non-null      int64  \n",
            " 3   trx          2 non-null      int64  \n",
            " 4   rev          2 non-null      float64\n",
            " 5   deliv        2 non-null      int64  \n",
            " 6   deliv_taker  2 non-null      int64  \n",
            "dtypes: float64(1), int64(5), object(1)\n",
            "memory usage: 244.0+ bytes\n",
            "<class 'pandas.core.frame.DataFrame'>\n",
            "RangeIndex: 1 entries, 0 to 0\n",
            "Data columns (total 1 columns):\n",
            " #   Column       Non-Null Count  Dtype \n",
            "---  ------       --------------  ----- \n",
            " 0   period_date  1 non-null      object\n",
            "dtypes: object(1)\n",
            "memory usage: 140.0+ bytes\n",
            "<class 'pandas.core.frame.DataFrame'>\n",
            "RangeIndex: 10 entries, 0 to 9\n",
            "Data columns (total 4 columns):\n",
            " #   Column        Non-Null Count  Dtype  \n",
            "---  ------        --------------  -----  \n",
            " 0   channel_name  10 non-null     object \n",
            " 1   taker         10 non-null     int64  \n",
            " 2   trx           10 non-null     int64  \n",
            " 3   rev           10 non-null     float64\n",
            "dtypes: float64(1), int64(2), object(1)\n",
            "memory usage: 452.0+ bytes\n",
            "<class 'pandas.core.frame.DataFrame'>\n",
            "RangeIndex: 5 entries, 0 to 4\n",
            "Data columns (total 7 columns):\n",
            " #   Column    Non-Null Count  Dtype  \n",
            "---  ------    --------------  -----  \n",
            " 0   day       5 non-null      int64  \n",
            " 1   trx_m1    5 non-null      int64  \n",
            " 2   trx_m0    5 non-null      int64  \n",
            " 3   rev_m1    5 non-null      float64\n",
            " 4   rev_m0    5 non-null      float64\n",
            " 5   deliv_m1  5 non-null      int64  \n",
            " 6   deliv_m0  5 non-null      int64  \n",
            "dtypes: float64(2), int64(5)\n",
            "memory usage: 412.0 bytes\n",
            "<class 'pandas.core.frame.DataFrame'>\n",
            "RangeIndex: 4 entries, 0 to 3\n",
            "Data columns (total 7 columns):\n",
            " #   Column       Non-Null Count  Dtype  \n",
            "---  ------       --------------  -----  \n",
            " 0   area         4 non-null      object \n",
            " 1   target       4 non-null      int64  \n",
            " 2   taker        4 non-null      int64  \n",
            " 3   trx          4 non-null      int64  \n",
            " 4   rev          4 non-null      float64\n",
            " 5   deliv        4 non-null      int64  \n",
            " 6   deliv_taker  4 non-null      int64  \n",
            "dtypes: float64(1), int64(5), object(1)\n",
            "memory usage: 356.0+ bytes\n",
            "<class 'pandas.core.frame.DataFrame'>\n",
            "RangeIndex: 10 entries, 0 to 9\n",
            "Data columns (total 6 columns):\n",
            " #   Column  Non-Null Count  Dtype  \n",
            "---  ------  --------------  -----  \n",
            " 0   branch  10 non-null     object \n",
            " 1   target  10 non-null     int64  \n",
            " 2   taker   10 non-null     int64  \n",
            " 3   trx     10 non-null     int64  \n",
            " 4   rev     10 non-null     float64\n",
            " 5   top     10 non-null     object \n",
            "dtypes: float64(1), int64(3), object(2)\n",
            "memory usage: 612.0+ bytes\n",
            "<class 'pandas.core.frame.DataFrame'>\n",
            "RangeIndex: 4 entries, 0 to 3\n",
            "Data columns (total 7 columns):\n",
            " #   Column       Non-Null Count  Dtype  \n",
            "---  ------       --------------  -----  \n",
            " 0   area         4 non-null      object \n",
            " 1   target       4 non-null      int64  \n",
            " 2   taker        4 non-null      int64  \n",
            " 3   trx          4 non-null      int64  \n",
            " 4   rev          4 non-null      float64\n",
            " 5   deliv        4 non-null      int64  \n",
            " 6   deliv_taker  4 non-null      int64  \n",
            "dtypes: float64(1), int64(5), object(1)\n",
            "memory usage: 356.0+ bytes\n",
            "<class 'pandas.core.frame.DataFrame'>\n",
            "RangeIndex: 13 entries, 0 to 12\n",
            "Data columns (total 7 columns):\n",
            " #   Column       Non-Null Count  Dtype  \n",
            "---  ------       --------------  -----  \n",
            " 0   region       13 non-null     object \n",
            " 1   target       13 non-null     int64  \n",
            " 2   taker        13 non-null     int64  \n",
            " 3   trx          13 non-null     int64  \n",
            " 4   rev          13 non-null     float64\n",
            " 5   deliv        13 non-null     int64  \n",
            " 6   deliv_taker  13 non-null     int64  \n",
            "dtypes: float64(1), int64(5), object(1)\n",
            "memory usage: 860.0+ bytes\n",
            "<class 'pandas.core.frame.DataFrame'>\n",
            "RangeIndex: 13 entries, 0 to 12\n",
            "Data columns (total 7 columns):\n",
            " #   Column       Non-Null Count  Dtype  \n",
            "---  ------       --------------  -----  \n",
            " 0   region       13 non-null     object \n",
            " 1   target       13 non-null     int64  \n",
            " 2   taker        13 non-null     int64  \n",
            " 3   trx          13 non-null     int64  \n",
            " 4   rev          13 non-null     float64\n",
            " 5   deliv        13 non-null     int64  \n",
            " 6   deliv_taker  13 non-null     int64  \n",
            "dtypes: float64(1), int64(5), object(1)\n",
            "memory usage: 860.0+ bytes\n"
          ]
        }
      ]
    },
    {
      "cell_type": "markdown",
      "source": [
        "Collect .describe() of each dataset to be used."
      ],
      "metadata": {
        "id": "gYUp6HPP24Ab"
      }
    },
    {
      "cell_type": "code",
      "source": [
        "data_describe = {}\n",
        "for file_name in files:\n",
        "  df = dfs[f\"{file_name}\"]\n",
        "  data_describe[f\"{file_name}\"] = df.describe(include='all')\n",
        "  print(data_describe[f\"{file_name}\"] )"
      ],
      "metadata": {
        "colab": {
          "base_uri": "https://localhost:8080/"
        },
        "id": "3zbPfuInS7s3",
        "outputId": "82ffd3b9-1f00-4190-cc63-29caf4ddcfac"
      },
      "execution_count": null,
      "outputs": [
        {
          "output_type": "stream",
          "name": "stdout",
          "text": [
            "        channel_name       taker         trx           rev\n",
            "count             10   10.000000   10.000000  1.000000e+01\n",
            "unique            10         NaN         NaN           NaN\n",
            "top     FMC - Upoint         NaN         NaN           NaN\n",
            "freq               1         NaN         NaN           NaN\n",
            "mean             NaN   81.000000   82.500000  5.223954e+06\n",
            "std              NaN  199.941102  201.367685  1.142833e+07\n",
            "min              NaN    0.000000    0.000000  0.000000e+00\n",
            "25%              NaN    0.000000    0.000000  0.000000e+00\n",
            "50%              NaN    0.000000    0.000000  0.000000e+00\n",
            "75%              NaN   14.500000   14.500000  1.244365e+06\n",
            "max              NaN  634.000000  637.000000  3.490830e+07\n",
            "        event_date  latest_period_wl  cum_target  cum_deliv  cum_taker  \\\n",
            "count            1               0.0         1.0        1.0        1.0   \n",
            "unique           1               NaN         NaN        NaN        NaN   \n",
            "top     2025-09-05               NaN         NaN        NaN        NaN   \n",
            "freq             1               NaN         NaN        NaN        NaN   \n",
            "mean           NaN               NaN   6350914.0  3426657.0    19661.0   \n",
            "std            NaN               NaN         NaN        NaN        NaN   \n",
            "min            NaN               NaN   6350914.0  3426657.0    19661.0   \n",
            "25%            NaN               NaN   6350914.0  3426657.0    19661.0   \n",
            "50%            NaN               NaN   6350914.0  3426657.0    19661.0   \n",
            "75%            NaN               NaN   6350914.0  3426657.0    19661.0   \n",
            "max            NaN               NaN   6350914.0  3426657.0    19661.0   \n",
            "\n",
            "        cum_trx       cum_rev  \n",
            "count       1.0  1.000000e+00  \n",
            "unique      NaN           NaN  \n",
            "top         NaN           NaN  \n",
            "freq        NaN           NaN  \n",
            "mean    30838.0  2.928654e+09  \n",
            "std         NaN           NaN  \n",
            "min     30838.0  2.928654e+09  \n",
            "25%     30838.0  2.928654e+09  \n",
            "50%     30838.0  2.928654e+09  \n",
            "75%     30838.0  2.928654e+09  \n",
            "max     30838.0  2.928654e+09  \n",
            "        sort_order product_group    product        target    taker_m0  \\\n",
            "count     33.00000            33         33  3.300000e+01   33.000000   \n",
            "unique         NaN             5         33           NaN         NaN   \n",
            "top            NaN     OTT Video  Catchplay           NaN         NaN   \n",
            "freq           NaN            20          1           NaN         NaN   \n",
            "mean      17.00000           NaN        NaN  3.596980e+05   24.636364   \n",
            "std        9.66954           NaN        NaN  6.982923e+05   97.393152   \n",
            "min        1.00000           NaN        NaN  0.000000e+00    0.000000   \n",
            "25%        9.00000           NaN        NaN  0.000000e+00    0.000000   \n",
            "50%       17.00000           NaN        NaN  0.000000e+00    0.000000   \n",
            "75%       25.00000           NaN        NaN  4.243600e+05    5.000000   \n",
            "max       33.00000           NaN        NaN  3.218918e+06  559.000000   \n",
            "\n",
            "          taker_m1     trx_m0      trx_m1  rev_squad_m0  rev_squad_m1  \\\n",
            "count    33.000000   33.00000   33.000000  3.300000e+01  3.300000e+01   \n",
            "unique         NaN        NaN         NaN           NaN           NaN   \n",
            "top            NaN        NaN         NaN           NaN           NaN   \n",
            "freq           NaN        NaN         NaN           NaN           NaN   \n",
            "mean     12.696970   25.00000   12.939394  1.583016e+06  9.081882e+05   \n",
            "std      29.171352   97.52724   29.358708  5.271706e+06  2.034275e+06   \n",
            "min       0.000000    0.00000    0.000000  0.000000e+00  0.000000e+00   \n",
            "25%       0.000000    0.00000    0.000000  0.000000e+00  0.000000e+00   \n",
            "50%       0.000000    0.00000    0.000000  0.000000e+00  0.000000e+00   \n",
            "75%       7.000000    5.00000    7.000000  2.465300e+05  4.500000e+05   \n",
            "max     137.000000  559.00000  137.000000  2.957300e+07  9.145000e+06   \n",
            "\n",
            "             rev_all      deliv_m0      deliv_m1  deliv_taker_m0  \\\n",
            "count   3.300000e+01  3.300000e+01  3.300000e+01       33.000000   \n",
            "unique           NaN           NaN           NaN             NaN   \n",
            "top              NaN           NaN           NaN             NaN   \n",
            "freq             NaN           NaN           NaN             NaN   \n",
            "mean    2.093844e+07  1.134395e+05  6.389888e+04        8.969697   \n",
            "std     6.108042e+07  3.033341e+05  2.625510e+05       41.223844   \n",
            "min     0.000000e+00  0.000000e+00  0.000000e+00        0.000000   \n",
            "25%     0.000000e+00  0.000000e+00  0.000000e+00        0.000000   \n",
            "50%     0.000000e+00  0.000000e+00  0.000000e+00        0.000000   \n",
            "75%     3.443000e+06  0.000000e+00  0.000000e+00        0.000000   \n",
            "max     2.890924e+08  1.461471e+06  1.446636e+06      237.000000   \n",
            "\n",
            "        deliv_taker_m1  \n",
            "count        33.000000  \n",
            "unique             NaN  \n",
            "top                NaN  \n",
            "freq               NaN  \n",
            "mean          2.242424  \n",
            "std           9.192491  \n",
            "min           0.000000  \n",
            "25%           0.000000  \n",
            "50%           0.000000  \n",
            "75%           0.000000  \n",
            "max          51.000000  \n",
            "             arpu_cat       taker         trx           rev\n",
            "count               6    6.000000    6.000000  6.000000e+00\n",
            "unique              6         NaN         NaN           NaN\n",
            "top     04. 300K-350K         NaN         NaN           NaN\n",
            "freq                1         NaN         NaN           NaN\n",
            "mean              NaN  135.000000  137.500000  8.706590e+06\n",
            "std               NaN  188.763344  192.289105  1.195494e+07\n",
            "min               NaN   17.000000   19.000000  1.312306e+06\n",
            "25%               NaN   35.750000   36.250000  2.940952e+06\n",
            "50%               NaN   48.500000   49.500000  3.110770e+06\n",
            "75%               NaN  130.250000  131.000000  7.815016e+06\n",
            "max               NaN  507.000000  517.000000  3.243825e+07\n",
            "        sort_order product_group    product     target   taker_m0   taker_m1  \\\n",
            "count     33.00000            33         33  33.000000  33.000000  33.000000   \n",
            "unique         NaN             5         33        NaN        NaN        NaN   \n",
            "top            NaN     OTT Video  Catchplay        NaN        NaN        NaN   \n",
            "freq           NaN            20          1        NaN        NaN        NaN   \n",
            "mean      17.00000           NaN        NaN   0.515152   0.515152   4.515152   \n",
            "std        9.66954           NaN        NaN   1.970425   1.970425  14.824223   \n",
            "min        1.00000           NaN        NaN   0.000000   0.000000   0.000000   \n",
            "25%        9.00000           NaN        NaN   0.000000   0.000000   0.000000   \n",
            "50%       17.00000           NaN        NaN   0.000000   0.000000   0.000000   \n",
            "75%       25.00000           NaN        NaN   0.000000   0.000000   0.000000   \n",
            "max       33.00000           NaN        NaN  11.000000  11.000000  69.000000   \n",
            "\n",
            "           trx_m0     trx_m1         rev_m0        rev_m1   deliv_m0  \\\n",
            "count   33.000000  33.000000      33.000000  3.300000e+01  33.000000   \n",
            "unique        NaN        NaN            NaN           NaN        NaN   \n",
            "top           NaN        NaN            NaN           NaN        NaN   \n",
            "freq          NaN        NaN            NaN           NaN        NaN   \n",
            "mean     0.515152   4.515152   41156.151515  2.898181e+05   0.090909   \n",
            "std      1.970425  14.824223  151498.132286  1.016981e+06   0.384353   \n",
            "min      0.000000   0.000000       0.000000  0.000000e+00   0.000000   \n",
            "25%      0.000000   0.000000       0.000000  0.000000e+00   0.000000   \n",
            "50%      0.000000   0.000000       0.000000  0.000000e+00   0.000000   \n",
            "75%      0.000000   0.000000       0.000000  0.000000e+00   0.000000   \n",
            "max     11.000000  69.000000  790000.000000  5.215000e+06   2.000000   \n",
            "\n",
            "         deliv_m1  deliv_taker_m0  deliv_taker_m1  \n",
            "count   33.000000       33.000000       33.000000  \n",
            "unique        NaN             NaN             NaN  \n",
            "top           NaN             NaN             NaN  \n",
            "freq          NaN             NaN             NaN  \n",
            "mean     0.333333        0.090909        0.333333  \n",
            "std      1.914854        0.384353        1.914854  \n",
            "min      0.000000        0.000000        0.000000  \n",
            "25%      0.000000        0.000000        0.000000  \n",
            "50%      0.000000        0.000000        0.000000  \n",
            "75%      0.000000        0.000000        0.000000  \n",
            "max     11.000000        2.000000       11.000000  \n",
            "        event_date   total_trx  cumulative_total_trx  target_trx  \\\n",
            "count            5    5.000000              5.000000         5.0   \n",
            "unique           5         NaN                   NaN         NaN   \n",
            "top     2025-09-01         NaN                   NaN         NaN   \n",
            "freq             1         NaN                   NaN         NaN   \n",
            "mean           NaN  165.000000          30366.400000       648.0   \n",
            "std            NaN  128.817701            306.118931         0.0   \n",
            "min            NaN   69.000000          30051.000000       648.0   \n",
            "25%            NaN   79.000000          30151.000000       648.0   \n",
            "50%            NaN   83.000000          30347.000000       648.0   \n",
            "75%            NaN  233.000000          30445.000000       648.0   \n",
            "max            NaN  361.000000          30838.000000       648.0   \n",
            "\n",
            "        cumulative_target_trx    gap_taker     total_rev  \\\n",
            "count                 5.00000     5.000000  5.000000e+00   \n",
            "unique                    NaN          NaN           NaN   \n",
            "top                       NaN          NaN           NaN   \n",
            "freq                      NaN          NaN           NaN   \n",
            "mean              31994.40000 -1628.000000  1.044791e+07   \n",
            "std                1025.05234   734.121243  6.604952e+06   \n",
            "min               30698.00000 -2453.000000  5.011626e+06   \n",
            "25%               31346.00000 -2198.000000  6.142030e+06   \n",
            "50%               31994.00000 -1647.000000  7.048189e+06   \n",
            "75%               32643.00000 -1195.000000  1.324425e+07   \n",
            "max               33291.00000  -647.000000  2.079345e+07   \n",
            "\n",
            "        cumulative_total_rev  target_rev  cumulative_target_rev       gap_rev  \n",
            "count           5.000000e+00         5.0           5.000000e+00  5.000000e+00  \n",
            "unique                   NaN         NaN                    NaN           NaN  \n",
            "top                      NaN         NaN                    NaN           NaN  \n",
            "freq                     NaN         NaN                    NaN           NaN  \n",
            "mean            2.900386e+09  78035279.0           2.976459e+09 -7.607290e+07  \n",
            "std             1.860888e+07         0.0           1.233846e+08  1.053830e+08  \n",
            "min             2.880553e+09  78035279.0           2.820389e+09 -2.038755e+08  \n",
            "25%             2.887755e+09  78035279.0           2.898424e+09 -1.485218e+08  \n",
            "50%             2.898998e+09  78035279.0           2.976459e+09 -7.746159e+07  \n",
            "75%             2.905973e+09  78035279.0           3.054495e+09 -1.066941e+07  \n",
            "max             2.928654e+09  78035279.0           3.132530e+09  6.016377e+07  \n",
            "            period        target       taker         trx           rev  \\\n",
            "count            2  2.000000e+00    2.000000    2.000000  2.000000e+00   \n",
            "unique           2           NaN         NaN         NaN           NaN   \n",
            "top     2025-09-05           NaN         NaN         NaN           NaN   \n",
            "freq             1           NaN         NaN         NaN           NaN   \n",
            "mean           NaN  4.419976e+06  612.500000  626.000000  4.110488e+07   \n",
            "std            NaN  3.386285e+05  279.307179  281.428499  1.574679e+07   \n",
            "min            NaN  4.180530e+06  415.000000  427.000000  2.997021e+07   \n",
            "25%            NaN  4.300253e+06  513.750000  526.500000  3.553754e+07   \n",
            "50%            NaN  4.419976e+06  612.500000  626.000000  4.110488e+07   \n",
            "75%            NaN  4.539700e+06  711.250000  725.500000  4.667221e+07   \n",
            "max            NaN  4.659423e+06  810.000000  825.000000  5.223954e+07   \n",
            "\n",
            "               deliv  deliv_taker  \n",
            "count   2.000000e+00     2.000000  \n",
            "unique           NaN          NaN  \n",
            "top              NaN          NaN  \n",
            "freq             NaN          NaN  \n",
            "mean    1.632898e+06   184.500000  \n",
            "std     1.215616e+05   156.270599  \n",
            "min     1.546941e+06    74.000000  \n",
            "25%     1.589920e+06   129.250000  \n",
            "50%     1.632898e+06   184.500000  \n",
            "75%     1.675876e+06   239.750000  \n",
            "max     1.718855e+06   295.000000  \n",
            "       period_date\n",
            "count            1\n",
            "unique           1\n",
            "top     2025-09-05\n",
            "freq             1\n",
            "        channel_name      taker         trx           rev\n",
            "count             10   10.00000   10.000000  1.000000e+01\n",
            "unique            10        NaN         NaN           NaN\n",
            "top     FMC - Upoint        NaN         NaN           NaN\n",
            "freq               1        NaN         NaN           NaN\n",
            "mean             NaN   41.70000   42.700000  2.991165e+06\n",
            "std              NaN   69.74087   70.630573  4.776646e+06\n",
            "min              NaN    0.00000    0.000000  0.000000e+00\n",
            "25%              NaN    0.00000    0.000000  0.000000e+00\n",
            "50%              NaN    0.00000    0.000000  0.000000e+00\n",
            "75%              NaN   57.75000   63.750000  5.591116e+06\n",
            "max              NaN  183.00000  185.000000  1.230084e+07\n",
            "            day      trx_m1      trx_m0        rev_m1        rev_m0  \\\n",
            "count  5.000000    5.000000    5.000000  5.000000e+00  5.000000e+00   \n",
            "mean   3.000000   85.400000  165.000000  5.982331e+06  1.044791e+07   \n",
            "std    1.581139   17.008821  128.817701  1.489931e+06  6.604952e+06   \n",
            "min    1.000000   60.000000   69.000000  3.870918e+06  5.011626e+06   \n",
            "25%    2.000000   77.000000   79.000000  5.093922e+06  6.142030e+06   \n",
            "50%    3.000000   93.000000   83.000000  6.395587e+06  7.048189e+06   \n",
            "75%    4.000000   94.000000  233.000000  7.034461e+06  1.324425e+07   \n",
            "max    5.000000  103.000000  361.000000  7.516765e+06  2.079345e+07   \n",
            "\n",
            "           deliv_m1      deliv_m0  \n",
            "count  5.000000e+00  5.000000e+00  \n",
            "mean   4.217328e+05  7.487008e+05  \n",
            "std    5.815457e+05  6.155107e+05  \n",
            "min    3.356000e+03  0.000000e+00  \n",
            "25%    1.205300e+04  3.144480e+05  \n",
            "50%    2.247350e+05  7.121550e+05  \n",
            "75%    4.621750e+05  1.255106e+06  \n",
            "max    1.406345e+06  1.461795e+06  \n",
            "          area        target       taker         trx           rev  \\\n",
            "count        4  4.000000e+00    4.000000    4.000000  4.000000e+00   \n",
            "unique       4           NaN         NaN         NaN           NaN   \n",
            "top     AREA 1           NaN         NaN         NaN           NaN   \n",
            "freq         1           NaN         NaN         NaN           NaN   \n",
            "mean       NaN  1.164856e+06  103.750000  106.750000  7.492553e+06   \n",
            "std        NaN  2.202511e+05   29.814706   32.066337  1.785436e+06   \n",
            "min        NaN  8.854220e+05   73.000000   75.000000  5.360877e+06   \n",
            "25%        NaN  1.059527e+06   83.500000   84.750000  6.443122e+06   \n",
            "50%        NaN  1.184426e+06  101.000000  102.500000  7.586888e+06   \n",
            "75%        NaN  1.289755e+06  121.250000  124.500000  8.636320e+06   \n",
            "max        NaN  1.405149e+06  140.000000  147.000000  9.435558e+06   \n",
            "\n",
            "                deliv  deliv_taker  \n",
            "count        4.000000     4.000000  \n",
            "unique            NaN          NaN  \n",
            "top               NaN          NaN  \n",
            "freq              NaN          NaN  \n",
            "mean    386735.250000    18.500000  \n",
            "std      50573.435559     7.187953  \n",
            "min     327271.000000     9.000000  \n",
            "25%     358042.000000    15.000000  \n",
            "50%     387227.000000    20.000000  \n",
            "75%     415920.250000    23.500000  \n",
            "max     445216.000000    25.000000  \n",
            "                  branch         target      taker        trx           rev  \\\n",
            "count                 10      10.000000  10.000000  10.000000  1.000000e+01   \n",
            "unique                10            NaN        NaN        NaN           NaN   \n",
            "top     SOUTHERN JAKARTA            NaN        NaN        NaN           NaN   \n",
            "freq                   1            NaN        NaN        NaN           NaN   \n",
            "mean                 NaN   86302.600000  20.500000  21.200000  1.324632e+06   \n",
            "std                  NaN   56625.341208  22.525294  22.680388  1.375087e+06   \n",
            "min                  NaN   19742.000000   2.000000   2.000000  1.431530e+05   \n",
            "25%                  NaN   44691.750000   3.000000   3.250000  1.727500e+05   \n",
            "50%                  NaN   86648.000000  13.500000  14.500000  1.036500e+06   \n",
            "75%                  NaN   96746.250000  30.750000  32.750000  2.065697e+06   \n",
            "max                  NaN  218245.000000  71.000000  71.000000  4.187224e+06   \n",
            "\n",
            "        top  \n",
            "count    10  \n",
            "unique    2  \n",
            "top     top  \n",
            "freq      5  \n",
            "mean    NaN  \n",
            "std     NaN  \n",
            "min     NaN  \n",
            "25%     NaN  \n",
            "50%     NaN  \n",
            "75%     NaN  \n",
            "max     NaN  \n",
            "          area        target       taker         trx           rev  \\\n",
            "count        4  4.000000e+00    4.000000    4.000000  4.000000e+00   \n",
            "unique       4           NaN         NaN         NaN           NaN   \n",
            "top     AREA 1           NaN         NaN         NaN           NaN   \n",
            "freq         1           NaN         NaN         NaN           NaN   \n",
            "mean       NaN  1.045132e+06  202.500000  206.250000  1.305989e+07   \n",
            "std        NaN  1.107104e+05   66.133703   67.049111  3.457607e+06   \n",
            "min        NaN  8.845090e+05  138.000000  140.000000  9.470044e+06   \n",
            "25%        NaN  1.015709e+06  149.250000  152.750000  1.042095e+07   \n",
            "50%        NaN  1.086086e+06  205.000000  210.000000  1.325859e+07   \n",
            "75%        NaN  1.115509e+06  258.250000  263.500000  1.589753e+07   \n",
            "max        NaN  1.123850e+06  262.000000  265.000000  1.625232e+07   \n",
            "\n",
            "                deliv  deliv_taker  \n",
            "count        4.000000     4.000000  \n",
            "unique            NaN          NaN  \n",
            "top               NaN          NaN  \n",
            "freq              NaN          NaN  \n",
            "mean    429713.750000    73.750000  \n",
            "std      55422.437432    29.881711  \n",
            "min     366676.000000    49.000000  \n",
            "25%     403520.500000    51.250000  \n",
            "50%     425843.500000    66.500000  \n",
            "75%     452036.750000    89.000000  \n",
            "max     500492.000000   113.000000  \n",
            "          region         target      taker        trx           rev  \\\n",
            "count         13      13.000000  13.000000  13.000000  1.300000e+01   \n",
            "unique        13            NaN        NaN        NaN           NaN   \n",
            "top     Sumbagut            NaN        NaN        NaN           NaN   \n",
            "freq           1            NaN        NaN        NaN           NaN   \n",
            "mean         NaN  358417.153846  31.923077  32.846154  2.305401e+06   \n",
            "std          NaN  132154.217850   9.725067  10.188606  7.446836e+05   \n",
            "min          NaN  165404.000000  21.000000  21.000000  1.416326e+06   \n",
            "25%          NaN  273774.000000  23.000000  24.000000  1.665765e+06   \n",
            "50%          NaN  343203.000000  29.000000  31.000000  2.016612e+06   \n",
            "75%          NaN  425958.000000  36.000000  36.000000  2.793224e+06   \n",
            "max          NaN  590037.000000  52.000000  54.000000  3.910918e+06   \n",
            "\n",
            "                deliv  deliv_taker  \n",
            "count       13.000000    13.000000  \n",
            "unique            NaN          NaN  \n",
            "top               NaN          NaN  \n",
            "freq              NaN          NaN  \n",
            "mean    118995.461538     5.692308  \n",
            "std      40780.468886     4.049375  \n",
            "min      61569.000000     1.000000  \n",
            "25%     101687.000000     3.000000  \n",
            "50%     116429.000000     5.000000  \n",
            "75%     139493.000000     7.000000  \n",
            "max     200371.000000    14.000000  \n",
            "          region         target       taker         trx           rev  \\\n",
            "count         13      13.000000   13.000000   13.000000  1.300000e+01   \n",
            "unique        13            NaN         NaN         NaN           NaN   \n",
            "top     Sumbagut            NaN         NaN         NaN           NaN   \n",
            "freq           1            NaN         NaN         NaN           NaN   \n",
            "mean         NaN  321579.230769   62.307692   63.461538  4.018426e+06   \n",
            "std          NaN  117716.443330   25.273123   26.133042  1.436887e+06   \n",
            "min          NaN  165290.000000   26.000000   27.000000  2.151153e+06   \n",
            "25%          NaN  268671.000000   43.000000   43.000000  2.985426e+06   \n",
            "50%          NaN  312327.000000   58.000000   59.000000  3.403306e+06   \n",
            "75%          NaN  366102.000000   88.000000   91.000000  5.325103e+06   \n",
            "max          NaN  543196.000000  100.000000  103.000000  6.478806e+06   \n",
            "\n",
            "                deliv  deliv_taker  \n",
            "count       13.000000    13.000000  \n",
            "unique            NaN          NaN  \n",
            "top               NaN          NaN  \n",
            "freq              NaN          NaN  \n",
            "mean    132219.615385    22.692308  \n",
            "std      44588.995521    12.492562  \n",
            "min      69789.000000    10.000000  \n",
            "25%     114037.000000    12.000000  \n",
            "50%     128158.000000    21.000000  \n",
            "75%     151541.000000    25.000000  \n",
            "max     218927.000000    49.000000  \n"
          ]
        }
      ]
    },
    {
      "cell_type": "markdown",
      "source": [
        "# Setup agent."
      ],
      "metadata": {
        "id": "iWBQBnexI9_m"
      }
    },
    {
      "cell_type": "markdown",
      "source": [
        "Set OpenAI API key."
      ],
      "metadata": {
        "id": "TwDemhCl29w8"
      }
    },
    {
      "cell_type": "code",
      "source": [
        "api_key = os.getenv(\"OPENAI_API_KEY\") or os.getenv(\"GEMINI_API_KEY\") or getpass(\"Enter your OpenAI API key: \")\n",
        "os.environ[\"OPENAI_API_KEY\"] = api_key\n",
        "os.environ[\"GEMINI_API_KEY\"] = api_key"
      ],
      "metadata": {
        "id": "An83ac6RH0bn",
        "colab": {
          "base_uri": "https://localhost:8080/"
        },
        "outputId": "ec4c4d8c-8c1a-4b79-a0bc-01f478a0b036"
      },
      "execution_count": null,
      "outputs": [
        {
          "name": "stdout",
          "output_type": "stream",
          "text": [
            "Enter your OpenAI API key: ··········\n"
          ]
        }
      ]
    },
    {
      "cell_type": "markdown",
      "source": [
        "or"
      ],
      "metadata": {
        "id": "zXWFX2FMarbb"
      }
    },
    {
      "cell_type": "code",
      "source": [
        "api_key = getpass(\"Enter your API key: \")\n",
        "os.environ[\"OPENAI_API_KEY\"] = api_key\n",
        "os.environ[\"GEMINI_API_KEY\"] = api_key"
      ],
      "metadata": {
        "colab": {
          "base_uri": "https://localhost:8080/"
        },
        "id": "WA4UsLxWaoLx",
        "outputId": "4c21a8e8-41b3-467e-864e-e446e3afb742"
      },
      "execution_count": null,
      "outputs": [
        {
          "name": "stdout",
          "output_type": "stream",
          "text": [
            "Enter your API key: ··········\n"
          ]
        }
      ]
    },
    {
      "cell_type": "markdown",
      "source": [
        "# Orchestrate LLMs."
      ],
      "metadata": {
        "id": "dKS4J2jUEXcp"
      }
    },
    {
      "cell_type": "markdown",
      "source": [
        "Get user prompt."
      ],
      "metadata": {
        "id": "xo9Lo_GL3Eaq"
      }
    },
    {
      "cell_type": "code",
      "source": [
        "user_prompt = input(\"Enter your prompt: \")"
      ],
      "metadata": {
        "colab": {
          "base_uri": "https://localhost:8080/"
        },
        "id": "GKQD_Fli19Ug",
        "outputId": "36b454e0-a9dd-448d-8a2a-e9b160dd1a59"
      },
      "execution_count": null,
      "outputs": [
        {
          "name": "stdout",
          "output_type": "stream",
          "text": [
            "Enter your prompt: What were the biggest product-level drivers of our revenue change this month vs. last month?\n"
          ]
        }
      ]
    },
    {
      "cell_type": "markdown",
      "source": [
        "Translate user prompt into 3 prompts for each pandasai agents and a system content for response compiler."
      ],
      "metadata": {
        "id": "r_yvYHGb3D8a"
      }
    },
    {
      "cell_type": "code",
      "source": [
        "orchestrator_start_time = time.time()\n",
        "\n",
        "initial_response = completion(\n",
        "    model=\"gemini/gemini-2.5-pro\",\n",
        "    messages=[\n",
        "        {\"role\": \"system\", \"content\": \"\"\"\n",
        "        You are the Orchestrator.\n",
        "\n",
        "        15 instructions you need to follow as the orchestrator:\n",
        "        1. Think step by step.\n",
        "        2. You orchestrate 3 LLM PandasAI Agents for business data analysis.\n",
        "        3. The 3 agents are: Data Manipulator, Data Visualizer, Data Analyser.\n",
        "        4. You will emit a specific prompt for each of those 3 agents.\n",
        "        5. Each prompt is a numbered, step-by-step instruction set.\n",
        "        6. Prompts must be clear, detailed, and complete to avoid ambiguity.\n",
        "        7. The number of steps may differ per agent.\n",
        "        8. Example user tasks include:\n",
        "           - What is my revenue this week vs last week?\n",
        "           - Why did my revenue drop this week?\n",
        "           - Any surprises in revenue this month?\n",
        "           - Notable trends this month?\n",
        "           - Correlation between revenue and bounces?\n",
        "           - Is this conversion rate normal for this time of year?\n",
        "        9. Reason strictly from the user-provided data.\n",
        "        10. Convert a short business question into three specialist prompts.\n",
        "        11. If a currency is not explicitly stated assume its in Indonesian Rupiah.\n",
        "        13. All specialists operate in Python using PandasAI SmartDataframe as `sdf` (backed by pandas `df`).\n",
        "        14. Return STRICT JSON with keys: manipulator_prompt, visualizer_prompt, analyzer_prompt, compiler_instruction.\n",
        "        15. Each value must be a **single line** string. No extra keys, no prose, no markdown/code fences.\n",
        "\n",
        "        4 instructions for data manipulator prompt creation:\n",
        "        1. Enforce data hygiene before analysis:\n",
        "           - Parse dates to pandas datetime, create explicit period columns (day/week/month).\n",
        "           - Set consistent dtypes for numeric fields; strip/normalize categorical labels; standardize currency units if present.\n",
        "           - Handle missing values: impute or drop **only when necessary**; keep legitimate zeros.\n",
        "        2. Mind the term like m0 and m1 which means month 1 and 2 and any other similar terms used to decide if something is increasing or decreasing.\n",
        "        3. Mind each of the datasets name.\n",
        "        4. Produce exactly the minimal, analysis-ready dataframe(s) needed for the user question, with stable, well-named columns.\n",
        "        5. End by returning only:\n",
        "           result = {\"type\":\"dataframe\",\"value\": <THE_FINAL_DATAFRAME>}\n",
        "\n",
        "        12 instructions for data visualizer prompt creation:\n",
        "        1. Produce exactly ONE interactive table or diagram using Plotly; no subplots or multiple figures.\n",
        "        2. Choose the best form of visualization (table or diagram) based on the user's question and the provided data.\n",
        "        3. Prevent overlaps: rotate axis ticks ≤45°, wrap long labels, ensure adequate margins, place the legend outside the plot area (horizontally), and avoid dense data labels.\n",
        "        4. Apply insight-first formatting for diagrams: include a clear title and subtitle, label axes with units, use thousands separators for numbers, round to 1–2 decimal places, and configure a rich hover-over with absolute numbers and percentages where relevant.\n",
        "        5. Aggregate data to a sensible granularity (e.g., day, week, or month), forward/back-fill gaps when appropriate, and cap extreme outliers for readability (and note this action in the subtitle).\n",
        "        6. To ensure high contrast against a white background, instruct the agent to use a truncated monochromatic colorscale. This is achieved by skipping the lightest part (e.g., the first 25%) of a standard scale like 'Blues'.\n",
        "        7. The prompt for data visualizer must provide a specific implementation detail, for example: \"Create a custom colorscale by sampling the 'Blues' scale from a starting point of 0.25 (25%) to 1.0 (100%) to eliminate overly pale colors.\" It must also state that the resulting gradient should map to the data values (lighter shades for lower values, darker for higher).\n",
        "        8. If you decide to use a chart, use either a bar chart, grouped bar chart, or line chart.\n",
        "        9. If you decide to use a table, incorporate in-cell bar charts (data bars) for any column with percentage values that are part of a whole.\n",
        "        10. Append a pandas timestamp to the end of the output file name to ensure the filename is unique.\n",
        "        11. Save the figure to an .html path (e.g., /content/exports/charts/<slug>.html) using the command fig.write_html(path, include_plotlyjs=\"cdn\").\n",
        "        12. Return only the saved file path in the required JSON envelope (do not try to display the chart): result = {\"type\":\"file\",\"value\": \"/content/exports/charts/<slug>.html\"}\n",
        "\n",
        "        3 instructions for data analyzer prompt creation:\n",
        "        1. Write like you’re speaking to a person; be concise and insight-driven.\n",
        "        2. Quantify where possible (deltas, % contributions, time windows); reference the exact columns/filters used.\n",
        "        3. Return only:\n",
        "            result = {\"type\":\"string\",\"value\":\"<3–6 crisp bullets or 2 short paragraphs of insights>\"}\n",
        "\n",
        "        34 instructions for response compiler system content creation:\n",
        "        1. Brevity: ≤180 words; bullets preferred; no code blocks, no JSON, no screenshots.\n",
        "        2. Lead with the answer: 1–2 sentence “Bottom line” with main number, time window, and delta.\n",
        "        3. Quantified drivers: top 3 with magnitude, direction, and approx contribution (absolute and % where possible).\n",
        "        4. Next actions: 2–4 prioritized, concrete actions with expected impact/rationale.\n",
        "        5. Confidence & caveats: one short line on data quality/assumptions/gaps; include Confidence: High/Medium/Low.\n",
        "        6. Minimal tables: ≤1 table only if essential (≤5×3); otherwise avoid tables.\n",
        "        7. No repetition: do not restate agent text; synthesize it.\n",
        "        8. Do not try to show images; if a chart exists, mention the HTML path only.\n",
        "        9. Always include units/currency and exact comparison window (e.g., “Aug 2025 vs Jul 2025”, “W34 vs W33”).\n",
        "        10. Show both absolute and % change where sensible (e.g., “+$120k (+8.4%)”).\n",
        "        11. Round smartly (money to nearest K unless < $10k; rates 1–2 decimals).\n",
        "        12. If any agent fails or data is incomplete, still produce the best insight; mark gaps in Caveats and adjust Confidence.\n",
        "        13. If the user asks “how much/which/why,” the first sentence must provide the number/entity/reason.\n",
        "        14. Exact compiler_instruction template the orchestrator should emit (single line; steps separated by ';'):\n",
        "        15. Read the user prompt, data_info, and all three agent responses;\n",
        "        16. Compute the direct answer including the main number and compare period;\n",
        "        17. Identify the top 3 quantified drivers with direction and contribution;\n",
        "        18. Draft 'Bottom line' in 1–2 sentences answering plainly;\n",
        "        19. List 2–4 prioritized Next actions with expected impact;\n",
        "        20. Add a one-line Caveats with Confidence and any gaps;\n",
        "        21. Keep ≤180 words, use bullets, avoid tables unless ≤5×3 and essential;\n",
        "        22. Include units, absolute and % deltas, and explicit dates;\n",
        "        23. Do not repeat agent text verbatim or include code/JSON.\n",
        "        24. Format hint (shape, not literal):\n",
        "        24a. Bottom line — <answer with number + timeframe>.\n",
        "        24b. Drivers — <A: +X (≈Y%); B: −X (≈Y%); C: ±X (≈Y%)>.\n",
        "        24c. Next actions — 1) <action>; 2) <action>; 3) <action>.\n",
        "        24d. Caveats — <one line>. Confidence: <High/Medium/Low>.\n",
        "        25. compiler_instruction must contain clear, step-by-step instructions to assemble the final response.\n",
        "        26. The final response must be decision-ready and insight-first, not raw data.\n",
        "        27. The compiler_instruction is used as the compiler LLM’s system content.\n",
        "        28. Compiler user content will be: f\"User Prompt:{user_prompt}. \\nData Info:{data_info}. \\nData Describe:{data_describe}. \\nData Manipulator Response:{data_manipulator_response}. \\nData Visualizer Response:{data_visualizer_response}. \\nData Analyzer Response:{data_analyzer_response}.\"\n",
        "        29. `data_info` is a string from `df.info()`.\n",
        "        30. `data_manipulator_response` is a PandasAI DataFrameResponse.\n",
        "        31. `data_visualizer_response` is a **file path to an HTML** inside `{\"type\":\"file\",\"value\": ...}`.\n",
        "        32. `data_analyzer_response` is a PandasAI StringResponse.\n",
        "        33. Your goal in `compiler_instruction` is to force brevity, decisions, and insights.\n",
        "        34. The compiler must NOT echo raw dataframes, code, or long tables; it opens with the business answer, quantifies drivers, and closes with next actions.\n",
        "        \"\"\"},\n",
        "        {\"role\": \"user\", \"content\": f\"User Prompt: {user_prompt} \\nDatasets Domain name: {domain}. \\nData Info:\\n{data_info}. \\nData Describe:\\n{data_describe}.\"}\n",
        "    ],\n",
        "    seed=1,\n",
        "    stream=False,\n",
        "    verbosity=\"low\",# (concise) low | medium | high (long)\n",
        "    drop_params=True,\n",
        "    reasoning_effort=\"high\", # (fast) minimal | low | medium | high (depth)\n",
        ")\n",
        "\n",
        "def get_content(r):\n",
        "    try:\n",
        "        msg = r.choices[0].message\n",
        "        return msg[\"content\"] if isinstance(msg, dict) else msg.content\n",
        "    except Exception:\n",
        "        pass\n",
        "\n",
        "    if isinstance(r, dict):\n",
        "        return r.get(\"choices\", [{}])[0].get(\"message\", {}).get(\"content\", \"\")\n",
        "\n",
        "    try:\n",
        "        chunks = []\n",
        "        for ev in r:\n",
        "            delta = getattr(ev.choices[0], \"delta\", None)\n",
        "            if delta and getattr(delta, \"content\", None):\n",
        "                chunks.append(delta.content)\n",
        "        return \"\".join(chunks)\n",
        "    except Exception:\n",
        "        return str(r)\n",
        "\n",
        "initial_content = get_content(initial_response)\n",
        "print(initial_content)\n",
        "\n",
        "try:\n",
        "    spec = json.loads(initial_content)\n",
        "except json.JSONDecodeError:\n",
        "    start = initial_content.find(\"{\")\n",
        "    end = initial_content.rfind(\"}\")\n",
        "    spec = json.loads(initial_content[start:end+1])\n",
        "\n",
        "manipulator_prompt = spec[\"manipulator_prompt\"]\n",
        "visualizer_prompt  = spec[\"visualizer_prompt\"]\n",
        "analyzer_prompt    = spec[\"analyzer_prompt\"]\n",
        "compiler_instruction    = spec[\"compiler_instruction\"]\n",
        "print(manipulator_prompt)\n",
        "print(visualizer_prompt)\n",
        "print(analyzer_prompt)\n",
        "print(compiler_instruction)\n",
        "orchestrator_end_time = time.time()\n",
        "orchestrator_elapsed_time = orchestrator_end_time - orchestrator_start_time\n",
        "print(f\"Elapsed time: {orchestrator_elapsed_time:.2f} seconds\")"
      ],
      "metadata": {
        "colab": {
          "base_uri": "https://localhost:8080/"
        },
        "id": "6E_-ZpPqHmvy",
        "outputId": "173124c7-b67e-4339-bccd-66e6b7b7e719"
      },
      "execution_count": null,
      "outputs": [
        {
          "output_type": "stream",
          "name": "stdout",
          "text": [
            "```json\n",
            "{\n",
            "\"manipulator_prompt\": \"1. From the 'product.csv' dataframe, create a new dataframe named 'rev_drivers'. 2. Select the columns 'product', 'rev_squad_m0' for this month's revenue, and 'rev_squad_m1' for last month's revenue. 3. Calculate the absolute revenue change by creating a new column 'rev_change' as the difference between 'rev_squad_m0' and 'rev_squad_m1'. 4. Calculate the percentage change in a new column 'rev_change_pct', handling potential division by zero from 'rev_squad_m1' by replacing resulting NaN or inf values with 0. 5. Ensure all numeric columns ('rev_squad_m0', 'rev_squad_m1', 'rev_change') are of type float. 6. Sort 'rev_drivers' in descending order based on the absolute value of 'rev_change' to identify the biggest drivers. 7. Return the final sorted 'rev_drivers' dataframe in the specified JSON format: result = {\\\"type\\\":\\\"dataframe\\\",\\\"value\\\": rev_drivers}\",\n",
            "\"visualizer_prompt\": \"1. Using the 'rev_drivers' dataframe from the previous step, identify the 10 products with the largest absolute 'rev_change'. 2. Create a horizontal bar chart using Plotly showing the 'rev_change' for these top 10 products. 3. Set the y-axis to 'product' and the x-axis to 'rev_change'. 4. Add a title 'Top 10 Product Revenue Drivers (This Month vs. Last Month)' and a subtitle 'Change in Indonesian Rupiah (IDR)'. 5. Ensure the x-axis labels are formatted with thousands separators. 6. Implement a rich hover-over that displays the Product, Revenue Change (IDR), and Percentage Change for each bar. 7. Create a custom truncated colorscale: sample Plotly's 'Blues' sequential colorscale from 0.25 to 1.0 to avoid overly pale colors, and map this gradient to the 'rev_change' values, so that bars with higher revenue change are darker blue. 8. Ensure the legend is placed horizontally outside the plot area. 9. Generate a unique filename using a timestamp (e.g., 'product-revenue-drivers-YYYYMMDDHHMMSS.html'). 10. Save the figure to '/content/exports/charts/' using `fig.write_html(path, include_plotlyjs='cdn')`. 11. Return only the file path in the specified JSON format: result = {\\\"type\\\":\\\"file\\\",\\\"value\\\": \\\"/content/exports/charts/<your_generated_filename>.html\\\"}\",\n",
            "\"analyzer_prompt\": \"1. Using the 'rev_drivers' dataframe, calculate the total revenue for 'rev_squad_m0' and 'rev_squad_m1', and compute the total absolute and percentage change. 2. Identify the top 3 products with the largest positive 'rev_change' and state their individual contribution to the revenue increase in IDR. 3. Identify the top 3 products with the largest negative 'rev_change' (decline) and state their individual contribution to the revenue decrease in IDR. 4. Summarize your findings into 3 to 5 crisp, insight-driven bullet points, quantifying the changes and mentioning specific product names. 5. Return the summary as a single string in the specified JSON format: result = {\\\"type\\\":\\\"string\\\",\\\"value\\\":\\\"<Your bulleted insights here>\\\"}\",\n",
            "\"compiler_instruction\": \"Read the user prompt, data_info, and all three agent responses; Compute the direct answer including the main number and compare period; Identify the top 3 quantified drivers with direction and contribution; Draft 'Bottom line' in 1–2 sentences answering plainly; List 2–4 prioritized Next actions with expected impact; Add a one-line Caveats with Confidence and any gaps; Keep ≤180 words, use bullets, avoid tables unless ≤5×3 and essential; Include units, absolute and % deltas, and explicit dates; Do not repeat agent text verbatim or include code/JSON; Format hint (shape, not literal): Bottom line — <answer with number + timeframe>. Drivers — <A: +X (≈Y%); B: −X (≈Y%); C: ±X (≈Y%)>. Next actions — 1) <action>; 2) <action>; 3) <action>. Caveats — <one line>. Confidence: <High/Medium/Low>.\"\n",
            "}\n",
            "```\n",
            "1. From the 'product.csv' dataframe, create a new dataframe named 'rev_drivers'. 2. Select the columns 'product', 'rev_squad_m0' for this month's revenue, and 'rev_squad_m1' for last month's revenue. 3. Calculate the absolute revenue change by creating a new column 'rev_change' as the difference between 'rev_squad_m0' and 'rev_squad_m1'. 4. Calculate the percentage change in a new column 'rev_change_pct', handling potential division by zero from 'rev_squad_m1' by replacing resulting NaN or inf values with 0. 5. Ensure all numeric columns ('rev_squad_m0', 'rev_squad_m1', 'rev_change') are of type float. 6. Sort 'rev_drivers' in descending order based on the absolute value of 'rev_change' to identify the biggest drivers. 7. Return the final sorted 'rev_drivers' dataframe in the specified JSON format: result = {\"type\":\"dataframe\",\"value\": rev_drivers}\n",
            "1. Using the 'rev_drivers' dataframe from the previous step, identify the 10 products with the largest absolute 'rev_change'. 2. Create a horizontal bar chart using Plotly showing the 'rev_change' for these top 10 products. 3. Set the y-axis to 'product' and the x-axis to 'rev_change'. 4. Add a title 'Top 10 Product Revenue Drivers (This Month vs. Last Month)' and a subtitle 'Change in Indonesian Rupiah (IDR)'. 5. Ensure the x-axis labels are formatted with thousands separators. 6. Implement a rich hover-over that displays the Product, Revenue Change (IDR), and Percentage Change for each bar. 7. Create a custom truncated colorscale: sample Plotly's 'Blues' sequential colorscale from 0.25 to 1.0 to avoid overly pale colors, and map this gradient to the 'rev_change' values, so that bars with higher revenue change are darker blue. 8. Ensure the legend is placed horizontally outside the plot area. 9. Generate a unique filename using a timestamp (e.g., 'product-revenue-drivers-YYYYMMDDHHMMSS.html'). 10. Save the figure to '/content/exports/charts/' using `fig.write_html(path, include_plotlyjs='cdn')`. 11. Return only the file path in the specified JSON format: result = {\"type\":\"file\",\"value\": \"/content/exports/charts/<your_generated_filename>.html\"}\n",
            "1. Using the 'rev_drivers' dataframe, calculate the total revenue for 'rev_squad_m0' and 'rev_squad_m1', and compute the total absolute and percentage change. 2. Identify the top 3 products with the largest positive 'rev_change' and state their individual contribution to the revenue increase in IDR. 3. Identify the top 3 products with the largest negative 'rev_change' (decline) and state their individual contribution to the revenue decrease in IDR. 4. Summarize your findings into 3 to 5 crisp, insight-driven bullet points, quantifying the changes and mentioning specific product names. 5. Return the summary as a single string in the specified JSON format: result = {\"type\":\"string\",\"value\":\"<Your bulleted insights here>\"}\n",
            "Read the user prompt, data_info, and all three agent responses; Compute the direct answer including the main number and compare period; Identify the top 3 quantified drivers with direction and contribution; Draft 'Bottom line' in 1–2 sentences answering plainly; List 2–4 prioritized Next actions with expected impact; Add a one-line Caveats with Confidence and any gaps; Keep ≤180 words, use bullets, avoid tables unless ≤5×3 and essential; Include units, absolute and % deltas, and explicit dates; Do not repeat agent text verbatim or include code/JSON; Format hint (shape, not literal): Bottom line — <answer with number + timeframe>. Drivers — <A: +X (≈Y%); B: −X (≈Y%); C: ±X (≈Y%)>. Next actions — 1) <action>; 2) <action>; 3) <action>. Caveats — <one line>. Confidence: <High/Medium/Low>.\n",
            "Elapsed time: 31.80 seconds\n"
          ]
        }
      ]
    },
    {
      "cell_type": "markdown",
      "source": [
        "# Delegate tasks."
      ],
      "metadata": {
        "id": "dTWKxrvHJGU8"
      }
    },
    {
      "cell_type": "markdown",
      "source": [
        "Execute data manipulation prompt."
      ],
      "metadata": {
        "id": "RUTxPVcH3RkJ"
      }
    },
    {
      "cell_type": "code",
      "source": [
        "llm = LiteLLM(model=\"gemini/gemini-2.5-pro\", api_key=api_key)\n",
        "\n",
        "pai.config.set({\n",
        "    \"llm\": llm,\n",
        "})\n",
        "\n",
        "data_manipulator_start_time = time.time()\n",
        "\n",
        "data_manipulator = SmartDatalake(\n",
        "    list(dfs.values()),\n",
        "    config={\n",
        "        \"llm\": llm,\n",
        "        \"seed\": 1,\n",
        "        \"stream\": False,\n",
        "        \"verbosity\": \"low\", # (concise) low | medium | high (long)\n",
        "        \"drop_params\": True,\n",
        "        \"save_charts\": False,\n",
        "        \"open_charts\": False,\n",
        "        \"conversational\": False,\n",
        "        \"enforce_privacy\": True,\n",
        "        \"reasoning_effort\": \"medium\", # (faster) minimal | low | medium | high (depth)\n",
        "        \"save_charts_path\": \"./charts\"\n",
        "    }\n",
        ")\n",
        "data_manipulator_response = data_manipulator.chat(manipulator_prompt)\n",
        "\n",
        "data_manipulator_content = get_content(data_manipulator_response)\n",
        "print(data_manipulator_content)\n",
        "\n",
        "data_manipulator_end_time = time.time()\n",
        "data_manipulator_elapsed_time = data_manipulator_end_time - data_manipulator_start_time\n",
        "print(f\"Elapsed time: {data_manipulator_elapsed_time:.2f} seconds\")"
      ],
      "metadata": {
        "colab": {
          "base_uri": "https://localhost:8080/"
        },
        "id": "aGroLunyl0ik",
        "outputId": "143f87ba-2178-4352-a843-3866eb9934b9"
      },
      "execution_count": null,
      "outputs": [
        {
          "output_type": "stream",
          "name": "stderr",
          "text": [
            "/tmp/ipython-input-62-4038062247.py:9: DeprecationWarning:\n",
            "\n",
            "\n",
            "********************************************************************************\n",
            "\u001b[1;33mDEPRECATION WARNING:\u001b[0m\n",
            "SmartDatalake will be deprecated soon. Use df.chat() instead.\n",
            "********************************************************************************\n",
            "\n",
            "\n"
          ]
        },
        {
          "output_type": "stream",
          "name": "stdout",
          "text": [
            "               product  rev_squad_m0  rev_squad_m1  rev_change  rev_change_pct\n",
            "0                Vidio    29573000.0     9145000.0  20428000.0      223.378891\n",
            "1      Speed on Demand     6236000.0     4336595.0   1899405.0       43.799454\n",
            "2            Catchplay     4800000.0     2962000.0   1838000.0       62.052666\n",
            "3          Prime Video     2710803.0     3933322.0  -1222519.0      -31.081081\n",
            "4    Speed Refreshment     1624000.0      980000.0    644000.0       65.714287\n",
            "5       Kuota Keluarga     4855000.0     5485000.0   -630000.0      -11.485870\n",
            "6   Smarthome (IP Cam)      100000.0      450000.0   -350000.0      -77.777779\n",
            "7      Youtube Premium           0.0      292795.0   -292795.0     -100.000000\n",
            "8             Minipack     1194000.0      958000.0    236000.0       24.634655\n",
            "9                 FTTR           0.0      160000.0   -160000.0     -100.000000\n",
            "10              Disney      245000.0       98000.0    147000.0      150.000000\n",
            "11                 HBO      246530.0      368460.0   -121930.0      -33.091789\n",
            "12         Vision Plus      633000.0      731000.0    -98000.0      -13.406293\n",
            "13           Mesh Wifi           0.0       70000.0    -70000.0     -100.000000\n",
            "14      Upload Booster       22200.0           0.0     22200.0        0.000000\n",
            "15               Iqiyi          10.0          40.0       -30.0      -75.000000\n",
            "16                Fita           0.0           0.0         0.0        0.000000\n",
            "17             Genflix           0.0           0.0         0.0        0.000000\n",
            "18        Iflix (WeTV)           0.0           0.0         0.0        0.000000\n",
            "19         Indihome TV           0.0           0.0         0.0        0.000000\n",
            "20             Karaoke           0.0           0.0         0.0        0.000000\n",
            "21              Kuncie           0.0           0.0         0.0        0.000000\n",
            "22           Lionsgate           0.0           0.0         0.0        0.000000\n",
            "23                Mola           0.0           0.0         0.0        0.000000\n",
            "24             Netflix           0.0           0.0         0.0        0.000000\n",
            "25                Nomo           0.0           0.0         0.0        0.000000\n",
            "26           Sushiroll           0.0           0.0         0.0        0.000000\n",
            "27                 Viu           0.0           0.0         0.0        0.000000\n",
            "28                 VOD           0.0           0.0         0.0        0.000000\n",
            "29          IH Prepaid           0.0           0.0         0.0        0.000000\n",
            "30    Indihome Passive           0.0           0.0         0.0        0.000000\n",
            "31               Smooa           0.0           0.0         0.0        0.000000\n",
            "32      Kuota Personal           0.0           0.0         0.0        0.000000\n",
            "Elapsed time: 12.81 seconds\n"
          ]
        }
      ]
    },
    {
      "cell_type": "markdown",
      "source": [
        "Execute data visualization prompt."
      ],
      "metadata": {
        "id": "50KSnpZ33Wcs"
      }
    },
    {
      "cell_type": "code",
      "source": [
        "llm = LiteLLM(model=\"gemini/gemini-2.5-pro\", api_key=api_key)\n",
        "\n",
        "pai.config.set({\n",
        "    \"llm\": llm,\n",
        "})\n",
        "\n",
        "data_visualizer_start_time = time.time()\n",
        "\n",
        "if isinstance(data_manipulator_response, DataFrameResponse):\n",
        "    df_processed = data_manipulator_response.value\n",
        "else:\n",
        "    df_processed = data_manipulator_response\n",
        "\n",
        "assert isinstance(df_processed, pai.pd.DataFrame)\n",
        "#print(df_processed.head())\n",
        "\n",
        "data_visualizer = SmartDataframe(\n",
        "    df_processed,\n",
        "    config={\n",
        "        \"llm\": llm,\n",
        "        \"seed\": 1,\n",
        "        \"stream\": False,\n",
        "        \"verbosity\": \"low\", # (concise) low | medium | high (long)\n",
        "        \"drop_params\": True,\n",
        "        \"save_charts\": True,\n",
        "        \"open_charts\": False,\n",
        "        \"conversational\": False,\n",
        "        \"enforce_privacy\": True,\n",
        "        \"reasoning_effort\": \"medium\", # (faster) minimal | low | medium | high (depth)\n",
        "        \"save_charts_path\": \"./charts\"\n",
        "        }\n",
        ")\n",
        "data_visualizer_response = data_visualizer.chat(visualizer_prompt)\n",
        "data_visualizer_response\n",
        "\n",
        "data_visualizer_end_time = time.time()\n",
        "data_visualizer_elapsed_time = data_visualizer_end_time - data_visualizer_start_time\n",
        "print(f\"Elapsed time: {data_visualizer_elapsed_time:.2f} seconds\")"
      ],
      "metadata": {
        "id": "3SKgACHAxWbr",
        "colab": {
          "base_uri": "https://localhost:8080/"
        },
        "outputId": "a4de911b-2734-4101-e26f-38e7956969d3"
      },
      "execution_count": null,
      "outputs": [
        {
          "output_type": "stream",
          "name": "stderr",
          "text": [
            "/tmp/ipython-input-63-64552172.py:17: DeprecationWarning:\n",
            "\n",
            "\n",
            "********************************************************************************\n",
            "\u001b[1;33mDEPRECATION WARNING:\u001b[0m\n",
            "SmartDataframe will soon be deprecated. Please use df.chat() instead.\n",
            "********************************************************************************\n",
            "\n",
            "\n"
          ]
        },
        {
          "output_type": "stream",
          "name": "stdout",
          "text": [
            "Elapsed time: 160.60 seconds\n"
          ]
        }
      ]
    },
    {
      "cell_type": "markdown",
      "source": [
        "Display data visualizer generated chart."
      ],
      "metadata": {
        "id": "Q-mnUtJJ3YLG"
      }
    },
    {
      "cell_type": "code",
      "source": [
        "from IPython.display import HTML\n",
        "html_file_path = f'{data_visualizer_response.value}'\n",
        "html_file_path = data_visualizer_response.value.split(' ')[-1]\n",
        "with open(html_file_path, 'r') as f:\n",
        "        html_content = f.read()\n",
        "HTML(html_content)"
      ],
      "metadata": {
        "id": "HWZvTtE96hAB",
        "colab": {
          "base_uri": "https://localhost:8080/",
          "height": 467
        },
        "outputId": "dea86f9a-3d98-4772-df8d-1f974886a4da"
      },
      "execution_count": null,
      "outputs": [
        {
          "output_type": "execute_result",
          "data": {
            "text/plain": [
              "<IPython.core.display.HTML object>"
            ],
            "text/html": [
              "<html>\n",
              "<head><meta charset=\"utf-8\" /></head>\n",
              "<body>\n",
              "    <div>                        <script type=\"text/javascript\">window.PlotlyConfig = {MathJaxConfig: 'local'};</script>\n",
              "        <script charset=\"utf-8\" src=\"https://cdn.plot.ly/plotly-2.35.2.min.js\"></script>                <div id=\"86ef0365-1b4d-47aa-9e2f-874645effffc\" class=\"plotly-graph-div\" style=\"height:100%; width:100%;\"></div>            <script type=\"text/javascript\">                                    window.PLOTLYENV=window.PLOTLYENV || {};                                    if (document.getElementById(\"86ef0365-1b4d-47aa-9e2f-874645effffc\")) {                    Plotly.newPlot(                        \"86ef0365-1b4d-47aa-9e2f-874645effffc\",                        [{\"customdata\":[[\"20,428,000 IDR\",\"223.38%\"],[\"1,899,405 IDR\",\"43.80%\"],[\"1,838,000 IDR\",\"62.05%\"],[\"-1,222,519 IDR\",\"-31.08%\"],[\"644,000 IDR\",\"65.71%\"],[\"-630,000 IDR\",\"-11.49%\"],[\"-350,000 IDR\",\"-77.78%\"],[\"-292,795 IDR\",\"-100.00%\"],[\"236,000 IDR\",\"24.63%\"],[\"-160,000 IDR\",\"-100.00%\"]],\"hovertemplate\":\"\\u003cb\\u003eProduct:\\u003c\\u002fb\\u003e %{y}\\u003cbr\\u003e\\u003cb\\u003eRevenue Change:\\u003c\\u002fb\\u003e %{customdata[0]}\\u003cbr\\u003e\\u003cb\\u003ePercentage Change:\\u003c\\u002fb\\u003e %{customdata[1]}\\u003cextra\\u003e\\u003c\\u002fextra\\u003e\",\"marker\":{\"color\":[20428000.0,1899405.0,1838000.0,-1222519.0,644000.0,-630000.0,-350000.0,-292795.0,236000.0,-160000.0],\"colorbar\":{\"orientation\":\"h\",\"title\":{\"text\":\"Revenue Change (IDR)\"},\"x\":0.5,\"xanchor\":\"center\",\"y\":-0.25,\"yanchor\":\"top\"},\"colorscale\":[[0.0,\"rgb(198,219,239)\"],[0.16666666666666666,\"rgb(158,202,225)\"],[0.3333333333333333,\"rgb(107,174,214)\"],[0.5,\"rgb(66,146,198)\"],[0.6666666666666666,\"rgb(33,113,181)\"],[0.8333333333333334,\"rgb(8,81,156)\"],[1.0,\"rgb(8,48,107)\"]],\"showscale\":true},\"orientation\":\"h\",\"x\":[20428000.0,1899405.0,1838000.0,-1222519.0,644000.0,-630000.0,-350000.0,-292795.0,236000.0,-160000.0],\"y\":[\"Vidio\",\"Speed on Demand\",\"Catchplay\",\"Prime Video\",\"Speed Refreshment\",\"Kuota Keluarga\",\"Smarthome (IP Cam)\",\"Youtube Premium\",\"Minipack\",\"FTTR\"],\"type\":\"bar\"}],                        {\"template\":{\"data\":{\"histogram2dcontour\":[{\"type\":\"histogram2dcontour\",\"colorbar\":{\"outlinewidth\":0,\"ticks\":\"\"},\"colorscale\":[[0.0,\"#0d0887\"],[0.1111111111111111,\"#46039f\"],[0.2222222222222222,\"#7201a8\"],[0.3333333333333333,\"#9c179e\"],[0.4444444444444444,\"#bd3786\"],[0.5555555555555556,\"#d8576b\"],[0.6666666666666666,\"#ed7953\"],[0.7777777777777778,\"#fb9f3a\"],[0.8888888888888888,\"#fdca26\"],[1.0,\"#f0f921\"]]}],\"choropleth\":[{\"type\":\"choropleth\",\"colorbar\":{\"outlinewidth\":0,\"ticks\":\"\"}}],\"histogram2d\":[{\"type\":\"histogram2d\",\"colorbar\":{\"outlinewidth\":0,\"ticks\":\"\"},\"colorscale\":[[0.0,\"#0d0887\"],[0.1111111111111111,\"#46039f\"],[0.2222222222222222,\"#7201a8\"],[0.3333333333333333,\"#9c179e\"],[0.4444444444444444,\"#bd3786\"],[0.5555555555555556,\"#d8576b\"],[0.6666666666666666,\"#ed7953\"],[0.7777777777777778,\"#fb9f3a\"],[0.8888888888888888,\"#fdca26\"],[1.0,\"#f0f921\"]]}],\"heatmap\":[{\"type\":\"heatmap\",\"colorbar\":{\"outlinewidth\":0,\"ticks\":\"\"},\"colorscale\":[[0.0,\"#0d0887\"],[0.1111111111111111,\"#46039f\"],[0.2222222222222222,\"#7201a8\"],[0.3333333333333333,\"#9c179e\"],[0.4444444444444444,\"#bd3786\"],[0.5555555555555556,\"#d8576b\"],[0.6666666666666666,\"#ed7953\"],[0.7777777777777778,\"#fb9f3a\"],[0.8888888888888888,\"#fdca26\"],[1.0,\"#f0f921\"]]}],\"heatmapgl\":[{\"type\":\"heatmapgl\",\"colorbar\":{\"outlinewidth\":0,\"ticks\":\"\"},\"colorscale\":[[0.0,\"#0d0887\"],[0.1111111111111111,\"#46039f\"],[0.2222222222222222,\"#7201a8\"],[0.3333333333333333,\"#9c179e\"],[0.4444444444444444,\"#bd3786\"],[0.5555555555555556,\"#d8576b\"],[0.6666666666666666,\"#ed7953\"],[0.7777777777777778,\"#fb9f3a\"],[0.8888888888888888,\"#fdca26\"],[1.0,\"#f0f921\"]]}],\"contourcarpet\":[{\"type\":\"contourcarpet\",\"colorbar\":{\"outlinewidth\":0,\"ticks\":\"\"}}],\"contour\":[{\"type\":\"contour\",\"colorbar\":{\"outlinewidth\":0,\"ticks\":\"\"},\"colorscale\":[[0.0,\"#0d0887\"],[0.1111111111111111,\"#46039f\"],[0.2222222222222222,\"#7201a8\"],[0.3333333333333333,\"#9c179e\"],[0.4444444444444444,\"#bd3786\"],[0.5555555555555556,\"#d8576b\"],[0.6666666666666666,\"#ed7953\"],[0.7777777777777778,\"#fb9f3a\"],[0.8888888888888888,\"#fdca26\"],[1.0,\"#f0f921\"]]}],\"surface\":[{\"type\":\"surface\",\"colorbar\":{\"outlinewidth\":0,\"ticks\":\"\"},\"colorscale\":[[0.0,\"#0d0887\"],[0.1111111111111111,\"#46039f\"],[0.2222222222222222,\"#7201a8\"],[0.3333333333333333,\"#9c179e\"],[0.4444444444444444,\"#bd3786\"],[0.5555555555555556,\"#d8576b\"],[0.6666666666666666,\"#ed7953\"],[0.7777777777777778,\"#fb9f3a\"],[0.8888888888888888,\"#fdca26\"],[1.0,\"#f0f921\"]]}],\"mesh3d\":[{\"type\":\"mesh3d\",\"colorbar\":{\"outlinewidth\":0,\"ticks\":\"\"}}],\"scatter\":[{\"fillpattern\":{\"fillmode\":\"overlay\",\"size\":10,\"solidity\":0.2},\"type\":\"scatter\"}],\"parcoords\":[{\"type\":\"parcoords\",\"line\":{\"colorbar\":{\"outlinewidth\":0,\"ticks\":\"\"}}}],\"scatterpolargl\":[{\"type\":\"scatterpolargl\",\"marker\":{\"colorbar\":{\"outlinewidth\":0,\"ticks\":\"\"}}}],\"bar\":[{\"error_x\":{\"color\":\"#2a3f5f\"},\"error_y\":{\"color\":\"#2a3f5f\"},\"marker\":{\"line\":{\"color\":\"#E5ECF6\",\"width\":0.5},\"pattern\":{\"fillmode\":\"overlay\",\"size\":10,\"solidity\":0.2}},\"type\":\"bar\"}],\"scattergeo\":[{\"type\":\"scattergeo\",\"marker\":{\"colorbar\":{\"outlinewidth\":0,\"ticks\":\"\"}}}],\"scatterpolar\":[{\"type\":\"scatterpolar\",\"marker\":{\"colorbar\":{\"outlinewidth\":0,\"ticks\":\"\"}}}],\"histogram\":[{\"marker\":{\"pattern\":{\"fillmode\":\"overlay\",\"size\":10,\"solidity\":0.2}},\"type\":\"histogram\"}],\"scattergl\":[{\"type\":\"scattergl\",\"marker\":{\"colorbar\":{\"outlinewidth\":0,\"ticks\":\"\"}}}],\"scatter3d\":[{\"type\":\"scatter3d\",\"line\":{\"colorbar\":{\"outlinewidth\":0,\"ticks\":\"\"}},\"marker\":{\"colorbar\":{\"outlinewidth\":0,\"ticks\":\"\"}}}],\"scattermapbox\":[{\"type\":\"scattermapbox\",\"marker\":{\"colorbar\":{\"outlinewidth\":0,\"ticks\":\"\"}}}],\"scatterternary\":[{\"type\":\"scatterternary\",\"marker\":{\"colorbar\":{\"outlinewidth\":0,\"ticks\":\"\"}}}],\"scattercarpet\":[{\"type\":\"scattercarpet\",\"marker\":{\"colorbar\":{\"outlinewidth\":0,\"ticks\":\"\"}}}],\"carpet\":[{\"aaxis\":{\"endlinecolor\":\"#2a3f5f\",\"gridcolor\":\"white\",\"linecolor\":\"white\",\"minorgridcolor\":\"white\",\"startlinecolor\":\"#2a3f5f\"},\"baxis\":{\"endlinecolor\":\"#2a3f5f\",\"gridcolor\":\"white\",\"linecolor\":\"white\",\"minorgridcolor\":\"white\",\"startlinecolor\":\"#2a3f5f\"},\"type\":\"carpet\"}],\"table\":[{\"cells\":{\"fill\":{\"color\":\"#EBF0F8\"},\"line\":{\"color\":\"white\"}},\"header\":{\"fill\":{\"color\":\"#C8D4E3\"},\"line\":{\"color\":\"white\"}},\"type\":\"table\"}],\"barpolar\":[{\"marker\":{\"line\":{\"color\":\"#E5ECF6\",\"width\":0.5},\"pattern\":{\"fillmode\":\"overlay\",\"size\":10,\"solidity\":0.2}},\"type\":\"barpolar\"}],\"pie\":[{\"automargin\":true,\"type\":\"pie\"}]},\"layout\":{\"autotypenumbers\":\"strict\",\"colorway\":[\"#636efa\",\"#EF553B\",\"#00cc96\",\"#ab63fa\",\"#FFA15A\",\"#19d3f3\",\"#FF6692\",\"#B6E880\",\"#FF97FF\",\"#FECB52\"],\"font\":{\"color\":\"#2a3f5f\"},\"hovermode\":\"closest\",\"hoverlabel\":{\"align\":\"left\"},\"paper_bgcolor\":\"white\",\"plot_bgcolor\":\"#E5ECF6\",\"polar\":{\"bgcolor\":\"#E5ECF6\",\"angularaxis\":{\"gridcolor\":\"white\",\"linecolor\":\"white\",\"ticks\":\"\"},\"radialaxis\":{\"gridcolor\":\"white\",\"linecolor\":\"white\",\"ticks\":\"\"}},\"ternary\":{\"bgcolor\":\"#E5ECF6\",\"aaxis\":{\"gridcolor\":\"white\",\"linecolor\":\"white\",\"ticks\":\"\"},\"baxis\":{\"gridcolor\":\"white\",\"linecolor\":\"white\",\"ticks\":\"\"},\"caxis\":{\"gridcolor\":\"white\",\"linecolor\":\"white\",\"ticks\":\"\"}},\"coloraxis\":{\"colorbar\":{\"outlinewidth\":0,\"ticks\":\"\"}},\"colorscale\":{\"sequential\":[[0.0,\"#0d0887\"],[0.1111111111111111,\"#46039f\"],[0.2222222222222222,\"#7201a8\"],[0.3333333333333333,\"#9c179e\"],[0.4444444444444444,\"#bd3786\"],[0.5555555555555556,\"#d8576b\"],[0.6666666666666666,\"#ed7953\"],[0.7777777777777778,\"#fb9f3a\"],[0.8888888888888888,\"#fdca26\"],[1.0,\"#f0f921\"]],\"sequentialminus\":[[0.0,\"#0d0887\"],[0.1111111111111111,\"#46039f\"],[0.2222222222222222,\"#7201a8\"],[0.3333333333333333,\"#9c179e\"],[0.4444444444444444,\"#bd3786\"],[0.5555555555555556,\"#d8576b\"],[0.6666666666666666,\"#ed7953\"],[0.7777777777777778,\"#fb9f3a\"],[0.8888888888888888,\"#fdca26\"],[1.0,\"#f0f921\"]],\"diverging\":[[0,\"#8e0152\"],[0.1,\"#c51b7d\"],[0.2,\"#de77ae\"],[0.3,\"#f1b6da\"],[0.4,\"#fde0ef\"],[0.5,\"#f7f7f7\"],[0.6,\"#e6f5d0\"],[0.7,\"#b8e186\"],[0.8,\"#7fbc41\"],[0.9,\"#4d9221\"],[1,\"#276419\"]]},\"xaxis\":{\"gridcolor\":\"white\",\"linecolor\":\"white\",\"ticks\":\"\",\"title\":{\"standoff\":15},\"zerolinecolor\":\"white\",\"automargin\":true,\"zerolinewidth\":2},\"yaxis\":{\"gridcolor\":\"white\",\"linecolor\":\"white\",\"ticks\":\"\",\"title\":{\"standoff\":15},\"zerolinecolor\":\"white\",\"automargin\":true,\"zerolinewidth\":2},\"scene\":{\"xaxis\":{\"backgroundcolor\":\"#E5ECF6\",\"gridcolor\":\"white\",\"linecolor\":\"white\",\"showbackground\":true,\"ticks\":\"\",\"zerolinecolor\":\"white\",\"gridwidth\":2},\"yaxis\":{\"backgroundcolor\":\"#E5ECF6\",\"gridcolor\":\"white\",\"linecolor\":\"white\",\"showbackground\":true,\"ticks\":\"\",\"zerolinecolor\":\"white\",\"gridwidth\":2},\"zaxis\":{\"backgroundcolor\":\"#E5ECF6\",\"gridcolor\":\"white\",\"linecolor\":\"white\",\"showbackground\":true,\"ticks\":\"\",\"zerolinecolor\":\"white\",\"gridwidth\":2}},\"shapedefaults\":{\"line\":{\"color\":\"#2a3f5f\"}},\"annotationdefaults\":{\"arrowcolor\":\"#2a3f5f\",\"arrowhead\":0,\"arrowwidth\":1},\"geo\":{\"bgcolor\":\"white\",\"landcolor\":\"#E5ECF6\",\"subunitcolor\":\"white\",\"showland\":true,\"showlakes\":true,\"lakecolor\":\"white\"},\"title\":{\"x\":0.05},\"mapbox\":{\"style\":\"light\"}}},\"xaxis\":{\"title\":{\"text\":\"Revenue Change (IDR)\"},\"tickformat\":\",.0f\"},\"yaxis\":{\"title\":{},\"categoryorder\":\"total ascending\"},\"margin\":{\"t\":100,\"l\":150,\"b\":120},\"title\":{\"text\":\"\\u003cb\\u003eTop 10 Product Revenue Drivers (This Month vs. Last Month)\\u003c\\u002fb\\u003e\\u003cbr\\u003e\\u003csub\\u003eChange in Indonesian Rupiah (IDR)\\u003c\\u002fsub\\u003e\"}},                        {\"responsive\": true}                    )                };                            </script>        </div>\n",
              "</body>\n",
              "</html>"
            ]
          },
          "metadata": {},
          "execution_count": 64
        }
      ]
    },
    {
      "cell_type": "markdown",
      "source": [
        "OR"
      ],
      "metadata": {
        "id": "FYB5jdzAHyeb"
      }
    },
    {
      "cell_type": "markdown",
      "source": [
        "Execute data analyzation prompt."
      ],
      "metadata": {
        "id": "16sGnqHh3Ymt"
      }
    },
    {
      "cell_type": "code",
      "source": [
        "llm = LiteLLM(model=\"gemini/gemini-2.5-pro\", api_key=api_key)\n",
        "\n",
        "pai.config.set({\n",
        "    \"llm\": llm,\n",
        "})\n",
        "\n",
        "data_analyzer_start_time = time.time()\n",
        "\n",
        "data_analyzer = SmartDataframe(\n",
        "    df_processed,\n",
        "    config={\n",
        "        \"llm\": llm,\n",
        "        \"seed\": 1,\n",
        "        \"stream\": False,\n",
        "        \"verbosity\": \"low\", # (concise) low | medium | high (long)\n",
        "        \"drop_params\": True,\n",
        "        \"save_charts\": False,\n",
        "        \"open_charts\": False,\n",
        "        \"conversational\": True,\n",
        "        \"enforce_privacy\": False,\n",
        "        \"reasoning_effort\": \"medium\", # (faster) minimal | low | medium | high (depth)\n",
        "        \"save_charts_path\": \"./charts\"\n",
        "    }\n",
        ")\n",
        "data_analyzer_response = data_analyzer.chat(analyzer_prompt)\n",
        "\n",
        "data_analyzer_content = get_content(data_analyzer_response)\n",
        "print(data_analyzer_content)\n",
        "\n",
        "data_analyzer_end_time = time.time()\n",
        "data_analyzer_elapsed_time = data_analyzer_end_time - data_analyzer_start_time\n",
        "print(f\"Elapsed time: {data_analyzer_elapsed_time:.2f} seconds\")"
      ],
      "metadata": {
        "id": "WFZOpRBDxW-R",
        "colab": {
          "base_uri": "https://localhost:8080/"
        },
        "outputId": "4e1d5644-ff17-4e7e-9bcc-95e184b6dfc7"
      },
      "execution_count": null,
      "outputs": [
        {
          "output_type": "stream",
          "name": "stderr",
          "text": [
            "/tmp/ipython-input-65-1326886857.py:9: DeprecationWarning:\n",
            "\n",
            "\n",
            "********************************************************************************\n",
            "\u001b[1;33mDEPRECATION WARNING:\u001b[0m\n",
            "SmartDataframe will soon be deprecated. Please use df.chat() instead.\n",
            "********************************************************************************\n",
            "\n",
            "\n"
          ]
        },
        {
          "output_type": "stream",
          "name": "stdout",
          "text": [
            "• Overall revenue grew significantly from IDR 29.97M to IDR 52.24M, an absolute increase of IDR 22.27M (74.30%).\n",
            "• The primary growth drivers were Vidio (IDR 20.43M), Speed on Demand (IDR 1.90M), Catchplay (IDR 1.84M), with 'Vidio' alone contributing the vast majority of the increase.\n",
            "• In contrast, the largest revenue decline was observed in Prime Video (IDR -1.22M), Kuota Keluarga (IDR -630.00K), Smarthome (IP Cam) (IDR -350.00K), partially offsetting the gains.\n",
            "Elapsed time: 36.99 seconds\n"
          ]
        }
      ]
    },
    {
      "cell_type": "markdown",
      "source": [
        "# Compile reponses."
      ],
      "metadata": {
        "id": "HnI_Ir5bJLHY"
      }
    },
    {
      "cell_type": "markdown",
      "source": [
        "Compile the response of all 3 pandasai agents to respond the user prompt."
      ],
      "metadata": {
        "id": "F6FpJ7IQ3qSB"
      }
    },
    {
      "cell_type": "code",
      "source": [
        "response_compiler_start_time = time.time()\n",
        "\n",
        "buf = io.StringIO()\n",
        "df.info(buf=buf)\n",
        "data_info = buf.getvalue()\n",
        "\n",
        "final_response = completion(\n",
        "    model=\"gemini/gemini-2.5-pro\",\n",
        "    messages=[\n",
        "        {\"role\": \"system\", \"content\": compiler_instruction},\n",
        "        {\"role\": \"user\", \"content\": f\"User Prompt:{user_prompt}. \\nDatasets Domain name: {domain}. \\nData Info:{data_info}. \\nData Describe:{data_describe}. \\nData Manipulator Response:{data_manipulator_response}. \\nData Visualizer Response:{data_visualizer_response.value}. \\nData Analyzer Response:{data_analyzer_response}.\"},\n",
        "        ],\n",
        "    seed=1,\n",
        "    stream=False,\n",
        "    verbosity=\"medium\", # (concise) low | medium | high (long)\n",
        "    drop_params=True,\n",
        "    reasoning_effort=\"medium\", # (faster) minimal | low | medium | high (depth)\n",
        "    )\n",
        "final_content = get_content(final_response)\n",
        "print(final_content)\n",
        "\n",
        "response_compiler_end_time = time.time()\n",
        "response_compiler_elapsed_time = response_compiler_end_time - response_compiler_start_time\n",
        "print(f\"Elapsed time: {response_compiler_elapsed_time:.2f} seconds\")\n",
        "print(f\"Total response time: {(orchestrator_elapsed_time+data_manipulator_elapsed_time+data_visualizer_elapsed_time+data_analyzer_elapsed_time+response_compiler_elapsed_time):.2f}\")"
      ],
      "metadata": {
        "id": "oC1OpoNL5DPA",
        "colab": {
          "base_uri": "https://localhost:8080/"
        },
        "outputId": "5b9aab51-ecf0-49de-e1d6-68635141936a"
      },
      "execution_count": null,
      "outputs": [
        {
          "output_type": "stream",
          "name": "stdout",
          "text": [
            "**Bottom line:** Revenue increased by IDR 22.27M (+74.3%) this month compared to last month, rising from IDR 29.97M to IDR 52.24M.\n",
            "\n",
            "**Drivers:**\n",
            "*   **Vidio:** +IDR 20.43M (+223.4%), contributing over 90% of the total growth.\n",
            "*   **Speed on Demand:** +IDR 1.90M (+43.8%), the second-largest growth driver.\n",
            "*   **Prime Video:** -IDR 1.22M (-31.1%), the largest negative driver, partially offsetting gains.\n",
            "\n",
            "**Next Actions:**\n",
            "1.  **Investigate Vidio's success:** Deep dive into the campaigns, content, or pricing changes that drove the +IDR 20.4M surge to replicate this success.\n",
            "2.  **Diagnose Prime Video's decline:** Analyze customer churn and acquisition data for Prime Video to understand and reverse the -IDR 1.2M drop.\n",
            "3.  **Analyze other growers:** Review the performance of \"Speed on Demand\" and \"Catchplay\" to see if successful tactics can be applied to other products.\n",
            "\n",
            "**Caveats:** Analysis is based on aggregated product revenue; it does not decompose changes into price vs. volume drivers.\n",
            "**Confidence:** High\n",
            "Elapsed time: 21.98 seconds\n",
            "Total response time: 264.18\n"
          ]
        }
      ]
    },
    {
      "cell_type": "markdown",
      "source": [
        "# Test Summary <br>\n",
        "User prompt:<br>\n",
        "What were the biggest product-level drivers of our revenue change this month vs. last month?\n",
        "<br><br>\n",
        "\n",
        "\n",
        "The challenge:<br>\n",
        "Data Fragmentation: The answer requires identifying the correct dataframe among more than a dozen different, unlabeled dataframes. The system must find the specific table containing product-level data with month-over-month metrics (df with columns product, rev_m0, rev_m1) and ignore irrelevant summaries by region, channel, or area.<br>\n",
        "\n",
        "Implicit Logic: The user asks for \"revenue change this month vs. last month\" in natural language. The system must correctly infer that this requires calculating a delta between the rev_m0 and rev_m1 columns, rather than filtering by a date column (which doesn't exist in that specific table).<br>\n",
        "\n",
        "Synthesis and Attribution: Answering \"what were the drivers\" is not a simple data pull. It requires the system to perform a calculation (delta), sort the results by the magnitude of that delta, and then correctly attribute the largest positive and negative changes to specific products.<br>\n",
        "\n",
        "Action-Oriented Output: A truly impressive answer, as defined by your compiler_instruction, goes beyond the data. It must synthesize the findings into a \"Bottom Line,\" quantify the top 3 drivers, and propose concrete \"Next Actions.\" This leap from raw calculation to strategic recommendation is a significant analytical challenge.\n",
        "<br><br>\n",
        "\n",
        "\n",
        "The LLM models configuration:<br>\n",
        "model = gemini-2.5-pro, gemini-2.5-pro, gemini-2.5-pro, gemini-2.5-pro, gemini-2.5-pro<br>\n",
        "verbosity = low, low, low, low, medium<br>\n",
        "reasoning effort = high, medium, medium, medium, medium<br><br>\n",
        "\n",
        "\n",
        "The response:<br>\n",
        "![image.png](data:image/png;base64,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)\n",
        "**Bottom line:** Revenue increased by IDR 22.27M (+74.3%) this month compared to last month, rising from IDR 29.97M to IDR 52.24M.\n",
        "\n",
        "**Drivers:**\n",
        "*   **Vidio:** +IDR 20.43M (+223.4%), contributing over 90% of the total growth.\n",
        "*   **Speed on Demand:** +IDR 1.90M (+43.8%), the second-largest growth driver.\n",
        "*   **Prime Video:** -IDR 1.22M (-31.1%), the largest negative driver, partially offsetting gains.\n",
        "\n",
        "**Next Actions:**\n",
        "1.  **Investigate Vidio's success:** Deep dive into the campaigns, content, or pricing changes that drove the +IDR 20.4M surge to replicate this success.\n",
        "2.  **Diagnose Prime Video's decline:** Analyze customer churn and acquisition data for Prime Video to understand and reverse the -IDR 1.2M drop.\n",
        "3.  **Analyze other growers:** Review the performance of \"Speed on Demand\" and \"Catchplay\" to see if successful tactics can be applied to other products.\n",
        "\n",
        "**Caveats:** Analysis is based on aggregated product revenue; it does not decompose changes into price vs. volume drivers.\n",
        "**Confidence:** High\n",
        "<br><br>\n",
        "\n",
        "Total response time = 264.18 = 4m 24.18s<br>"
      ],
      "metadata": {
        "id": "C20UeKLvSIts"
      }
    }
  ]
}